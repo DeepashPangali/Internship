{
 "cells": [
  {
   "cell_type": "markdown",
   "id": "c91a435c",
   "metadata": {},
   "source": [
    "# Web Scraping Assignment-1"
   ]
  },
  {
   "cell_type": "markdown",
   "id": "79a7fcd0",
   "metadata": {},
   "source": [
    "**Q1.Write a python program to display all the header tags from wikipedia.org.**"
   ]
  },
  {
   "cell_type": "code",
   "execution_count": 1,
   "id": "d3ab4991",
   "metadata": {},
   "outputs": [],
   "source": [
    "import requests\n",
    "from bs4 import BeautifulSoup\n",
    "import pandas as pd"
   ]
  },
  {
   "cell_type": "code",
   "execution_count": 2,
   "id": "ba811b5b",
   "metadata": {},
   "outputs": [
    {
     "data": {
      "text/plain": [
       "<Response [200]>"
      ]
     },
     "execution_count": 2,
     "metadata": {},
     "output_type": "execute_result"
    }
   ],
   "source": [
    "respond=requests.get(\"https://en.wikipedia.org/wiki/Main_Page\")\n",
    "respond"
   ]
  },
  {
   "cell_type": "code",
   "execution_count": 3,
   "id": "bb83a3e8",
   "metadata": {},
   "outputs": [
    {
     "data": {
      "text/plain": [
       "['Main Page',\n",
       " 'Welcome to Wikipedia',\n",
       " \"From today's featured article\",\n",
       " 'Did you know\\xa0...',\n",
       " 'In the news',\n",
       " 'On this day',\n",
       " \"Today's featured picture\",\n",
       " 'Other areas of Wikipedia',\n",
       " \"Wikipedia's sister projects\",\n",
       " 'Wikipedia languages',\n",
       " 'Navigation menu',\n",
       " 'Personal tools',\n",
       " 'Namespaces',\n",
       " 'English\\nexpanded\\ncollapsed',\n",
       " 'Views',\n",
       " 'More\\nexpanded\\ncollapsed',\n",
       " 'Search',\n",
       " 'Navigation',\n",
       " 'Contribute',\n",
       " 'Tools',\n",
       " 'Print/export',\n",
       " 'In other projects',\n",
       " 'Languages']"
      ]
     },
     "execution_count": 3,
     "metadata": {},
     "output_type": "execute_result"
    }
   ],
   "source": [
    "page=respond.content\n",
    "soup=BeautifulSoup(page,'html.parser')\n",
    "z=soup.find_all(['h1','h2','h3','h4','h5','h6'])#The most commonly used HTML tags in webpages are h1, h2 and h3.\n",
    "headtag=[]\n",
    "for tags in z:\n",
    "    headtag.append(tags.text.strip())\n",
    "headtag"
   ]
  },
  {
   "cell_type": "markdown",
   "id": "c988525a",
   "metadata": {},
   "source": [
    "**Q2.Write a python program to display IMDB’s Top rated 100 movies’ data (i.e. name, rating, year of release)\n",
    "and make data frame.**"
   ]
  },
  {
   "cell_type": "code",
   "execution_count": 4,
   "id": "95253616",
   "metadata": {},
   "outputs": [
    {
     "data": {
      "text/plain": [
       "200"
      ]
     },
     "execution_count": 4,
     "metadata": {},
     "output_type": "execute_result"
    }
   ],
   "source": [
    "url='https://www.imdb.com/list/ls091520106/'\n",
    "respond1=requests.get(url)\n",
    "respond1.status_code"
   ]
  },
  {
   "cell_type": "code",
   "execution_count": 5,
   "id": "c9dd91d0",
   "metadata": {},
   "outputs": [],
   "source": [
    "page1=respond1.content\n",
    "soup1=BeautifulSoup(page1,'html.parser')\n",
    "Name=soup1.find_all('h3',class_=\"lister-item-header\")\n",
    "rating=soup1.find_all(class_=\"ipl-rating-star small\")\n",
    "release=soup1.find_all('span',class_=\"lister-item-year text-muted unbold\")"
   ]
  },
  {
   "cell_type": "code",
   "execution_count": 6,
   "id": "184699ef",
   "metadata": {},
   "outputs": [],
   "source": [
    "nm=[]\n",
    "rt=[]\n",
    "rls=[]\n",
    "for i in Name:\n",
    "    nm.append(i.a.text)\n",
    "for  i in  rating:\n",
    "    rt.append(i.text.strip())#removes newline character\n",
    "for i in  release:\n",
    "    rls.append(i.text.replace(i.text[0],\"\").replace(i.text[-1],\"\"))#removes Parenthesis"
   ]
  },
  {
   "cell_type": "code",
   "execution_count": 7,
   "id": "62470055",
   "metadata": {},
   "outputs": [],
   "source": [
    "Rankings={\"Movie Name\":nm,\"Ratings\":rt,\"Release  Date\":rls}"
   ]
  },
  {
   "cell_type": "code",
   "execution_count": 8,
   "id": "793ea384",
   "metadata": {},
   "outputs": [],
   "source": [
    "df=pd.DataFrame(Rankings,index=list(range(1,101)))"
   ]
  },
  {
   "cell_type": "code",
   "execution_count": 9,
   "id": "80cd1ec9",
   "metadata": {},
   "outputs": [
    {
     "data": {
      "text/html": [
       "<div>\n",
       "<style scoped>\n",
       "    .dataframe tbody tr th:only-of-type {\n",
       "        vertical-align: middle;\n",
       "    }\n",
       "\n",
       "    .dataframe tbody tr th {\n",
       "        vertical-align: top;\n",
       "    }\n",
       "\n",
       "    .dataframe thead th {\n",
       "        text-align: right;\n",
       "    }\n",
       "</style>\n",
       "<table border=\"1\" class=\"dataframe\">\n",
       "  <thead>\n",
       "    <tr style=\"text-align: right;\">\n",
       "      <th></th>\n",
       "      <th>Movie Name</th>\n",
       "      <th>Ratings</th>\n",
       "      <th>Release  Date</th>\n",
       "    </tr>\n",
       "  </thead>\n",
       "  <tbody>\n",
       "    <tr>\n",
       "      <th>1</th>\n",
       "      <td>The Shawshank Redemption</td>\n",
       "      <td>9.3</td>\n",
       "      <td>1994</td>\n",
       "    </tr>\n",
       "    <tr>\n",
       "      <th>2</th>\n",
       "      <td>The Godfather</td>\n",
       "      <td>9.2</td>\n",
       "      <td>1972</td>\n",
       "    </tr>\n",
       "    <tr>\n",
       "      <th>3</th>\n",
       "      <td>The Godfather: Part II</td>\n",
       "      <td>9</td>\n",
       "      <td>1974</td>\n",
       "    </tr>\n",
       "    <tr>\n",
       "      <th>4</th>\n",
       "      <td>The Dark Knight</td>\n",
       "      <td>9</td>\n",
       "      <td>2008</td>\n",
       "    </tr>\n",
       "    <tr>\n",
       "      <th>5</th>\n",
       "      <td>12 Angry Men</td>\n",
       "      <td>9</td>\n",
       "      <td>1957</td>\n",
       "    </tr>\n",
       "    <tr>\n",
       "      <th>...</th>\n",
       "      <td>...</td>\n",
       "      <td>...</td>\n",
       "      <td>...</td>\n",
       "    </tr>\n",
       "    <tr>\n",
       "      <th>96</th>\n",
       "      <td>North by Northwest</td>\n",
       "      <td>8.3</td>\n",
       "      <td>1959</td>\n",
       "    </tr>\n",
       "    <tr>\n",
       "      <th>97</th>\n",
       "      <td>A Clockwork Orange</td>\n",
       "      <td>8.3</td>\n",
       "      <td>1971</td>\n",
       "    </tr>\n",
       "    <tr>\n",
       "      <th>98</th>\n",
       "      <td>Snatch</td>\n",
       "      <td>8.2</td>\n",
       "      <td>2000</td>\n",
       "    </tr>\n",
       "    <tr>\n",
       "      <th>99</th>\n",
       "      <td>Le fabuleux destin d'Amélie Poulain</td>\n",
       "      <td>8.3</td>\n",
       "      <td>2001</td>\n",
       "    </tr>\n",
       "    <tr>\n",
       "      <th>100</th>\n",
       "      <td>The Kid</td>\n",
       "      <td>8.3</td>\n",
       "      <td>1921</td>\n",
       "    </tr>\n",
       "  </tbody>\n",
       "</table>\n",
       "<p>100 rows × 3 columns</p>\n",
       "</div>"
      ],
      "text/plain": [
       "                              Movie Name Ratings Release  Date\n",
       "1               The Shawshank Redemption     9.3          1994\n",
       "2                          The Godfather     9.2          1972\n",
       "3                 The Godfather: Part II       9          1974\n",
       "4                        The Dark Knight       9          2008\n",
       "5                           12 Angry Men       9          1957\n",
       "..                                   ...     ...           ...\n",
       "96                    North by Northwest     8.3          1959\n",
       "97                    A Clockwork Orange     8.3          1971\n",
       "98                                Snatch     8.2          2000\n",
       "99   Le fabuleux destin d'Amélie Poulain     8.3          2001\n",
       "100                              The Kid     8.3          1921\n",
       "\n",
       "[100 rows x 3 columns]"
      ]
     },
     "execution_count": 9,
     "metadata": {},
     "output_type": "execute_result"
    }
   ],
   "source": [
    "df"
   ]
  },
  {
   "cell_type": "code",
   "execution_count": 10,
   "id": "88a9c8be",
   "metadata": {},
   "outputs": [
    {
     "data": {
      "text/html": [
       "<div>\n",
       "<style scoped>\n",
       "    .dataframe tbody tr th:only-of-type {\n",
       "        vertical-align: middle;\n",
       "    }\n",
       "\n",
       "    .dataframe tbody tr th {\n",
       "        vertical-align: top;\n",
       "    }\n",
       "\n",
       "    .dataframe thead th {\n",
       "        text-align: right;\n",
       "    }\n",
       "</style>\n",
       "<table border=\"1\" class=\"dataframe\">\n",
       "  <thead>\n",
       "    <tr style=\"text-align: right;\">\n",
       "      <th></th>\n",
       "      <th>Movie Name</th>\n",
       "      <th>Ratings</th>\n",
       "      <th>Release  Date</th>\n",
       "    </tr>\n",
       "  </thead>\n",
       "  <tbody>\n",
       "    <tr>\n",
       "      <th>1</th>\n",
       "      <td>The Shawshank Redemption</td>\n",
       "      <td>9.3</td>\n",
       "      <td>1994</td>\n",
       "    </tr>\n",
       "    <tr>\n",
       "      <th>2</th>\n",
       "      <td>The Godfather</td>\n",
       "      <td>9.2</td>\n",
       "      <td>1972</td>\n",
       "    </tr>\n",
       "    <tr>\n",
       "      <th>3</th>\n",
       "      <td>The Godfather: Part II</td>\n",
       "      <td>9</td>\n",
       "      <td>1974</td>\n",
       "    </tr>\n",
       "    <tr>\n",
       "      <th>4</th>\n",
       "      <td>The Dark Knight</td>\n",
       "      <td>9</td>\n",
       "      <td>2008</td>\n",
       "    </tr>\n",
       "    <tr>\n",
       "      <th>5</th>\n",
       "      <td>12 Angry Men</td>\n",
       "      <td>9</td>\n",
       "      <td>1957</td>\n",
       "    </tr>\n",
       "    <tr>\n",
       "      <th>6</th>\n",
       "      <td>Schindler's List</td>\n",
       "      <td>8.9</td>\n",
       "      <td>1993</td>\n",
       "    </tr>\n",
       "    <tr>\n",
       "      <th>7</th>\n",
       "      <td>The Lord of the Rings: The Return of the King</td>\n",
       "      <td>8.9</td>\n",
       "      <td>2003</td>\n",
       "    </tr>\n",
       "    <tr>\n",
       "      <th>8</th>\n",
       "      <td>Pulp Fiction</td>\n",
       "      <td>8.9</td>\n",
       "      <td>1994</td>\n",
       "    </tr>\n",
       "    <tr>\n",
       "      <th>9</th>\n",
       "      <td>Il buono, il brutto, il cattivo</td>\n",
       "      <td>8.8</td>\n",
       "      <td>1966</td>\n",
       "    </tr>\n",
       "    <tr>\n",
       "      <th>10</th>\n",
       "      <td>Fight Club</td>\n",
       "      <td>8.8</td>\n",
       "      <td>1999</td>\n",
       "    </tr>\n",
       "    <tr>\n",
       "      <th>11</th>\n",
       "      <td>Joker</td>\n",
       "      <td>8.4</td>\n",
       "      <td>I 2019</td>\n",
       "    </tr>\n",
       "    <tr>\n",
       "      <th>12</th>\n",
       "      <td>The Lord of the Rings: The Fellowship of the Ring</td>\n",
       "      <td>8.8</td>\n",
       "      <td>2001</td>\n",
       "    </tr>\n",
       "    <tr>\n",
       "      <th>13</th>\n",
       "      <td>Forrest Gump</td>\n",
       "      <td>8.8</td>\n",
       "      <td>1994</td>\n",
       "    </tr>\n",
       "    <tr>\n",
       "      <th>14</th>\n",
       "      <td>Inception</td>\n",
       "      <td>8.8</td>\n",
       "      <td>2010</td>\n",
       "    </tr>\n",
       "    <tr>\n",
       "      <th>15</th>\n",
       "      <td>The Empire Strikes Back</td>\n",
       "      <td>8.7</td>\n",
       "      <td>1980</td>\n",
       "    </tr>\n",
       "  </tbody>\n",
       "</table>\n",
       "</div>"
      ],
      "text/plain": [
       "                                           Movie Name Ratings Release  Date\n",
       "1                            The Shawshank Redemption     9.3          1994\n",
       "2                                       The Godfather     9.2          1972\n",
       "3                              The Godfather: Part II       9          1974\n",
       "4                                     The Dark Knight       9          2008\n",
       "5                                        12 Angry Men       9          1957\n",
       "6                                    Schindler's List     8.9          1993\n",
       "7       The Lord of the Rings: The Return of the King     8.9          2003\n",
       "8                                        Pulp Fiction     8.9          1994\n",
       "9                     Il buono, il brutto, il cattivo     8.8          1966\n",
       "10                                         Fight Club     8.8          1999\n",
       "11                                              Joker     8.4        I 2019\n",
       "12  The Lord of the Rings: The Fellowship of the Ring     8.8          2001\n",
       "13                                       Forrest Gump     8.8          1994\n",
       "14                                          Inception     8.8          2010\n",
       "15                            The Empire Strikes Back     8.7          1980"
      ]
     },
     "execution_count": 10,
     "metadata": {},
     "output_type": "execute_result"
    }
   ],
   "source": [
    "df.head(15)"
   ]
  },
  {
   "cell_type": "markdown",
   "id": "6b776be9",
   "metadata": {},
   "source": [
    "**Q3.Write a python program to display IMDB’s Top rated 100 Indian movies’ data (i.e. name, rating, year of\n",
    "release) and make data frame**"
   ]
  },
  {
   "cell_type": "code",
   "execution_count": 11,
   "id": "e6e513a2",
   "metadata": {},
   "outputs": [
    {
     "data": {
      "text/plain": [
       "200"
      ]
     },
     "execution_count": 11,
     "metadata": {},
     "output_type": "execute_result"
    }
   ],
   "source": [
    "url1='https://www.imdb.com/india/top-rated-indian-movies/'\n",
    "respond2=requests.get(url1)\n",
    "respond2.status_code"
   ]
  },
  {
   "cell_type": "code",
   "execution_count": 12,
   "id": "380a8f27",
   "metadata": {},
   "outputs": [],
   "source": [
    "page2=respond2.content\n",
    "soup2=BeautifulSoup(page2,'html.parser')"
   ]
  },
  {
   "cell_type": "code",
   "execution_count": 13,
   "id": "12429892",
   "metadata": {},
   "outputs": [],
   "source": [
    "Name1=soup2.find_all('td',class_=\"titleColumn\")\n",
    "Rating1=soup2.find_all('td',class_=\"ratingColumn imdbRating\")\n",
    "Release1=soup2.find_all('span',class_=\"secondaryInfo\")"
   ]
  },
  {
   "cell_type": "code",
   "execution_count": 14,
   "id": "d2cb53b1",
   "metadata": {},
   "outputs": [],
   "source": [
    "nm1=[]\n",
    "rt1=[]\n",
    "rls1=[]\n",
    "for i in Name1:\n",
    "    nm1.append(i.a.text)\n",
    "for i in Rating1:\n",
    "    rt1.append(i.text.strip())\n",
    "for  i in Release1:\n",
    "    rls1.append(i.text.replace(i.text[0],'').replace(i.text[-1],\"\"))"
   ]
  },
  {
   "cell_type": "code",
   "execution_count": 15,
   "id": "95f46a41",
   "metadata": {},
   "outputs": [],
   "source": [
    "Hindi_Movies={\"Movie Name\":nm1[:100],\"Ratings\":rt1[:100],'Release Date':rls1[:100]}\n",
    "df1=pd.DataFrame(Hindi_Movies,index=list(range(1,101)))"
   ]
  },
  {
   "cell_type": "code",
   "execution_count": 16,
   "id": "9ea6557d",
   "metadata": {},
   "outputs": [
    {
     "data": {
      "text/html": [
       "<div>\n",
       "<style scoped>\n",
       "    .dataframe tbody tr th:only-of-type {\n",
       "        vertical-align: middle;\n",
       "    }\n",
       "\n",
       "    .dataframe tbody tr th {\n",
       "        vertical-align: top;\n",
       "    }\n",
       "\n",
       "    .dataframe thead th {\n",
       "        text-align: right;\n",
       "    }\n",
       "</style>\n",
       "<table border=\"1\" class=\"dataframe\">\n",
       "  <thead>\n",
       "    <tr style=\"text-align: right;\">\n",
       "      <th></th>\n",
       "      <th>Movie Name</th>\n",
       "      <th>Ratings</th>\n",
       "      <th>Release Date</th>\n",
       "    </tr>\n",
       "  </thead>\n",
       "  <tbody>\n",
       "    <tr>\n",
       "      <th>1</th>\n",
       "      <td>Pariyerum Perumal</td>\n",
       "      <td>8.5</td>\n",
       "      <td>2018</td>\n",
       "    </tr>\n",
       "    <tr>\n",
       "      <th>2</th>\n",
       "      <td>Nayakan</td>\n",
       "      <td>8.5</td>\n",
       "      <td>1987</td>\n",
       "    </tr>\n",
       "    <tr>\n",
       "      <th>3</th>\n",
       "      <td>C/o Kancharapalem</td>\n",
       "      <td>8.5</td>\n",
       "      <td>2018</td>\n",
       "    </tr>\n",
       "    <tr>\n",
       "      <th>4</th>\n",
       "      <td>Anbe Sivam</td>\n",
       "      <td>8.5</td>\n",
       "      <td>2003</td>\n",
       "    </tr>\n",
       "    <tr>\n",
       "      <th>5</th>\n",
       "      <td>Kireedam</td>\n",
       "      <td>8.5</td>\n",
       "      <td>1989</td>\n",
       "    </tr>\n",
       "    <tr>\n",
       "      <th>...</th>\n",
       "      <td>...</td>\n",
       "      <td>...</td>\n",
       "      <td>...</td>\n",
       "    </tr>\n",
       "    <tr>\n",
       "      <th>96</th>\n",
       "      <td>Charulata</td>\n",
       "      <td>8.1</td>\n",
       "      <td>1964</td>\n",
       "    </tr>\n",
       "    <tr>\n",
       "      <th>97</th>\n",
       "      <td>Sarfarosh</td>\n",
       "      <td>8.1</td>\n",
       "      <td>1999</td>\n",
       "    </tr>\n",
       "    <tr>\n",
       "      <th>98</th>\n",
       "      <td>Uri: The Surgical Strike</td>\n",
       "      <td>8.1</td>\n",
       "      <td>2019</td>\n",
       "    </tr>\n",
       "    <tr>\n",
       "      <th>99</th>\n",
       "      <td>Roja</td>\n",
       "      <td>8.1</td>\n",
       "      <td>1992</td>\n",
       "    </tr>\n",
       "    <tr>\n",
       "      <th>100</th>\n",
       "      <td>Rang De Basanti</td>\n",
       "      <td>8.1</td>\n",
       "      <td>2006</td>\n",
       "    </tr>\n",
       "  </tbody>\n",
       "</table>\n",
       "<p>100 rows × 3 columns</p>\n",
       "</div>"
      ],
      "text/plain": [
       "                   Movie Name Ratings Release Date\n",
       "1           Pariyerum Perumal     8.5         2018\n",
       "2                     Nayakan     8.5         1987\n",
       "3           C/o Kancharapalem     8.5         2018\n",
       "4                  Anbe Sivam     8.5         2003\n",
       "5                    Kireedam     8.5         1989\n",
       "..                        ...     ...          ...\n",
       "96                  Charulata     8.1         1964\n",
       "97                  Sarfarosh     8.1         1999\n",
       "98   Uri: The Surgical Strike     8.1         2019\n",
       "99                       Roja     8.1         1992\n",
       "100           Rang De Basanti     8.1         2006\n",
       "\n",
       "[100 rows x 3 columns]"
      ]
     },
     "execution_count": 16,
     "metadata": {},
     "output_type": "execute_result"
    }
   ],
   "source": [
    "df1"
   ]
  },
  {
   "cell_type": "code",
   "execution_count": 17,
   "id": "927e4931",
   "metadata": {},
   "outputs": [
    {
     "data": {
      "text/html": [
       "<div>\n",
       "<style scoped>\n",
       "    .dataframe tbody tr th:only-of-type {\n",
       "        vertical-align: middle;\n",
       "    }\n",
       "\n",
       "    .dataframe tbody tr th {\n",
       "        vertical-align: top;\n",
       "    }\n",
       "\n",
       "    .dataframe thead th {\n",
       "        text-align: right;\n",
       "    }\n",
       "</style>\n",
       "<table border=\"1\" class=\"dataframe\">\n",
       "  <thead>\n",
       "    <tr style=\"text-align: right;\">\n",
       "      <th></th>\n",
       "      <th>Movie Name</th>\n",
       "      <th>Ratings</th>\n",
       "      <th>Release Date</th>\n",
       "    </tr>\n",
       "  </thead>\n",
       "  <tbody>\n",
       "    <tr>\n",
       "      <th>1</th>\n",
       "      <td>Pariyerum Perumal</td>\n",
       "      <td>8.5</td>\n",
       "      <td>2018</td>\n",
       "    </tr>\n",
       "    <tr>\n",
       "      <th>2</th>\n",
       "      <td>Nayakan</td>\n",
       "      <td>8.5</td>\n",
       "      <td>1987</td>\n",
       "    </tr>\n",
       "    <tr>\n",
       "      <th>3</th>\n",
       "      <td>C/o Kancharapalem</td>\n",
       "      <td>8.5</td>\n",
       "      <td>2018</td>\n",
       "    </tr>\n",
       "    <tr>\n",
       "      <th>4</th>\n",
       "      <td>Anbe Sivam</td>\n",
       "      <td>8.5</td>\n",
       "      <td>2003</td>\n",
       "    </tr>\n",
       "    <tr>\n",
       "      <th>5</th>\n",
       "      <td>Kireedam</td>\n",
       "      <td>8.5</td>\n",
       "      <td>1989</td>\n",
       "    </tr>\n",
       "    <tr>\n",
       "      <th>6</th>\n",
       "      <td>Manichitrathazhu</td>\n",
       "      <td>8.5</td>\n",
       "      <td>1993</td>\n",
       "    </tr>\n",
       "    <tr>\n",
       "      <th>7</th>\n",
       "      <td>Jai Bhim</td>\n",
       "      <td>8.5</td>\n",
       "      <td>2021</td>\n",
       "    </tr>\n",
       "    <tr>\n",
       "      <th>8</th>\n",
       "      <td>Golmaal</td>\n",
       "      <td>8.5</td>\n",
       "      <td>1979</td>\n",
       "    </tr>\n",
       "    <tr>\n",
       "      <th>9</th>\n",
       "      <td>Apur Sansar</td>\n",
       "      <td>8.5</td>\n",
       "      <td>1959</td>\n",
       "    </tr>\n",
       "    <tr>\n",
       "      <th>10</th>\n",
       "      <td>Natsamrat</td>\n",
       "      <td>8.4</td>\n",
       "      <td>2016</td>\n",
       "    </tr>\n",
       "  </tbody>\n",
       "</table>\n",
       "</div>"
      ],
      "text/plain": [
       "           Movie Name Ratings Release Date\n",
       "1   Pariyerum Perumal     8.5         2018\n",
       "2             Nayakan     8.5         1987\n",
       "3   C/o Kancharapalem     8.5         2018\n",
       "4          Anbe Sivam     8.5         2003\n",
       "5            Kireedam     8.5         1989\n",
       "6    Manichitrathazhu     8.5         1993\n",
       "7            Jai Bhim     8.5         2021\n",
       "8             Golmaal     8.5         1979\n",
       "9         Apur Sansar     8.5         1959\n",
       "10          Natsamrat     8.4         2016"
      ]
     },
     "execution_count": 17,
     "metadata": {},
     "output_type": "execute_result"
    }
   ],
   "source": [
    "df1.head(10)"
   ]
  },
  {
   "cell_type": "markdown",
   "id": "47705434",
   "metadata": {},
   "source": [
    "**Q4.) Write a python program to scrape product name, price and discounts from https: //meesho .com/bagsladies/pl/p7vbp.**"
   ]
  },
  {
   "cell_type": "code",
   "execution_count": 18,
   "id": "937d63ae",
   "metadata": {},
   "outputs": [
    {
     "data": {
      "text/plain": [
       "200"
      ]
     },
     "execution_count": 18,
     "metadata": {},
     "output_type": "execute_result"
    }
   ],
   "source": [
    "url2='https://meesho.com/bags-ladies/pl/p7vbp'\n",
    "respond3=requests.get(url2)\n",
    "respond3.status_code"
   ]
  },
  {
   "cell_type": "code",
   "execution_count": 19,
   "id": "ed35316b",
   "metadata": {},
   "outputs": [],
   "source": [
    "page3=respond3.content\n",
    "soup3=BeautifulSoup(page3,\"html.parser\")"
   ]
  },
  {
   "cell_type": "code",
   "execution_count": 20,
   "id": "2581c688",
   "metadata": {},
   "outputs": [],
   "source": [
    "Name2=soup3.find_all(class_=\"Text__StyledText-sc-oo0kvp-0 bWSOET NewProductCard__ProductTitle_Desktop-sc-j0e7tu-4 cQhePS NewProductCard__ProductTitle_Desktop-sc-j0e7tu-4 cQhePS\")\n",
    "Price=soup3.find_all(class_=\"Text__StyledText-sc-oo0kvp-0 hiHdyy\")\n",
    "Discount=soup3.find_all(class_=\"Text__StyledText-sc-oo0kvp-0 fCJVtz NewProductCard__DiscountTextParagraph-sc-j0e7tu-16 kmYsnm NewProductCard__DiscountTextParagraph-sc-j0e7tu-16 kmYsnm\")"
   ]
  },
  {
   "cell_type": "code",
   "execution_count": 21,
   "id": "3261a92d",
   "metadata": {},
   "outputs": [],
   "source": [
    "nm2=[]\n",
    "pr=[]\n",
    "dis=[]\n",
    "for i in Name2:\n",
    "    nm2.append(i.text)\n",
    "for i in Price:\n",
    "    pr.append(i.text)\n",
    "for i in Discount:\n",
    "    dis.append(i.text)"
   ]
  },
  {
   "cell_type": "code",
   "execution_count": 22,
   "id": "55f134c5",
   "metadata": {},
   "outputs": [],
   "source": [
    "Meesho={\"Bag Name\":nm2,\"Price\":pr,\"Discount\":dis}\n",
    "df2=pd.DataFrame(Meesho,index=list(range(1,21)))"
   ]
  },
  {
   "cell_type": "code",
   "execution_count": 23,
   "id": "1c1c3840",
   "metadata": {},
   "outputs": [
    {
     "data": {
      "text/html": [
       "<div>\n",
       "<style scoped>\n",
       "    .dataframe tbody tr th:only-of-type {\n",
       "        vertical-align: middle;\n",
       "    }\n",
       "\n",
       "    .dataframe tbody tr th {\n",
       "        vertical-align: top;\n",
       "    }\n",
       "\n",
       "    .dataframe thead th {\n",
       "        text-align: right;\n",
       "    }\n",
       "</style>\n",
       "<table border=\"1\" class=\"dataframe\">\n",
       "  <thead>\n",
       "    <tr style=\"text-align: right;\">\n",
       "      <th></th>\n",
       "      <th>Bag Name</th>\n",
       "      <th>Price</th>\n",
       "      <th>Discount</th>\n",
       "    </tr>\n",
       "  </thead>\n",
       "  <tbody>\n",
       "    <tr>\n",
       "      <th>1</th>\n",
       "      <td>Ravishing Fancy Women Handbags</td>\n",
       "      <td>₹255</td>\n",
       "      <td>₹100 discount on 1st order</td>\n",
       "    </tr>\n",
       "    <tr>\n",
       "      <th>2</th>\n",
       "      <td>Graceful Classy Women Handbags</td>\n",
       "      <td>₹328</td>\n",
       "      <td>₹100 discount on 1st order</td>\n",
       "    </tr>\n",
       "    <tr>\n",
       "      <th>3</th>\n",
       "      <td>Elite Classy Women Handbags</td>\n",
       "      <td>₹332</td>\n",
       "      <td>₹100 discount on 1st order</td>\n",
       "    </tr>\n",
       "    <tr>\n",
       "      <th>4</th>\n",
       "      <td>Graceful Versatile Women Handbags</td>\n",
       "      <td>₹574</td>\n",
       "      <td>₹100 discount on 1st order</td>\n",
       "    </tr>\n",
       "    <tr>\n",
       "      <th>5</th>\n",
       "      <td>Voguish Attractive Women Handbags</td>\n",
       "      <td>₹458</td>\n",
       "      <td>₹100 discount on 1st order</td>\n",
       "    </tr>\n",
       "    <tr>\n",
       "      <th>6</th>\n",
       "      <td>Elegant Versatile Women Handbags</td>\n",
       "      <td>₹1045</td>\n",
       "      <td>₹100 discount on 1st order</td>\n",
       "    </tr>\n",
       "    <tr>\n",
       "      <th>7</th>\n",
       "      <td>Elegant Versatile Women Handbags</td>\n",
       "      <td>₹177</td>\n",
       "      <td>₹75 discount on 1st order</td>\n",
       "    </tr>\n",
       "    <tr>\n",
       "      <th>8</th>\n",
       "      <td>Ravishing Attractive Women Handbags</td>\n",
       "      <td>₹384</td>\n",
       "      <td>₹100 discount on 1st order</td>\n",
       "    </tr>\n",
       "    <tr>\n",
       "      <th>9</th>\n",
       "      <td>Elegant Fashionable Women Handbags</td>\n",
       "      <td>₹199</td>\n",
       "      <td>₹84 discount on 1st order</td>\n",
       "    </tr>\n",
       "    <tr>\n",
       "      <th>10</th>\n",
       "      <td>Elite Versatile Women Handbags</td>\n",
       "      <td>₹313</td>\n",
       "      <td>₹100 discount on 1st order</td>\n",
       "    </tr>\n",
       "    <tr>\n",
       "      <th>11</th>\n",
       "      <td>Gorgeous Classy Women Handbags</td>\n",
       "      <td>₹349</td>\n",
       "      <td>₹100 discount on 1st order</td>\n",
       "    </tr>\n",
       "    <tr>\n",
       "      <th>12</th>\n",
       "      <td>Elite Stylish Women Handbags</td>\n",
       "      <td>₹550</td>\n",
       "      <td>₹100 discount on 1st order</td>\n",
       "    </tr>\n",
       "    <tr>\n",
       "      <th>13</th>\n",
       "      <td>Elegant Fancy Women's Bags</td>\n",
       "      <td>₹189</td>\n",
       "      <td>₹80 discount on 1st order</td>\n",
       "    </tr>\n",
       "    <tr>\n",
       "      <th>14</th>\n",
       "      <td>Trendy Classy Women Handbags</td>\n",
       "      <td>₹415</td>\n",
       "      <td>₹100 discount on 1st order</td>\n",
       "    </tr>\n",
       "    <tr>\n",
       "      <th>15</th>\n",
       "      <td>Gorgeous Attractive Women Handbags</td>\n",
       "      <td>₹196</td>\n",
       "      <td>₹84 discount on 1st order</td>\n",
       "    </tr>\n",
       "    <tr>\n",
       "      <th>16</th>\n",
       "      <td>Elegant Fancy Women'S Pu Leather Hand Bags</td>\n",
       "      <td>₹175</td>\n",
       "      <td>₹75 discount on 1st order</td>\n",
       "    </tr>\n",
       "    <tr>\n",
       "      <th>17</th>\n",
       "      <td>Ravishing Alluring Women Handbags</td>\n",
       "      <td>₹130</td>\n",
       "      <td>₹55 discount on 1st order</td>\n",
       "    </tr>\n",
       "    <tr>\n",
       "      <th>18</th>\n",
       "      <td>Elite Fancy Women Handbags</td>\n",
       "      <td>₹140</td>\n",
       "      <td>₹60 discount on 1st order</td>\n",
       "    </tr>\n",
       "    <tr>\n",
       "      <th>19</th>\n",
       "      <td>Elegant Classy Women Handbags</td>\n",
       "      <td>₹319</td>\n",
       "      <td>₹100 discount on 1st order</td>\n",
       "    </tr>\n",
       "    <tr>\n",
       "      <th>20</th>\n",
       "      <td>Classic Classy Women Handbags</td>\n",
       "      <td>₹231</td>\n",
       "      <td>₹99 discount on 1st order</td>\n",
       "    </tr>\n",
       "  </tbody>\n",
       "</table>\n",
       "</div>"
      ],
      "text/plain": [
       "                                      Bag Name  Price  \\\n",
       "1               Ravishing Fancy Women Handbags   ₹255   \n",
       "2               Graceful Classy Women Handbags   ₹328   \n",
       "3                  Elite Classy Women Handbags   ₹332   \n",
       "4            Graceful Versatile Women Handbags   ₹574   \n",
       "5            Voguish Attractive Women Handbags   ₹458   \n",
       "6             Elegant Versatile Women Handbags  ₹1045   \n",
       "7             Elegant Versatile Women Handbags   ₹177   \n",
       "8          Ravishing Attractive Women Handbags   ₹384   \n",
       "9           Elegant Fashionable Women Handbags   ₹199   \n",
       "10              Elite Versatile Women Handbags   ₹313   \n",
       "11              Gorgeous Classy Women Handbags   ₹349   \n",
       "12                Elite Stylish Women Handbags   ₹550   \n",
       "13                  Elegant Fancy Women's Bags   ₹189   \n",
       "14                Trendy Classy Women Handbags   ₹415   \n",
       "15          Gorgeous Attractive Women Handbags   ₹196   \n",
       "16  Elegant Fancy Women'S Pu Leather Hand Bags   ₹175   \n",
       "17           Ravishing Alluring Women Handbags   ₹130   \n",
       "18                  Elite Fancy Women Handbags   ₹140   \n",
       "19               Elegant Classy Women Handbags   ₹319   \n",
       "20               Classic Classy Women Handbags   ₹231   \n",
       "\n",
       "                      Discount  \n",
       "1   ₹100 discount on 1st order  \n",
       "2   ₹100 discount on 1st order  \n",
       "3   ₹100 discount on 1st order  \n",
       "4   ₹100 discount on 1st order  \n",
       "5   ₹100 discount on 1st order  \n",
       "6   ₹100 discount on 1st order  \n",
       "7    ₹75 discount on 1st order  \n",
       "8   ₹100 discount on 1st order  \n",
       "9    ₹84 discount on 1st order  \n",
       "10  ₹100 discount on 1st order  \n",
       "11  ₹100 discount on 1st order  \n",
       "12  ₹100 discount on 1st order  \n",
       "13   ₹80 discount on 1st order  \n",
       "14  ₹100 discount on 1st order  \n",
       "15   ₹84 discount on 1st order  \n",
       "16   ₹75 discount on 1st order  \n",
       "17   ₹55 discount on 1st order  \n",
       "18   ₹60 discount on 1st order  \n",
       "19  ₹100 discount on 1st order  \n",
       "20   ₹99 discount on 1st order  "
      ]
     },
     "execution_count": 23,
     "metadata": {},
     "output_type": "execute_result"
    }
   ],
   "source": [
    "df2"
   ]
  },
  {
   "cell_type": "markdown",
   "id": "50bb5b22",
   "metadata": {},
   "source": [
    "**Q5.Write a python program to scrape cricket rankings from icc-cricket.com. You have to scrape:**\n",
    "\n",
    "   ***a) Top 10 ODI teams in men’s cricket along with the records for matches, points and              rating.***\n",
    "\n",
    "   ***b) Top 10 ODI Batsmen along with the records of their team and rating.***\n",
    "\n",
    "   \n",
    "   ***c) Top 10 ODI bowlers along with the records of their team and rating.***"
   ]
  },
  {
   "cell_type": "markdown",
   "id": "766d46c3",
   "metadata": {},
   "source": [
    "*ODI Team Ranking (Men)*"
   ]
  },
  {
   "cell_type": "code",
   "execution_count": 24,
   "id": "992a04db",
   "metadata": {},
   "outputs": [
    {
     "data": {
      "text/plain": [
       "200"
      ]
     },
     "execution_count": 24,
     "metadata": {},
     "output_type": "execute_result"
    }
   ],
   "source": [
    "Url='https://www.icc-cricket.com/rankings/mens/team-rankings/odi'\n",
    "respond=requests.get(Url)\n",
    "respond.status_code"
   ]
  },
  {
   "cell_type": "code",
   "execution_count": 25,
   "id": "5992e47f",
   "metadata": {},
   "outputs": [],
   "source": [
    "Page=respond.content\n",
    "soup=BeautifulSoup(Page,'html.parser')"
   ]
  },
  {
   "cell_type": "code",
   "execution_count": 26,
   "id": "474e263e",
   "metadata": {},
   "outputs": [],
   "source": [
    "Tname=soup.find_all('span',class_=\"u-hide-phablet\")\n",
    "match=soup.find_all('td')"
   ]
  },
  {
   "cell_type": "code",
   "execution_count": 27,
   "id": "16d91210",
   "metadata": {},
   "outputs": [],
   "source": [
    "pos=[]\n",
    "mtch=[]\n",
    "poin=[]\n",
    "ratin=[]\n",
    "tnam=[]\n",
    "for i in range(len(match)):\n",
    "    if i%5==0:\n",
    "        pos.append(match[i].text)\n",
    "    elif i%5==2:\n",
    "        mtch.append(match[i].text)\n",
    "    elif i%5==3:\n",
    "        poin.append(match[i].text)\n",
    "    elif i%5==4:\n",
    "        ratin.append(match[i].text.strip())\n",
    "for i in Tname:\n",
    "    tnam.append(i.text.strip())"
   ]
  },
  {
   "cell_type": "code",
   "execution_count": 28,
   "id": "bb402463",
   "metadata": {},
   "outputs": [],
   "source": [
    "Details={\"Rank\":pos[:10],\"Team\":tnam[:10],\"Matches\":mtch[:10],\"Points\":poin[:10],\"Rating\":ratin[:10]}\n",
    "Df=pd.DataFrame(Details).set_index('Rank')"
   ]
  },
  {
   "cell_type": "code",
   "execution_count": 29,
   "id": "f6ddd608",
   "metadata": {},
   "outputs": [
    {
     "data": {
      "text/html": [
       "<div>\n",
       "<style scoped>\n",
       "    .dataframe tbody tr th:only-of-type {\n",
       "        vertical-align: middle;\n",
       "    }\n",
       "\n",
       "    .dataframe tbody tr th {\n",
       "        vertical-align: top;\n",
       "    }\n",
       "\n",
       "    .dataframe thead th {\n",
       "        text-align: right;\n",
       "    }\n",
       "</style>\n",
       "<table border=\"1\" class=\"dataframe\">\n",
       "  <thead>\n",
       "    <tr style=\"text-align: right;\">\n",
       "      <th></th>\n",
       "      <th>Team</th>\n",
       "      <th>Matches</th>\n",
       "      <th>Points</th>\n",
       "      <th>Rating</th>\n",
       "    </tr>\n",
       "    <tr>\n",
       "      <th>Rank</th>\n",
       "      <th></th>\n",
       "      <th></th>\n",
       "      <th></th>\n",
       "      <th></th>\n",
       "    </tr>\n",
       "  </thead>\n",
       "  <tbody>\n",
       "    <tr>\n",
       "      <th>1</th>\n",
       "      <td>New Zealand</td>\n",
       "      <td>17</td>\n",
       "      <td>2,054</td>\n",
       "      <td>121</td>\n",
       "    </tr>\n",
       "    <tr>\n",
       "      <th>2</th>\n",
       "      <td>England</td>\n",
       "      <td>32</td>\n",
       "      <td>3,793</td>\n",
       "      <td>119</td>\n",
       "    </tr>\n",
       "    <tr>\n",
       "      <th>3</th>\n",
       "      <td>Australia</td>\n",
       "      <td>28</td>\n",
       "      <td>3,244</td>\n",
       "      <td>116</td>\n",
       "    </tr>\n",
       "    <tr>\n",
       "      <th>4</th>\n",
       "      <td>India</td>\n",
       "      <td>38</td>\n",
       "      <td>4,162</td>\n",
       "      <td>110</td>\n",
       "    </tr>\n",
       "    <tr>\n",
       "      <th>5</th>\n",
       "      <td>South Africa</td>\n",
       "      <td>28</td>\n",
       "      <td>2,943</td>\n",
       "      <td>105</td>\n",
       "    </tr>\n",
       "    <tr>\n",
       "      <th>6</th>\n",
       "      <td>Pakistan</td>\n",
       "      <td>27</td>\n",
       "      <td>2,524</td>\n",
       "      <td>93</td>\n",
       "    </tr>\n",
       "    <tr>\n",
       "      <th>7</th>\n",
       "      <td>Bangladesh</td>\n",
       "      <td>32</td>\n",
       "      <td>2,973</td>\n",
       "      <td>93</td>\n",
       "    </tr>\n",
       "    <tr>\n",
       "      <th>8</th>\n",
       "      <td>Sri Lanka</td>\n",
       "      <td>35</td>\n",
       "      <td>2,835</td>\n",
       "      <td>81</td>\n",
       "    </tr>\n",
       "    <tr>\n",
       "      <th>9</th>\n",
       "      <td>West Indies</td>\n",
       "      <td>36</td>\n",
       "      <td>2,788</td>\n",
       "      <td>77</td>\n",
       "    </tr>\n",
       "    <tr>\n",
       "      <th>10</th>\n",
       "      <td>Afghanistan</td>\n",
       "      <td>22</td>\n",
       "      <td>1,419</td>\n",
       "      <td>65</td>\n",
       "    </tr>\n",
       "  </tbody>\n",
       "</table>\n",
       "</div>"
      ],
      "text/plain": [
       "              Team Matches Points Rating\n",
       "Rank                                    \n",
       "1      New Zealand      17  2,054    121\n",
       "2          England      32  3,793    119\n",
       "3        Australia      28  3,244    116\n",
       "4            India      38  4,162    110\n",
       "5     South Africa      28  2,943    105\n",
       "6         Pakistan      27  2,524     93\n",
       "7       Bangladesh      32  2,973     93\n",
       "8        Sri Lanka      35  2,835     81\n",
       "9      West Indies      36  2,788     77\n",
       "10     Afghanistan      22  1,419     65"
      ]
     },
     "execution_count": 29,
     "metadata": {},
     "output_type": "execute_result"
    }
   ],
   "source": [
    "Df"
   ]
  },
  {
   "cell_type": "markdown",
   "id": "36cf9b67",
   "metadata": {},
   "source": [
    "*ODI Batting Ranking (Men)*"
   ]
  },
  {
   "cell_type": "code",
   "execution_count": 30,
   "id": "8af99eab",
   "metadata": {},
   "outputs": [
    {
     "data": {
      "text/plain": [
       "200"
      ]
     },
     "execution_count": 30,
     "metadata": {},
     "output_type": "execute_result"
    }
   ],
   "source": [
    "URl='https://www.icc-cricket.com/rankings/mens/player-rankings/odi/batting'\n",
    "respond=requests.get(URl)\n",
    "respond.status_code"
   ]
  },
  {
   "cell_type": "code",
   "execution_count": 31,
   "id": "3c57e62b",
   "metadata": {},
   "outputs": [],
   "source": [
    "Page=respond.content\n",
    "soup=BeautifulSoup(Page,'html.parser')"
   ]
  },
  {
   "cell_type": "code",
   "execution_count": 32,
   "id": "e1c6eb5b",
   "metadata": {},
   "outputs": [],
   "source": [
    "Pnam=soup.find_all('td')"
   ]
  },
  {
   "cell_type": "code",
   "execution_count": 33,
   "id": "58031771",
   "metadata": {},
   "outputs": [],
   "source": [
    "nme=[]\n",
    "tm=[]\n",
    "rtn=[]\n",
    "for i in range(len(Pnam)):\n",
    "    if i%5==1:\n",
    "        nme.append(Pnam[i].text.strip())\n",
    "    elif i%5==2:\n",
    "        tm.append(Pnam[i].text.strip())\n",
    "    elif i%5==3:\n",
    "        rtn.append(Pnam[i].text.strip())"
   ]
  },
  {
   "cell_type": "code",
   "execution_count": 34,
   "id": "113b3d4d",
   "metadata": {},
   "outputs": [],
   "source": [
    "Rank={\"Player\":nme[:10],\"Team\":tm[:10],\"Rating\":rtn[:10]}\n",
    "DF=pd.DataFrame(Rank,index=list(range(1,11)))"
   ]
  },
  {
   "cell_type": "code",
   "execution_count": 35,
   "id": "19a06a02",
   "metadata": {},
   "outputs": [
    {
     "data": {
      "text/html": [
       "<div>\n",
       "<style scoped>\n",
       "    .dataframe tbody tr th:only-of-type {\n",
       "        vertical-align: middle;\n",
       "    }\n",
       "\n",
       "    .dataframe tbody tr th {\n",
       "        vertical-align: top;\n",
       "    }\n",
       "\n",
       "    .dataframe thead th {\n",
       "        text-align: right;\n",
       "    }\n",
       "</style>\n",
       "<table border=\"1\" class=\"dataframe\">\n",
       "  <thead>\n",
       "    <tr style=\"text-align: right;\">\n",
       "      <th></th>\n",
       "      <th>Player</th>\n",
       "      <th>Team</th>\n",
       "      <th>Rating</th>\n",
       "    </tr>\n",
       "  </thead>\n",
       "  <tbody>\n",
       "    <tr>\n",
       "      <th>1</th>\n",
       "      <td>Babar Azam</td>\n",
       "      <td>PAK</td>\n",
       "      <td>873</td>\n",
       "    </tr>\n",
       "    <tr>\n",
       "      <th>2</th>\n",
       "      <td>Virat Kohli</td>\n",
       "      <td>IND</td>\n",
       "      <td>811</td>\n",
       "    </tr>\n",
       "    <tr>\n",
       "      <th>3</th>\n",
       "      <td>Rohit Sharma</td>\n",
       "      <td>IND</td>\n",
       "      <td>791</td>\n",
       "    </tr>\n",
       "    <tr>\n",
       "      <th>4</th>\n",
       "      <td>Quinton de Kock</td>\n",
       "      <td>SA</td>\n",
       "      <td>783</td>\n",
       "    </tr>\n",
       "    <tr>\n",
       "      <th>5</th>\n",
       "      <td>Aaron Finch</td>\n",
       "      <td>AUS</td>\n",
       "      <td>779</td>\n",
       "    </tr>\n",
       "    <tr>\n",
       "      <th>6</th>\n",
       "      <td>Jonny Bairstow</td>\n",
       "      <td>ENG</td>\n",
       "      <td>775</td>\n",
       "    </tr>\n",
       "    <tr>\n",
       "      <th>7</th>\n",
       "      <td>David Warner</td>\n",
       "      <td>AUS</td>\n",
       "      <td>762</td>\n",
       "    </tr>\n",
       "    <tr>\n",
       "      <th>8</th>\n",
       "      <td>Rassie van der Dussen</td>\n",
       "      <td>SA</td>\n",
       "      <td>750</td>\n",
       "    </tr>\n",
       "    <tr>\n",
       "      <th>9</th>\n",
       "      <td>Fakhar Zaman</td>\n",
       "      <td>PAK</td>\n",
       "      <td>741</td>\n",
       "    </tr>\n",
       "    <tr>\n",
       "      <th>10</th>\n",
       "      <td>Joe Root</td>\n",
       "      <td>ENG</td>\n",
       "      <td>740</td>\n",
       "    </tr>\n",
       "  </tbody>\n",
       "</table>\n",
       "</div>"
      ],
      "text/plain": [
       "                   Player Team Rating\n",
       "1              Babar Azam  PAK    873\n",
       "2             Virat Kohli  IND    811\n",
       "3            Rohit Sharma  IND    791\n",
       "4         Quinton de Kock   SA    783\n",
       "5             Aaron Finch  AUS    779\n",
       "6          Jonny Bairstow  ENG    775\n",
       "7            David Warner  AUS    762\n",
       "8   Rassie van der Dussen   SA    750\n",
       "9            Fakhar Zaman  PAK    741\n",
       "10               Joe Root  ENG    740"
      ]
     },
     "execution_count": 35,
     "metadata": {},
     "output_type": "execute_result"
    }
   ],
   "source": [
    "DF"
   ]
  },
  {
   "cell_type": "markdown",
   "id": "fae88662",
   "metadata": {},
   "source": [
    "*ODI Bowling Ranking*"
   ]
  },
  {
   "cell_type": "code",
   "execution_count": 36,
   "id": "90045a78",
   "metadata": {},
   "outputs": [
    {
     "data": {
      "text/plain": [
       "200"
      ]
     },
     "execution_count": 36,
     "metadata": {},
     "output_type": "execute_result"
    }
   ],
   "source": [
    "URL='https://www.icc-cricket.com/rankings/mens/player-rankings/odi/bowling'\n",
    "respond=requests.get(URL)\n",
    "respond.status_code"
   ]
  },
  {
   "cell_type": "code",
   "execution_count": 37,
   "id": "246666fe",
   "metadata": {},
   "outputs": [],
   "source": [
    "Page=respond.content\n",
    "soup=BeautifulSoup(Page,'html.parser')"
   ]
  },
  {
   "cell_type": "code",
   "execution_count": 38,
   "id": "af9c3b27",
   "metadata": {},
   "outputs": [],
   "source": [
    "Bnam=soup.find_all('td')"
   ]
  },
  {
   "cell_type": "code",
   "execution_count": 39,
   "id": "a0193987",
   "metadata": {},
   "outputs": [],
   "source": [
    "nm=[]\n",
    "tm1=[]\n",
    "rtn1=[]\n",
    "for i in range(len(Bnam)):\n",
    "    if i%5==1:\n",
    "        nm.append(Bnam[i].text.strip())\n",
    "    elif i%5==2:\n",
    "        tm1.append(Bnam[i].text.strip())\n",
    "    elif i%5==3:\n",
    "        rtn1.append(Bnam[i].text.strip())"
   ]
  },
  {
   "cell_type": "code",
   "execution_count": 40,
   "id": "ddf8b553",
   "metadata": {},
   "outputs": [],
   "source": [
    "Ranks={\"Player\":nm[:10],\"Team\":tm1[:10],\"Rating\":rtn1[:10]}\n",
    "DF1=pd.DataFrame(Ranks,index=list(range(1,11)))"
   ]
  },
  {
   "cell_type": "code",
   "execution_count": 41,
   "id": "87b1ee26",
   "metadata": {},
   "outputs": [
    {
     "data": {
      "text/html": [
       "<div>\n",
       "<style scoped>\n",
       "    .dataframe tbody tr th:only-of-type {\n",
       "        vertical-align: middle;\n",
       "    }\n",
       "\n",
       "    .dataframe tbody tr th {\n",
       "        vertical-align: top;\n",
       "    }\n",
       "\n",
       "    .dataframe thead th {\n",
       "        text-align: right;\n",
       "    }\n",
       "</style>\n",
       "<table border=\"1\" class=\"dataframe\">\n",
       "  <thead>\n",
       "    <tr style=\"text-align: right;\">\n",
       "      <th></th>\n",
       "      <th>Player</th>\n",
       "      <th>Team</th>\n",
       "      <th>Rating</th>\n",
       "    </tr>\n",
       "  </thead>\n",
       "  <tbody>\n",
       "    <tr>\n",
       "      <th>1</th>\n",
       "      <td>Trent Boult</td>\n",
       "      <td>NZ</td>\n",
       "      <td>737</td>\n",
       "    </tr>\n",
       "    <tr>\n",
       "      <th>2</th>\n",
       "      <td>Josh Hazlewood</td>\n",
       "      <td>AUS</td>\n",
       "      <td>709</td>\n",
       "    </tr>\n",
       "    <tr>\n",
       "      <th>3</th>\n",
       "      <td>Chris Woakes</td>\n",
       "      <td>ENG</td>\n",
       "      <td>700</td>\n",
       "    </tr>\n",
       "    <tr>\n",
       "      <th>4</th>\n",
       "      <td>Mujeeb Ur Rahman</td>\n",
       "      <td>AFG</td>\n",
       "      <td>697</td>\n",
       "    </tr>\n",
       "    <tr>\n",
       "      <th>5</th>\n",
       "      <td>Mehedi Hasan</td>\n",
       "      <td>BAN</td>\n",
       "      <td>692</td>\n",
       "    </tr>\n",
       "    <tr>\n",
       "      <th>6</th>\n",
       "      <td>Matt Henry</td>\n",
       "      <td>NZ</td>\n",
       "      <td>691</td>\n",
       "    </tr>\n",
       "    <tr>\n",
       "      <th>7</th>\n",
       "      <td>Jasprit Bumrah</td>\n",
       "      <td>IND</td>\n",
       "      <td>679</td>\n",
       "    </tr>\n",
       "    <tr>\n",
       "      <th>8</th>\n",
       "      <td>Mitchell Starc</td>\n",
       "      <td>AUS</td>\n",
       "      <td>652</td>\n",
       "    </tr>\n",
       "    <tr>\n",
       "      <th>9</th>\n",
       "      <td>Shakib Al Hasan</td>\n",
       "      <td>BAN</td>\n",
       "      <td>650</td>\n",
       "    </tr>\n",
       "    <tr>\n",
       "      <th>10</th>\n",
       "      <td>Andy McBrine</td>\n",
       "      <td>IRE</td>\n",
       "      <td>646</td>\n",
       "    </tr>\n",
       "  </tbody>\n",
       "</table>\n",
       "</div>"
      ],
      "text/plain": [
       "              Player Team Rating\n",
       "1        Trent Boult   NZ    737\n",
       "2     Josh Hazlewood  AUS    709\n",
       "3       Chris Woakes  ENG    700\n",
       "4   Mujeeb Ur Rahman  AFG    697\n",
       "5       Mehedi Hasan  BAN    692\n",
       "6         Matt Henry   NZ    691\n",
       "7     Jasprit Bumrah  IND    679\n",
       "8     Mitchell Starc  AUS    652\n",
       "9    Shakib Al Hasan  BAN    650\n",
       "10      Andy McBrine  IRE    646"
      ]
     },
     "execution_count": 41,
     "metadata": {},
     "output_type": "execute_result"
    }
   ],
   "source": [
    "DF1"
   ]
  },
  {
   "cell_type": "markdown",
   "id": "9d082944",
   "metadata": {},
   "source": [
    "**Q6. Write a python program to scrape cricket rankings from icc-cricket.com. You have to scrape:**\n",
    "\n",
    "**a) Top 10 ODI teams in women’s cricket along with the records for matches, points and rating.**\n",
    "\n",
    "**b) Top 10 women’s ODI Batting players along with the records of their team and rating.**\n",
    "\n",
    "**c) Top 10 women’s ODI all-rounder along with the records of their team and rating**"
   ]
  },
  {
   "cell_type": "markdown",
   "id": "f2f53160",
   "metadata": {},
   "source": [
    " *ODI Team Ranking (Women)*"
   ]
  },
  {
   "cell_type": "code",
   "execution_count": 42,
   "id": "f3caa8b2",
   "metadata": {},
   "outputs": [
    {
     "data": {
      "text/plain": [
       "200"
      ]
     },
     "execution_count": 42,
     "metadata": {},
     "output_type": "execute_result"
    }
   ],
   "source": [
    "Url='https://www.icc-cricket.com/rankings/womens/team-rankings/odi'\n",
    "respond=requests.get(Url)\n",
    "respond.status_code"
   ]
  },
  {
   "cell_type": "code",
   "execution_count": 43,
   "id": "fc510b2a",
   "metadata": {},
   "outputs": [],
   "source": [
    "Page=respond.content\n",
    "soup=BeautifulSoup(Page,'html.parser')"
   ]
  },
  {
   "cell_type": "code",
   "execution_count": 44,
   "id": "f8dd7c98",
   "metadata": {},
   "outputs": [],
   "source": [
    "Tname=soup.find_all('span',class_=\"u-hide-phablet\")\n",
    "match=soup.find_all('td')"
   ]
  },
  {
   "cell_type": "code",
   "execution_count": 45,
   "id": "764a6acb",
   "metadata": {},
   "outputs": [],
   "source": [
    "pos=[]\n",
    "mtch=[]\n",
    "poin=[]\n",
    "ratin=[]\n",
    "tnam=[]\n",
    "for i in range(len(match)):\n",
    "    if i%5==0:\n",
    "        pos.append(match[i].text)\n",
    "    elif i%5==2:\n",
    "        mtch.append(match[i].text)\n",
    "    elif i%5==3:\n",
    "        poin.append(match[i].text)\n",
    "    elif i%5==4:\n",
    "        ratin.append(match[i].text.strip())\n",
    "for i in Tname:\n",
    "    tnam.append(i.text.strip())"
   ]
  },
  {
   "cell_type": "code",
   "execution_count": 46,
   "id": "99251a9d",
   "metadata": {},
   "outputs": [],
   "source": [
    "Details={\"Rank\":pos[:10],\"Team\":tnam[:10],\"Matches\":mtch[:10],\"Points\":poin[:10],\"Rating\":ratin[:10]}\n",
    "Df=pd.DataFrame(Details).set_index('Rank')"
   ]
  },
  {
   "cell_type": "code",
   "execution_count": 47,
   "id": "d308c8ee",
   "metadata": {},
   "outputs": [
    {
     "data": {
      "text/html": [
       "<div>\n",
       "<style scoped>\n",
       "    .dataframe tbody tr th:only-of-type {\n",
       "        vertical-align: middle;\n",
       "    }\n",
       "\n",
       "    .dataframe tbody tr th {\n",
       "        vertical-align: top;\n",
       "    }\n",
       "\n",
       "    .dataframe thead th {\n",
       "        text-align: right;\n",
       "    }\n",
       "</style>\n",
       "<table border=\"1\" class=\"dataframe\">\n",
       "  <thead>\n",
       "    <tr style=\"text-align: right;\">\n",
       "      <th></th>\n",
       "      <th>Team</th>\n",
       "      <th>Matches</th>\n",
       "      <th>Points</th>\n",
       "      <th>Rating</th>\n",
       "    </tr>\n",
       "    <tr>\n",
       "      <th>Rank</th>\n",
       "      <th></th>\n",
       "      <th></th>\n",
       "      <th></th>\n",
       "      <th></th>\n",
       "    </tr>\n",
       "  </thead>\n",
       "  <tbody>\n",
       "    <tr>\n",
       "      <th>1</th>\n",
       "      <td>Australia</td>\n",
       "      <td>20</td>\n",
       "      <td>3,263</td>\n",
       "      <td>163</td>\n",
       "    </tr>\n",
       "    <tr>\n",
       "      <th>2</th>\n",
       "      <td>South Africa</td>\n",
       "      <td>21</td>\n",
       "      <td>2,580</td>\n",
       "      <td>123</td>\n",
       "    </tr>\n",
       "    <tr>\n",
       "      <th>3</th>\n",
       "      <td>England</td>\n",
       "      <td>21</td>\n",
       "      <td>2,474</td>\n",
       "      <td>118</td>\n",
       "    </tr>\n",
       "    <tr>\n",
       "      <th>4</th>\n",
       "      <td>India</td>\n",
       "      <td>22</td>\n",
       "      <td>2,221</td>\n",
       "      <td>101</td>\n",
       "    </tr>\n",
       "    <tr>\n",
       "      <th>5</th>\n",
       "      <td>New Zealand</td>\n",
       "      <td>24</td>\n",
       "      <td>2,342</td>\n",
       "      <td>98</td>\n",
       "    </tr>\n",
       "    <tr>\n",
       "      <th>6</th>\n",
       "      <td>Bangladesh</td>\n",
       "      <td>5</td>\n",
       "      <td>475</td>\n",
       "      <td>95</td>\n",
       "    </tr>\n",
       "    <tr>\n",
       "      <th>7</th>\n",
       "      <td>West Indies</td>\n",
       "      <td>21</td>\n",
       "      <td>1,801</td>\n",
       "      <td>86</td>\n",
       "    </tr>\n",
       "    <tr>\n",
       "      <th>8</th>\n",
       "      <td>Pakistan</td>\n",
       "      <td>19</td>\n",
       "      <td>1,304</td>\n",
       "      <td>69</td>\n",
       "    </tr>\n",
       "    <tr>\n",
       "      <th>9</th>\n",
       "      <td>Ireland</td>\n",
       "      <td>5</td>\n",
       "      <td>240</td>\n",
       "      <td>48</td>\n",
       "    </tr>\n",
       "    <tr>\n",
       "      <th>10</th>\n",
       "      <td>Sri Lanka</td>\n",
       "      <td>5</td>\n",
       "      <td>233</td>\n",
       "      <td>47</td>\n",
       "    </tr>\n",
       "  </tbody>\n",
       "</table>\n",
       "</div>"
      ],
      "text/plain": [
       "              Team Matches Points Rating\n",
       "Rank                                    \n",
       "1        Australia      20  3,263    163\n",
       "2     South Africa      21  2,580    123\n",
       "3          England      21  2,474    118\n",
       "4            India      22  2,221    101\n",
       "5      New Zealand      24  2,342     98\n",
       "6       Bangladesh       5    475     95\n",
       "7      West Indies      21  1,801     86\n",
       "8         Pakistan      19  1,304     69\n",
       "9          Ireland       5    240     48\n",
       "10       Sri Lanka       5    233     47"
      ]
     },
     "execution_count": 47,
     "metadata": {},
     "output_type": "execute_result"
    }
   ],
   "source": [
    "Df"
   ]
  },
  {
   "cell_type": "markdown",
   "id": "8efab74e",
   "metadata": {},
   "source": [
    "*ODI Batting Ranking (Women)*"
   ]
  },
  {
   "cell_type": "code",
   "execution_count": 48,
   "id": "02a9a718",
   "metadata": {},
   "outputs": [
    {
     "data": {
      "text/plain": [
       "200"
      ]
     },
     "execution_count": 48,
     "metadata": {},
     "output_type": "execute_result"
    }
   ],
   "source": [
    "URl='https://www.icc-cricket.com/rankings/womens/player-rankings/odi/batting'\n",
    "respond=requests.get(URl)\n",
    "respond.status_code"
   ]
  },
  {
   "cell_type": "code",
   "execution_count": 49,
   "id": "9649d999",
   "metadata": {},
   "outputs": [],
   "source": [
    "Page=respond.content\n",
    "soup=BeautifulSoup(Page,'html.parser')"
   ]
  },
  {
   "cell_type": "code",
   "execution_count": 50,
   "id": "1d5c659b",
   "metadata": {},
   "outputs": [],
   "source": [
    "Bnam=soup.find_all('td')"
   ]
  },
  {
   "cell_type": "code",
   "execution_count": 51,
   "id": "63a31903",
   "metadata": {},
   "outputs": [],
   "source": [
    "nme=[]\n",
    "tm=[]\n",
    "rtn=[]\n",
    "for i in range(len(Pnam)):\n",
    "    if i%5==1:\n",
    "        nme.append(Pnam[i].text.strip())\n",
    "    elif i%5==2:\n",
    "        tm.append(Pnam[i].text.strip())\n",
    "    elif i%5==3:\n",
    "        rtn.append(Pnam[i].text.strip())"
   ]
  },
  {
   "cell_type": "code",
   "execution_count": 52,
   "id": "bfe315a1",
   "metadata": {},
   "outputs": [],
   "source": [
    "Rank={\"Player\":nme[:10],\"Team\":tm[:10],\"Rating\":rtn[:10]}\n",
    "DF=pd.DataFrame(Rank,index=list(range(1,11)))"
   ]
  },
  {
   "cell_type": "code",
   "execution_count": 53,
   "id": "eb947877",
   "metadata": {},
   "outputs": [
    {
     "data": {
      "text/html": [
       "<div>\n",
       "<style scoped>\n",
       "    .dataframe tbody tr th:only-of-type {\n",
       "        vertical-align: middle;\n",
       "    }\n",
       "\n",
       "    .dataframe tbody tr th {\n",
       "        vertical-align: top;\n",
       "    }\n",
       "\n",
       "    .dataframe thead th {\n",
       "        text-align: right;\n",
       "    }\n",
       "</style>\n",
       "<table border=\"1\" class=\"dataframe\">\n",
       "  <thead>\n",
       "    <tr style=\"text-align: right;\">\n",
       "      <th></th>\n",
       "      <th>Player</th>\n",
       "      <th>Team</th>\n",
       "      <th>Rating</th>\n",
       "    </tr>\n",
       "  </thead>\n",
       "  <tbody>\n",
       "    <tr>\n",
       "      <th>1</th>\n",
       "      <td>Babar Azam</td>\n",
       "      <td>PAK</td>\n",
       "      <td>873</td>\n",
       "    </tr>\n",
       "    <tr>\n",
       "      <th>2</th>\n",
       "      <td>Virat Kohli</td>\n",
       "      <td>IND</td>\n",
       "      <td>811</td>\n",
       "    </tr>\n",
       "    <tr>\n",
       "      <th>3</th>\n",
       "      <td>Rohit Sharma</td>\n",
       "      <td>IND</td>\n",
       "      <td>791</td>\n",
       "    </tr>\n",
       "    <tr>\n",
       "      <th>4</th>\n",
       "      <td>Quinton de Kock</td>\n",
       "      <td>SA</td>\n",
       "      <td>783</td>\n",
       "    </tr>\n",
       "    <tr>\n",
       "      <th>5</th>\n",
       "      <td>Aaron Finch</td>\n",
       "      <td>AUS</td>\n",
       "      <td>779</td>\n",
       "    </tr>\n",
       "    <tr>\n",
       "      <th>6</th>\n",
       "      <td>Jonny Bairstow</td>\n",
       "      <td>ENG</td>\n",
       "      <td>775</td>\n",
       "    </tr>\n",
       "    <tr>\n",
       "      <th>7</th>\n",
       "      <td>David Warner</td>\n",
       "      <td>AUS</td>\n",
       "      <td>762</td>\n",
       "    </tr>\n",
       "    <tr>\n",
       "      <th>8</th>\n",
       "      <td>Rassie van der Dussen</td>\n",
       "      <td>SA</td>\n",
       "      <td>750</td>\n",
       "    </tr>\n",
       "    <tr>\n",
       "      <th>9</th>\n",
       "      <td>Fakhar Zaman</td>\n",
       "      <td>PAK</td>\n",
       "      <td>741</td>\n",
       "    </tr>\n",
       "    <tr>\n",
       "      <th>10</th>\n",
       "      <td>Joe Root</td>\n",
       "      <td>ENG</td>\n",
       "      <td>740</td>\n",
       "    </tr>\n",
       "  </tbody>\n",
       "</table>\n",
       "</div>"
      ],
      "text/plain": [
       "                   Player Team Rating\n",
       "1              Babar Azam  PAK    873\n",
       "2             Virat Kohli  IND    811\n",
       "3            Rohit Sharma  IND    791\n",
       "4         Quinton de Kock   SA    783\n",
       "5             Aaron Finch  AUS    779\n",
       "6          Jonny Bairstow  ENG    775\n",
       "7            David Warner  AUS    762\n",
       "8   Rassie van der Dussen   SA    750\n",
       "9            Fakhar Zaman  PAK    741\n",
       "10               Joe Root  ENG    740"
      ]
     },
     "execution_count": 53,
     "metadata": {},
     "output_type": "execute_result"
    }
   ],
   "source": [
    "DF"
   ]
  },
  {
   "cell_type": "markdown",
   "id": "e939ecf7",
   "metadata": {},
   "source": [
    "*ODI Bowling Ranking*"
   ]
  },
  {
   "cell_type": "code",
   "execution_count": 54,
   "id": "ff7f2d6d",
   "metadata": {},
   "outputs": [
    {
     "data": {
      "text/plain": [
       "200"
      ]
     },
     "execution_count": 54,
     "metadata": {},
     "output_type": "execute_result"
    }
   ],
   "source": [
    "Url='https://www.icc-cricket.com/rankings/womens/player-rankings/odi/bowling'\n",
    "respond=requests.get(Url)\n",
    "respond.status_code"
   ]
  },
  {
   "cell_type": "code",
   "execution_count": 55,
   "id": "fbb8b5e3",
   "metadata": {},
   "outputs": [],
   "source": [
    "Page=respond.content\n",
    "soup=BeautifulSoup(Page,'html.parser')"
   ]
  },
  {
   "cell_type": "code",
   "execution_count": 56,
   "id": "0824f6a9",
   "metadata": {},
   "outputs": [],
   "source": [
    "Bnam=soup.find_all('td')"
   ]
  },
  {
   "cell_type": "code",
   "execution_count": 57,
   "id": "7c1f0744",
   "metadata": {},
   "outputs": [],
   "source": [
    "nm=[]\n",
    "tm1=[]\n",
    "rtn1=[]\n",
    "for i in range(len(Bnam)):\n",
    "    if i%5==1:\n",
    "        nm.append(Bnam[i].text.strip())\n",
    "    elif i%5==2:\n",
    "        tm1.append(Bnam[i].text.strip())\n",
    "    elif i%5==3:\n",
    "        rtn1.append(Bnam[i].text.strip())"
   ]
  },
  {
   "cell_type": "code",
   "execution_count": 58,
   "id": "2fbb0553",
   "metadata": {},
   "outputs": [],
   "source": [
    "Ranks={\"Player\":nm[:10],\"Team\":tm1[:10],\"Rating\":rtn1[:10]}\n",
    "DF1=pd.DataFrame(Ranks,index=list(range(1,11)))"
   ]
  },
  {
   "cell_type": "code",
   "execution_count": 59,
   "id": "59383685",
   "metadata": {},
   "outputs": [
    {
     "data": {
      "text/html": [
       "<div>\n",
       "<style scoped>\n",
       "    .dataframe tbody tr th:only-of-type {\n",
       "        vertical-align: middle;\n",
       "    }\n",
       "\n",
       "    .dataframe tbody tr th {\n",
       "        vertical-align: top;\n",
       "    }\n",
       "\n",
       "    .dataframe thead th {\n",
       "        text-align: right;\n",
       "    }\n",
       "</style>\n",
       "<table border=\"1\" class=\"dataframe\">\n",
       "  <thead>\n",
       "    <tr style=\"text-align: right;\">\n",
       "      <th></th>\n",
       "      <th>Player</th>\n",
       "      <th>Team</th>\n",
       "      <th>Rating</th>\n",
       "    </tr>\n",
       "  </thead>\n",
       "  <tbody>\n",
       "    <tr>\n",
       "      <th>1</th>\n",
       "      <td>Jess Jonassen</td>\n",
       "      <td>AUS</td>\n",
       "      <td>762</td>\n",
       "    </tr>\n",
       "    <tr>\n",
       "      <th>2</th>\n",
       "      <td>Sophie Ecclestone</td>\n",
       "      <td>ENG</td>\n",
       "      <td>746</td>\n",
       "    </tr>\n",
       "    <tr>\n",
       "      <th>3</th>\n",
       "      <td>Megan Schutt</td>\n",
       "      <td>AUS</td>\n",
       "      <td>735</td>\n",
       "    </tr>\n",
       "    <tr>\n",
       "      <th>4</th>\n",
       "      <td>Jhulan Goswami</td>\n",
       "      <td>IND</td>\n",
       "      <td>723</td>\n",
       "    </tr>\n",
       "    <tr>\n",
       "      <th>5</th>\n",
       "      <td>Shabnim Ismail</td>\n",
       "      <td>SA</td>\n",
       "      <td>689</td>\n",
       "    </tr>\n",
       "    <tr>\n",
       "      <th>6</th>\n",
       "      <td>Ellyse Perry</td>\n",
       "      <td>AUS</td>\n",
       "      <td>663</td>\n",
       "    </tr>\n",
       "    <tr>\n",
       "      <th>7</th>\n",
       "      <td>Ayabonga Khaka</td>\n",
       "      <td>SA</td>\n",
       "      <td>661</td>\n",
       "    </tr>\n",
       "    <tr>\n",
       "      <th>8</th>\n",
       "      <td>Marizanne Kapp</td>\n",
       "      <td>SA</td>\n",
       "      <td>660</td>\n",
       "    </tr>\n",
       "    <tr>\n",
       "      <th>9</th>\n",
       "      <td>Katherine Brunt</td>\n",
       "      <td>ENG</td>\n",
       "      <td>648</td>\n",
       "    </tr>\n",
       "    <tr>\n",
       "      <th>10</th>\n",
       "      <td>Kate Cross</td>\n",
       "      <td>ENG</td>\n",
       "      <td>603</td>\n",
       "    </tr>\n",
       "  </tbody>\n",
       "</table>\n",
       "</div>"
      ],
      "text/plain": [
       "               Player Team Rating\n",
       "1       Jess Jonassen  AUS    762\n",
       "2   Sophie Ecclestone  ENG    746\n",
       "3        Megan Schutt  AUS    735\n",
       "4      Jhulan Goswami  IND    723\n",
       "5      Shabnim Ismail   SA    689\n",
       "6        Ellyse Perry  AUS    663\n",
       "7      Ayabonga Khaka   SA    661\n",
       "8      Marizanne Kapp   SA    660\n",
       "9     Katherine Brunt  ENG    648\n",
       "10         Kate Cross  ENG    603"
      ]
     },
     "execution_count": 59,
     "metadata": {},
     "output_type": "execute_result"
    }
   ],
   "source": [
    "DF1"
   ]
  },
  {
   "cell_type": "markdown",
   "id": "a545639f",
   "metadata": {},
   "source": [
    "**Q7.Write a python program to scrape details of all the posts from coreyms.com. Scrape the heading, date, content\n",
    "and the code for the video from the link for the youtube video from the post.**"
   ]
  },
  {
   "cell_type": "code",
   "execution_count": 60,
   "id": "2962c6db",
   "metadata": {},
   "outputs": [
    {
     "data": {
      "text/plain": [
       "200"
      ]
     },
     "execution_count": 60,
     "metadata": {},
     "output_type": "execute_result"
    }
   ],
   "source": [
    "URL='https://coreyms.com/'\n",
    "responses=requests.get(URL)\n",
    "responses.status_code"
   ]
  },
  {
   "cell_type": "code",
   "execution_count": 61,
   "id": "1b925a41",
   "metadata": {},
   "outputs": [],
   "source": [
    "PAGE=responses.content\n",
    "SOUP=BeautifulSoup(PAGE,'html.parser')\n",
    "Heading=SOUP.find_all('h2')\n",
    "Date=SOUP.find_all('time',class_=\"entry-time\")\n",
    "Content=SOUP.find_all('div',class_=\"entry-content\")\n",
    "link=SOUP.find_all('iframe',class_=\"youtube-player\") "
   ]
  },
  {
   "cell_type": "code",
   "execution_count": 62,
   "id": "9240e9bd",
   "metadata": {},
   "outputs": [],
   "source": [
    "header=[]\n",
    "date=[]\n",
    "content=[]\n",
    "links=[]\n",
    "for i in Heading:\n",
    "    header.append(i.text)\n",
    "for i in Date:\n",
    "    date.append(i.text)\n",
    "for i in Content:\n",
    "    content.append(i.text.strip())\n",
    "for i in link:\n",
    "    links.append(i['src'])"
   ]
  },
  {
   "cell_type": "code",
   "execution_count": 63,
   "id": "e6ee8805",
   "metadata": {},
   "outputs": [
    {
     "data": {
      "text/plain": [
       "['Python Tutorial: Zip Files – Creating and Extracting Zip Archives',\n",
       " 'Python Data Science Tutorial: Analyzing the 2019 Stack Overflow Developer Survey',\n",
       " 'Python Multiprocessing Tutorial: Run Code in Parallel Using the Multiprocessing Module',\n",
       " 'Python Threading Tutorial: Run Code Concurrently Using the Threading Module',\n",
       " 'Update (2019-09-03)',\n",
       " 'Python Quick Tip: The Difference Between “==” and “is” (Equality vs Identity)',\n",
       " 'Python Tutorial: Calling External Commands Using the Subprocess Module',\n",
       " 'Visual Studio Code (Windows) – Setting up a Python Development Environment and Complete Overview',\n",
       " 'Visual Studio Code (Mac) – Setting up a Python Development Environment and Complete Overview',\n",
       " 'Clarifying the Issues with Mutable Default Arguments']"
      ]
     },
     "execution_count": 63,
     "metadata": {},
     "output_type": "execute_result"
    }
   ],
   "source": [
    "header"
   ]
  },
  {
   "cell_type": "code",
   "execution_count": 64,
   "id": "ef64fa5e",
   "metadata": {},
   "outputs": [
    {
     "data": {
      "text/plain": [
       "['November 19, 2019',\n",
       " 'October 17, 2019',\n",
       " 'September 21, 2019',\n",
       " 'September 12, 2019',\n",
       " 'September 3, 2019',\n",
       " 'August 6, 2019',\n",
       " 'July 24, 2019',\n",
       " 'May 1, 2019',\n",
       " 'May 1, 2019',\n",
       " 'April 24, 2019']"
      ]
     },
     "execution_count": 64,
     "metadata": {},
     "output_type": "execute_result"
    }
   ],
   "source": [
    "date"
   ]
  },
  {
   "cell_type": "code",
   "execution_count": 65,
   "id": "a2734e31",
   "metadata": {},
   "outputs": [
    {
     "data": {
      "text/plain": [
       "['In this video, we will be learning how to create and extract zip archives. We will start by using the zipfile module, and then we will see how to do this using the shutil module. We will learn how to do this with single files and directories, as well as learning how to use gzip as well. Let’s get started…',\n",
       " 'In this Python Programming video, we will be learning how to download and analyze real-world data from the 2019 Stack Overflow Developer Survey. This is terrific practice for anyone getting into the data science field. We will learn different ways to analyze this data and also some best practices. Let’s get started…',\n",
       " 'In this Python Programming video, we will be learning how to run code in parallel using the multiprocessing module. We will also look at how to process multiple high-resolution images at the same time using a ProcessPoolExecutor from the concurrent.futures module. Let’s get started…',\n",
       " 'In this Python Programming video, we will be learning how to run threads concurrently using the threading module. We will also look at how to download multiple high-resolution images online using a ThreadPoolExecutor from the concurrent.futures module. Let’s get started…',\n",
       " 'Hey everyone. I wanted to give you an update on my videos. I will be releasing videos on threading and multiprocessing within the next week. Thanks so much for your patience. I currently have a temporary recording studio setup at my Airbnb that will allow me to record and edit the threading/multiprocessing videos. I am going to be moving into my new house in 10 days and once I have my recording studio setup then you can expect much faster video releases. I really appreciate how patient everyone has been while I go through this move, especially those of you who are contributing monthly through YouTube',\n",
       " 'In this Python Programming Tutorial, we will be learning the difference between using “==” and the “is” keyword when doing comparisons. The difference between these is that “==” checks to see if values are equal, and the “is” keyword checks their identity, which means it’s going to check if the values are identical in terms of being the same object in memory. We’ll learn more in the video. Let’s get started…',\n",
       " 'In this Python Programming Tutorial, we will be learning how to run external commands using the subprocess module from the standard library. We will learn how to run commands, capture the output, handle errors, and also how to pipe output into other commands. Let’s get started…',\n",
       " 'In this Python Programming Tutorial, we will be learning how to set up a Python development environment in VSCode on Windows. VSCode is a very nice free editor for writing Python applications and many developers are now switching over to this editor. In this video, we will learn how to install VSCode, get the Python extension installed, how to change Python interpreters, create virtual environments, format/lint our code, how to use Git within VSCode, how to debug our programs, how unit testing works, and more. We have a lot to cover, so let’s go ahead and get started…\\nVSCode on MacOS – https://youtu.be/06I63_p-2A4\\nTimestamps for topics in this tutorial: Installation – 1:13 Python Extension – 5:48 Switching Interpreters – 10:04 Changing Color Themes – 12:35 VSCode Settings – 16:16 Set Default Python – 21:33 Using Virtual Environments – 25:10 IntelliSense – 29:45 Code Formatting – 32:13 Code Linting – 37:06 Code Runner Extension – 39:42 Git Integration – 47:44 Use Different Terminal – 51:07 Debugging – 58:45 Unit Testing – 1:03:25 Zen Mode – 1:09:55',\n",
       " 'In this Python Programming Tutorial, we will be learning how to set up a Python development environment in VSCode on MacOS. VSCode is a very nice free editor for writing Python applications and many developers are now switching over to this editor. In this video, we will learn how to install VSCode, get the Python extension installed, how to change Python interpreters, create virtual environments, format/lint our code, how to use Git within VSCode, how to debug our programs, how unit testing works, and more. We have a lot to cover, so let’s go ahead and get started…\\nVSCode on Windows – https://youtu.be/-nh9rCzPJ20\\nTimestamps for topics in this tutorial: Installation – 1:11 Python Extension – 6:21 Switching Interpreters – 10:16 Changing Color Themes – 13:08 VSCode Settings – 17:12 Set Default Python – 22:24 Using Virtual Environments – 25:52 IntelliSense – 30:28 Code Formatting – 33:08 Code Linting – 38:01 Code Runner Extension – 40:45 Git Integration – 49:05 Debugging – 58:15 Unit Testing – 1:02:38 Zen Mode – 1:10:42',\n",
       " 'In this Python Programming Tutorial, we will be clarifying the issues with mutable default arguments. We discussed this in my last video titled “5 Common Python Mistakes and How to Fix Them”, but I received many comments from people who were still confused. So we will be doing a deeper dive to explain exactly what is going on here. Let’s get started…']"
      ]
     },
     "execution_count": 65,
     "metadata": {},
     "output_type": "execute_result"
    }
   ],
   "source": [
    "content"
   ]
  },
  {
   "cell_type": "code",
   "execution_count": 66,
   "id": "8543049a",
   "metadata": {},
   "outputs": [
    {
     "data": {
      "text/plain": [
       "['https://www.youtube.com/embed/z0gguhEmWiY?version=3&rel=1&showsearch=0&showinfo=1&iv_load_policy=1&fs=1&hl=en-US&autohide=2&wmode=transparent',\n",
       " 'https://www.youtube.com/embed/_P7X8tMplsw?version=3&rel=1&showsearch=0&showinfo=1&iv_load_policy=1&fs=1&hl=en-US&autohide=2&wmode=transparent',\n",
       " 'https://www.youtube.com/embed/fKl2JW_qrso?version=3&rel=1&showsearch=0&showinfo=1&iv_load_policy=1&fs=1&hl=en-US&autohide=2&wmode=transparent',\n",
       " 'https://www.youtube.com/embed/IEEhzQoKtQU?version=3&rel=1&showsearch=0&showinfo=1&iv_load_policy=1&fs=1&hl=en-US&autohide=2&wmode=transparent',\n",
       " 'https://www.youtube.com/embed/mO_dS3rXDIs?version=3&rel=1&showsearch=0&showinfo=1&iv_load_policy=1&fs=1&hl=en-US&autohide=2&wmode=transparent',\n",
       " 'https://www.youtube.com/embed/2Fp1N6dof0Y?version=3&rel=1&showsearch=0&showinfo=1&iv_load_policy=1&fs=1&hl=en-US&autohide=2&wmode=transparent',\n",
       " 'https://www.youtube.com/embed/-nh9rCzPJ20?version=3&rel=1&showsearch=0&showinfo=1&iv_load_policy=1&fs=1&hl=en-US&autohide=2&wmode=transparent',\n",
       " 'https://www.youtube.com/embed/06I63_p-2A4?version=3&rel=1&showsearch=0&showinfo=1&iv_load_policy=1&fs=1&hl=en-US&autohide=2&wmode=transparent',\n",
       " 'https://www.youtube.com/embed/_JGmemuINww?version=3&rel=1&showsearch=0&showinfo=1&iv_load_policy=1&fs=1&hl=en-US&autohide=2&wmode=transparent']"
      ]
     },
     "execution_count": 66,
     "metadata": {},
     "output_type": "execute_result"
    }
   ],
   "source": [
    "links"
   ]
  },
  {
   "cell_type": "markdown",
   "id": "89ee8a0e",
   "metadata": {},
   "source": [
    "**Q8.Write a python program to scrape house details from mentioned URL. It should include house title, location,\n",
    "area, EMI and price from https://www.nobroker.in/ .Enter three localities which are Indira Nagar, Jayanagar,\n",
    "Rajaji Nagar.**"
   ]
  },
  {
   "cell_type": "code",
   "execution_count": 67,
   "id": "6cca9fab",
   "metadata": {},
   "outputs": [
    {
     "data": {
      "text/plain": [
       "200"
      ]
     },
     "execution_count": 67,
     "metadata": {},
     "output_type": "execute_result"
    }
   ],
   "source": [
    "URL='https://www.nobroker.in/property/sale/bangalore/multiple?searchParam=W3sibGF0IjoxMi45NzgzNjkyLCJsb24iOjc3LjY0MDgzNTYsInBsYWNlSWQiOiJDaElKa1FOM0dLUVdyanNSTmhCUUpyaEdEN1UiLCJwbGFjZU5hbWUiOiJJbmRpcmFuYWdhciJ9LHsibGF0IjoxMi45OTgxNzMyLCJsb24iOjc3LjU1MzA0NDU5OTk5OTk5LCJwbGFjZUlkIjoiQ2hJSnhmVzREUE05cmpzUktzTlRHLTVwX1FRIiwicGxhY2VOYW1lIjoiUmFqYWppbmFnYXIifSx7ImxhdCI6MTIuOTMwNzczNSwibG9uIjo3Ny41ODM4MzAyLCJwbGFjZUlkIjoiQ2hJSjJkZGxaNWdWcmpzUmgxQk9BYWYtb3JzIiwicGxhY2VOYW1lIjoiSmF5YW5hZ2FyIn1d&radius=2.0&city=bangalore&locality=Indiranagar,&locality=Rajajinagar,&locality=Jayanagar'\n",
    "respond=requests.get(URL)\n",
    "respond.status_code"
   ]
  },
  {
   "cell_type": "code",
   "execution_count": 68,
   "id": "1de2078c",
   "metadata": {},
   "outputs": [],
   "source": [
    "Page=respond.content\n",
    "Soup=BeautifulSoup(Page,'html.parser')"
   ]
  },
  {
   "cell_type": "code",
   "execution_count": 69,
   "id": "a9f34912",
   "metadata": {},
   "outputs": [
    {
     "data": {
      "text/plain": [
       "'₹2.06 Lacs/Month'"
      ]
     },
     "execution_count": 69,
     "metadata": {},
     "output_type": "execute_result"
    }
   ],
   "source": [
    "htitle=Soup.find_all('h2')\n",
    "location=Soup.find_all(class_=\"mt-0.5p overflow-hidden overflow-ellipsis whitespace-nowrap max-w-70 text-gray-light leading-4 po:mb-0 po:max-w-95\")\n",
    "area=Soup.find_all('div',{'id':\"minRent\"})\n",
    "Emi=Soup.find_all('div', { \"id\" : \"roomType\" })\n",
    "price=Soup.find_all('div',{'id':'minDeposit'})\n",
    "Emi[0].text"
   ]
  },
  {
   "cell_type": "code",
   "execution_count": 70,
   "id": "26bd1672",
   "metadata": {},
   "outputs": [],
   "source": [
    "h=[]\n",
    "loc=[]\n",
    "ar=[]\n",
    "emi=[]\n",
    "pri=[]\n",
    "for i in htitle:\n",
    "    h.append(i.text)\n",
    "for i  in location:\n",
    "    loc.append(i.text)\n",
    "for i in area:\n",
    "    ar.append(i.text)\n",
    "for i in Emi:\n",
    "    emi.append(i.text)\n",
    "for  i in price:\n",
    "    pri.append(i.span.text)"
   ]
  },
  {
   "cell_type": "code",
   "execution_count": 72,
   "id": "aa8fd9b8",
   "metadata": {},
   "outputs": [],
   "source": [
    "HouseDetails={\"Title\":h,\"Location\":loc,'Area':ar,\"Price\":pri,\"EMI\":emi}\n",
    "DFH=pd.DataFrame(HouseDetails,index=list(range(1,len(h)+1)))"
   ]
  },
  {
   "cell_type": "code",
   "execution_count": 73,
   "id": "b006de9f",
   "metadata": {},
   "outputs": [
    {
     "data": {
      "text/html": [
       "<div>\n",
       "<style scoped>\n",
       "    .dataframe tbody tr th:only-of-type {\n",
       "        vertical-align: middle;\n",
       "    }\n",
       "\n",
       "    .dataframe tbody tr th {\n",
       "        vertical-align: top;\n",
       "    }\n",
       "\n",
       "    .dataframe thead th {\n",
       "        text-align: right;\n",
       "    }\n",
       "</style>\n",
       "<table border=\"1\" class=\"dataframe\">\n",
       "  <thead>\n",
       "    <tr style=\"text-align: right;\">\n",
       "      <th></th>\n",
       "      <th>Title</th>\n",
       "      <th>Location</th>\n",
       "      <th>Area</th>\n",
       "      <th>Price</th>\n",
       "      <th>EMI</th>\n",
       "    </tr>\n",
       "  </thead>\n",
       "  <tbody>\n",
       "    <tr>\n",
       "      <th>1</th>\n",
       "      <td>3 BHK Flat  For Sale  In Sobha Indraprastha, R...</td>\n",
       "      <td>Minerva Mills Compound,Opposite Sujata Theatre...</td>\n",
       "      <td>2,200 sqft</td>\n",
       "      <td>₹3.6 Crores</td>\n",
       "      <td>₹2.06 Lacs/Month</td>\n",
       "    </tr>\n",
       "    <tr>\n",
       "      <th>2</th>\n",
       "      <td>3 BHK Flat  For Sale  In  Sgrr Pallavi Pristin...</td>\n",
       "      <td>11th Main Road,36 Cross, 4th T Block, Near ,Po...</td>\n",
       "      <td>1,340 sqft</td>\n",
       "      <td>₹1.3 Crores</td>\n",
       "      <td>₹74,508/Month</td>\n",
       "    </tr>\n",
       "    <tr>\n",
       "      <th>3</th>\n",
       "      <td>2 BHK In Independent House  For Sale  In 9th B...</td>\n",
       "      <td>Independent House, 41 A Cross, 18th Main, Jaya...</td>\n",
       "      <td>1,500 sqft</td>\n",
       "      <td>₹1.15 Crores</td>\n",
       "      <td>₹65,911/Month</td>\n",
       "    </tr>\n",
       "    <tr>\n",
       "      <th>4</th>\n",
       "      <td>3 BHK Flat  For Sale  In Total Environment Lif...</td>\n",
       "      <td>30th Cross Rd, 4th T Block , Jayanagar, Bengal...</td>\n",
       "      <td>2,628 sqft</td>\n",
       "      <td>₹3 Crores</td>\n",
       "      <td>₹1.72 Lacs/Month</td>\n",
       "    </tr>\n",
       "    <tr>\n",
       "      <th>5</th>\n",
       "      <td>4 BHK In Independent House  For Sale  In Jayan...</td>\n",
       "      <td>Independent House, 47th Cross Rd, 8th Block, 1...</td>\n",
       "      <td>3,700 sqft</td>\n",
       "      <td>₹9.5 Crores</td>\n",
       "      <td>₹5.44 Lacs/Month</td>\n",
       "    </tr>\n",
       "  </tbody>\n",
       "</table>\n",
       "</div>"
      ],
      "text/plain": [
       "                                               Title  \\\n",
       "1  3 BHK Flat  For Sale  In Sobha Indraprastha, R...   \n",
       "2  3 BHK Flat  For Sale  In  Sgrr Pallavi Pristin...   \n",
       "3  2 BHK In Independent House  For Sale  In 9th B...   \n",
       "4  3 BHK Flat  For Sale  In Total Environment Lif...   \n",
       "5  4 BHK In Independent House  For Sale  In Jayan...   \n",
       "\n",
       "                                            Location        Area  \\\n",
       "1  Minerva Mills Compound,Opposite Sujata Theatre...  2,200 sqft   \n",
       "2  11th Main Road,36 Cross, 4th T Block, Near ,Po...  1,340 sqft   \n",
       "3  Independent House, 41 A Cross, 18th Main, Jaya...  1,500 sqft   \n",
       "4  30th Cross Rd, 4th T Block , Jayanagar, Bengal...  2,628 sqft   \n",
       "5  Independent House, 47th Cross Rd, 8th Block, 1...  3,700 sqft   \n",
       "\n",
       "          Price               EMI  \n",
       "1   ₹3.6 Crores  ₹2.06 Lacs/Month  \n",
       "2   ₹1.3 Crores     ₹74,508/Month  \n",
       "3  ₹1.15 Crores     ₹65,911/Month  \n",
       "4     ₹3 Crores  ₹1.72 Lacs/Month  \n",
       "5   ₹9.5 Crores  ₹5.44 Lacs/Month  "
      ]
     },
     "execution_count": 73,
     "metadata": {},
     "output_type": "execute_result"
    }
   ],
   "source": [
    "DFH"
   ]
  },
  {
   "cell_type": "markdown",
   "id": "c92171c8",
   "metadata": {},
   "source": [
    "**Q9.Write a python program to scrape mentioned details from dineout.co.in:**\n",
    "\n",
    "\n",
    "i) Restaurant name\n",
    "ii) Cuisine\n",
    "iii) Location\n",
    "iv) Ratings\n",
    "v) Image URL "
   ]
  },
  {
   "cell_type": "code",
   "execution_count": 74,
   "id": "cef7bf99",
   "metadata": {},
   "outputs": [
    {
     "data": {
      "text/plain": [
       "200"
      ]
     },
     "execution_count": 74,
     "metadata": {},
     "output_type": "execute_result"
    }
   ],
   "source": [
    "URL=\"https://www.dineout.co.in/delhi-restaurants/welcome-back\"\n",
    "respond=requests.get(URL)\n",
    "respond.status_code"
   ]
  },
  {
   "cell_type": "code",
   "execution_count": 75,
   "id": "6b0c5c7c",
   "metadata": {},
   "outputs": [],
   "source": [
    "Page=respond.content\n",
    "Soup=BeautifulSoup(Page,'html.parser')"
   ]
  },
  {
   "cell_type": "code",
   "execution_count": 76,
   "id": "7be83414",
   "metadata": {
    "scrolled": false
   },
   "outputs": [],
   "source": [
    "Rname=Soup.find_all(class_=\"restnt-name ellipsis\")\n",
    "Cuisine=Soup.find_all('span',class_=\"double-line-ellipsis\")\n",
    "Location=Soup.find_all(class_=\"restnt-loc ellipsis\")\n",
    "Rating=Soup.find_all(class_=\"restnt-rating rating-4\")\n",
    "imageurl=Soup.find_all('img',class_=\"no-img\")"
   ]
  },
  {
   "cell_type": "code",
   "execution_count": 77,
   "id": "caefe110",
   "metadata": {},
   "outputs": [],
   "source": [
    "rnm=[]\n",
    "cui=[]\n",
    "loc=[]\n",
    "rtn=[]\n",
    "img=[]\n",
    "for i in Rname:\n",
    "    rnm.append(i.text)\n",
    "for i in Cuisine:\n",
    "    cui.append(i.text.split('|')[1])\n",
    "for i in Rating:\n",
    "    rtn.append(i.text)\n",
    "for i in imageurl:\n",
    "    img.append(i['data-src'])\n",
    "for i in Location:\n",
    "    loc.append(i.text)"
   ]
  },
  {
   "cell_type": "code",
   "execution_count": 78,
   "id": "4bae19a8",
   "metadata": {},
   "outputs": [],
   "source": [
    "Details={'Restaurant':rnm,\"Cuisine\":cui,\"Location\":loc,\"Rating\":rtn,\"Image\":img}\n",
    "Df=pd.DataFrame(Details,index=list(range(1,22)))"
   ]
  },
  {
   "cell_type": "code",
   "execution_count": 79,
   "id": "5b39ef60",
   "metadata": {},
   "outputs": [
    {
     "data": {
      "text/html": [
       "<div>\n",
       "<style scoped>\n",
       "    .dataframe tbody tr th:only-of-type {\n",
       "        vertical-align: middle;\n",
       "    }\n",
       "\n",
       "    .dataframe tbody tr th {\n",
       "        vertical-align: top;\n",
       "    }\n",
       "\n",
       "    .dataframe thead th {\n",
       "        text-align: right;\n",
       "    }\n",
       "</style>\n",
       "<table border=\"1\" class=\"dataframe\">\n",
       "  <thead>\n",
       "    <tr style=\"text-align: right;\">\n",
       "      <th></th>\n",
       "      <th>Restaurant</th>\n",
       "      <th>Cuisine</th>\n",
       "      <th>Location</th>\n",
       "      <th>Rating</th>\n",
       "      <th>Image</th>\n",
       "    </tr>\n",
       "  </thead>\n",
       "  <tbody>\n",
       "    <tr>\n",
       "      <th>1</th>\n",
       "      <td>Tamasha</td>\n",
       "      <td>Continental, Finger Food, Asian, Italian, Nor...</td>\n",
       "      <td>Connaught Place, Central Delhi</td>\n",
       "      <td>4.2</td>\n",
       "      <td>https://im1.dineout.co.in/images/uploads/resta...</td>\n",
       "    </tr>\n",
       "    <tr>\n",
       "      <th>2</th>\n",
       "      <td>Local</td>\n",
       "      <td>North Indian, Italian, Asian, Continental</td>\n",
       "      <td>Scindia House,Connaught Place, Central Delhi</td>\n",
       "      <td>4</td>\n",
       "      <td>https://im1.dineout.co.in/images/uploads/resta...</td>\n",
       "    </tr>\n",
       "    <tr>\n",
       "      <th>3</th>\n",
       "      <td>The G.T. ROAD</td>\n",
       "      <td>North Indian</td>\n",
       "      <td>M-Block,Connaught Place, Central Delhi</td>\n",
       "      <td>4.3</td>\n",
       "      <td>https://im1.dineout.co.in/images/uploads/resta...</td>\n",
       "    </tr>\n",
       "    <tr>\n",
       "      <th>4</th>\n",
       "      <td>Unplugged Courtyard</td>\n",
       "      <td>North Indian, Italian, Chinese, Turkish, Cont...</td>\n",
       "      <td>Connaught Place, Central Delhi</td>\n",
       "      <td>4</td>\n",
       "      <td>https://im1.dineout.co.in/images/uploads/resta...</td>\n",
       "    </tr>\n",
       "    <tr>\n",
       "      <th>5</th>\n",
       "      <td>Ministry Of Beer</td>\n",
       "      <td>Italian, Chinese, North Indian, Continental, ...</td>\n",
       "      <td>M-Block,Connaught Place, Central Delhi</td>\n",
       "      <td>4</td>\n",
       "      <td>https://im1.dineout.co.in/images/uploads/resta...</td>\n",
       "    </tr>\n",
       "    <tr>\n",
       "      <th>6</th>\n",
       "      <td>Out Of The Box Courtyard</td>\n",
       "      <td>North Indian, Oriental , American, Chinese, C...</td>\n",
       "      <td>Connaught Place, Central Delhi</td>\n",
       "      <td>4.1</td>\n",
       "      <td>https://im1.dineout.co.in/images/uploads/resta...</td>\n",
       "    </tr>\n",
       "    <tr>\n",
       "      <th>7</th>\n",
       "      <td>The Junkyard Cafe</td>\n",
       "      <td>Mediterranean, North Indian, Asian, Italian, ...</td>\n",
       "      <td>Connaught Place, Central Delhi</td>\n",
       "      <td>4.1</td>\n",
       "      <td>https://im1.dineout.co.in/images/uploads/resta...</td>\n",
       "    </tr>\n",
       "    <tr>\n",
       "      <th>8</th>\n",
       "      <td>Connaught Clubhouse Microbrewery</td>\n",
       "      <td>North Indian, Italian, Asian, European, Mughlai</td>\n",
       "      <td>Connaught Place, Central Delhi</td>\n",
       "      <td>4.2</td>\n",
       "      <td>https://im1.dineout.co.in/images/uploads/resta...</td>\n",
       "    </tr>\n",
       "    <tr>\n",
       "      <th>9</th>\n",
       "      <td>Chili's American Grill and Bar</td>\n",
       "      <td>Mexican, American, Tex Mex, Tex Mex</td>\n",
       "      <td>M-Block,Connaught Place, Central Delhi</td>\n",
       "      <td>4.3</td>\n",
       "      <td>https://im1.dineout.co.in/images/uploads/resta...</td>\n",
       "    </tr>\n",
       "    <tr>\n",
       "      <th>10</th>\n",
       "      <td>High 5 - Everyday Wholesale Bar</td>\n",
       "      <td>North Indian, Continental, Chinese</td>\n",
       "      <td>Connaught Place, Central Delhi</td>\n",
       "      <td>3.8</td>\n",
       "      <td>https://im1.dineout.co.in/images/uploads/resta...</td>\n",
       "    </tr>\n",
       "    <tr>\n",
       "      <th>11</th>\n",
       "      <td>Barbeque Nation</td>\n",
       "      <td>North Indian, Barbecue, Mughlai</td>\n",
       "      <td>Connaught Place, Central Delhi</td>\n",
       "      <td>4.4</td>\n",
       "      <td>https://im1.dineout.co.in/images/uploads/resta...</td>\n",
       "    </tr>\n",
       "    <tr>\n",
       "      <th>12</th>\n",
       "      <td>QBA</td>\n",
       "      <td>North Indian, Oriental , Continental, Italian</td>\n",
       "      <td>Connaught Place, Central Delhi</td>\n",
       "      <td>4.3</td>\n",
       "      <td>https://im1.dineout.co.in/images/uploads/resta...</td>\n",
       "    </tr>\n",
       "    <tr>\n",
       "      <th>13</th>\n",
       "      <td>Sandoz</td>\n",
       "      <td>North Indian, Chinese, Mughlai</td>\n",
       "      <td>Connaught Place, Central Delhi</td>\n",
       "      <td>4</td>\n",
       "      <td>https://im1.dineout.co.in/images/uploads/resta...</td>\n",
       "    </tr>\n",
       "    <tr>\n",
       "      <th>14</th>\n",
       "      <td>38 Barracks</td>\n",
       "      <td>North Indian, Chinese, Continental, Fast Food</td>\n",
       "      <td>M-Block,Connaught Place, Central Delhi</td>\n",
       "      <td>4.3</td>\n",
       "      <td>https://im1.dineout.co.in/images/uploads/resta...</td>\n",
       "    </tr>\n",
       "    <tr>\n",
       "      <th>15</th>\n",
       "      <td>Farzi Cafe</td>\n",
       "      <td>Modern Indian, Continental, Finger Food</td>\n",
       "      <td>Connaught Place, Central Delhi</td>\n",
       "      <td>4.2</td>\n",
       "      <td>https://im1.dineout.co.in/images/uploads/resta...</td>\n",
       "    </tr>\n",
       "    <tr>\n",
       "      <th>16</th>\n",
       "      <td>Cafe Delhi Heights</td>\n",
       "      <td>Continental, Modern Indian, Italian, Chinese</td>\n",
       "      <td>Janpath, Central Delhi</td>\n",
       "      <td>4.3</td>\n",
       "      <td>https://im1.dineout.co.in/images/uploads/resta...</td>\n",
       "    </tr>\n",
       "    <tr>\n",
       "      <th>17</th>\n",
       "      <td>Ardor 2.1 Restaurant and Lounge</td>\n",
       "      <td>North Indian, Chinese, Continental, Italian</td>\n",
       "      <td>Connaught Place, Central Delhi</td>\n",
       "      <td>3.8</td>\n",
       "      <td>https://im1.dineout.co.in/images/uploads/resta...</td>\n",
       "    </tr>\n",
       "    <tr>\n",
       "      <th>18</th>\n",
       "      <td>My Bar Square</td>\n",
       "      <td>Finger Food, Chinese, Continental, Italian</td>\n",
       "      <td>Connaught Place, Central Delhi</td>\n",
       "      <td>3.8</td>\n",
       "      <td>https://im1.dineout.co.in/images/uploads/resta...</td>\n",
       "    </tr>\n",
       "    <tr>\n",
       "      <th>19</th>\n",
       "      <td>Warehouse Cafe</td>\n",
       "      <td>Fusion, North Indian, Chinese, Italian</td>\n",
       "      <td>Connaught Place, Central Delhi</td>\n",
       "      <td>4.1</td>\n",
       "      <td>https://im1.dineout.co.in/images/uploads/resta...</td>\n",
       "    </tr>\n",
       "    <tr>\n",
       "      <th>20</th>\n",
       "      <td>Chido</td>\n",
       "      <td>North Indian, Italian, Continental, Asian, Fi...</td>\n",
       "      <td>Connaught Place, Central Delhi</td>\n",
       "      <td>4.2</td>\n",
       "      <td>https://im1.dineout.co.in/images/uploads/resta...</td>\n",
       "    </tr>\n",
       "    <tr>\n",
       "      <th>21</th>\n",
       "      <td>Caffe Tonino</td>\n",
       "      <td>Italian</td>\n",
       "      <td>PVR Plaza,Connaught Place, Central Delhi</td>\n",
       "      <td>4.4</td>\n",
       "      <td>https://im1.dineout.co.in/images/uploads/resta...</td>\n",
       "    </tr>\n",
       "  </tbody>\n",
       "</table>\n",
       "</div>"
      ],
      "text/plain": [
       "                          Restaurant  \\\n",
       "1                            Tamasha   \n",
       "2                              Local   \n",
       "3                      The G.T. ROAD   \n",
       "4                Unplugged Courtyard   \n",
       "5                   Ministry Of Beer   \n",
       "6           Out Of The Box Courtyard   \n",
       "7                  The Junkyard Cafe   \n",
       "8   Connaught Clubhouse Microbrewery   \n",
       "9     Chili's American Grill and Bar   \n",
       "10   High 5 - Everyday Wholesale Bar   \n",
       "11                   Barbeque Nation   \n",
       "12                               QBA   \n",
       "13                            Sandoz   \n",
       "14                       38 Barracks   \n",
       "15                        Farzi Cafe   \n",
       "16                Cafe Delhi Heights   \n",
       "17   Ardor 2.1 Restaurant and Lounge   \n",
       "18                     My Bar Square   \n",
       "19                    Warehouse Cafe   \n",
       "20                             Chido   \n",
       "21                      Caffe Tonino   \n",
       "\n",
       "                                              Cuisine  \\\n",
       "1    Continental, Finger Food, Asian, Italian, Nor...   \n",
       "2           North Indian, Italian, Asian, Continental   \n",
       "3                                        North Indian   \n",
       "4    North Indian, Italian, Chinese, Turkish, Cont...   \n",
       "5    Italian, Chinese, North Indian, Continental, ...   \n",
       "6    North Indian, Oriental , American, Chinese, C...   \n",
       "7    Mediterranean, North Indian, Asian, Italian, ...   \n",
       "8     North Indian, Italian, Asian, European, Mughlai   \n",
       "9                 Mexican, American, Tex Mex, Tex Mex   \n",
       "10                 North Indian, Continental, Chinese   \n",
       "11                    North Indian, Barbecue, Mughlai   \n",
       "12      North Indian, Oriental , Continental, Italian   \n",
       "13                     North Indian, Chinese, Mughlai   \n",
       "14      North Indian, Chinese, Continental, Fast Food   \n",
       "15            Modern Indian, Continental, Finger Food   \n",
       "16       Continental, Modern Indian, Italian, Chinese   \n",
       "17        North Indian, Chinese, Continental, Italian   \n",
       "18         Finger Food, Chinese, Continental, Italian   \n",
       "19             Fusion, North Indian, Chinese, Italian   \n",
       "20   North Indian, Italian, Continental, Asian, Fi...   \n",
       "21                                            Italian   \n",
       "\n",
       "                                        Location Rating  \\\n",
       "1                 Connaught Place, Central Delhi    4.2   \n",
       "2   Scindia House,Connaught Place, Central Delhi      4   \n",
       "3         M-Block,Connaught Place, Central Delhi    4.3   \n",
       "4                 Connaught Place, Central Delhi      4   \n",
       "5         M-Block,Connaught Place, Central Delhi      4   \n",
       "6                 Connaught Place, Central Delhi    4.1   \n",
       "7                 Connaught Place, Central Delhi    4.1   \n",
       "8                 Connaught Place, Central Delhi    4.2   \n",
       "9         M-Block,Connaught Place, Central Delhi    4.3   \n",
       "10                Connaught Place, Central Delhi    3.8   \n",
       "11                Connaught Place, Central Delhi    4.4   \n",
       "12                Connaught Place, Central Delhi    4.3   \n",
       "13                Connaught Place, Central Delhi      4   \n",
       "14        M-Block,Connaught Place, Central Delhi    4.3   \n",
       "15                Connaught Place, Central Delhi    4.2   \n",
       "16                        Janpath, Central Delhi    4.3   \n",
       "17                Connaught Place, Central Delhi    3.8   \n",
       "18                Connaught Place, Central Delhi    3.8   \n",
       "19                Connaught Place, Central Delhi    4.1   \n",
       "20                Connaught Place, Central Delhi    4.2   \n",
       "21      PVR Plaza,Connaught Place, Central Delhi    4.4   \n",
       "\n",
       "                                                Image  \n",
       "1   https://im1.dineout.co.in/images/uploads/resta...  \n",
       "2   https://im1.dineout.co.in/images/uploads/resta...  \n",
       "3   https://im1.dineout.co.in/images/uploads/resta...  \n",
       "4   https://im1.dineout.co.in/images/uploads/resta...  \n",
       "5   https://im1.dineout.co.in/images/uploads/resta...  \n",
       "6   https://im1.dineout.co.in/images/uploads/resta...  \n",
       "7   https://im1.dineout.co.in/images/uploads/resta...  \n",
       "8   https://im1.dineout.co.in/images/uploads/resta...  \n",
       "9   https://im1.dineout.co.in/images/uploads/resta...  \n",
       "10  https://im1.dineout.co.in/images/uploads/resta...  \n",
       "11  https://im1.dineout.co.in/images/uploads/resta...  \n",
       "12  https://im1.dineout.co.in/images/uploads/resta...  \n",
       "13  https://im1.dineout.co.in/images/uploads/resta...  \n",
       "14  https://im1.dineout.co.in/images/uploads/resta...  \n",
       "15  https://im1.dineout.co.in/images/uploads/resta...  \n",
       "16  https://im1.dineout.co.in/images/uploads/resta...  \n",
       "17  https://im1.dineout.co.in/images/uploads/resta...  \n",
       "18  https://im1.dineout.co.in/images/uploads/resta...  \n",
       "19  https://im1.dineout.co.in/images/uploads/resta...  \n",
       "20  https://im1.dineout.co.in/images/uploads/resta...  \n",
       "21  https://im1.dineout.co.in/images/uploads/resta...  "
      ]
     },
     "execution_count": 79,
     "metadata": {},
     "output_type": "execute_result"
    }
   ],
   "source": [
    "Df"
   ]
  },
  {
   "cell_type": "markdown",
   "id": "279c1a7b",
   "metadata": {},
   "source": [
    "**Q10. Write a python program to scrape first 10 product details which include product name , price , Image URL from https://www.bewakoof.com/women-tshirts?ga_q=tshirts .**"
   ]
  },
  {
   "cell_type": "code",
   "execution_count": 80,
   "id": "76460022",
   "metadata": {},
   "outputs": [
    {
     "data": {
      "text/plain": [
       "200"
      ]
     },
     "execution_count": 80,
     "metadata": {},
     "output_type": "execute_result"
    }
   ],
   "source": [
    "UrL='https://www.bewakoof.com/women-tshirts?ga_q=tshirts&sort=new'\n",
    "respond=requests.get(UrL)\n",
    "respond.status_code"
   ]
  },
  {
   "cell_type": "code",
   "execution_count": 81,
   "id": "f2b5c849",
   "metadata": {},
   "outputs": [],
   "source": [
    "Page=respond.content\n",
    "Soup=BeautifulSoup(Page,'html.parser')"
   ]
  },
  {
   "cell_type": "code",
   "execution_count": 82,
   "id": "8baa0f0c",
   "metadata": {},
   "outputs": [],
   "source": [
    "Product=Soup.find_all('h3')\n",
    "price=Soup.find_all('b')\n",
    "img=Soup.find_all('img')"
   ]
  },
  {
   "cell_type": "code",
   "execution_count": 83,
   "id": "d468e852",
   "metadata": {},
   "outputs": [],
   "source": [
    "pr=[]\n",
    "pri=[]\n",
    "imgs=[]\n",
    "for i in Product:\n",
    "    pr.append(i.text)\n",
    "for i in price:\n",
    "    pri.append(i.text)\n",
    "for i in img:\n",
    "    imgs.append(i['src'])"
   ]
  },
  {
   "cell_type": "code",
   "execution_count": 84,
   "id": "b8419c27",
   "metadata": {},
   "outputs": [],
   "source": [
    "Tshirt={\"Product\":pr[:10],'Price':pri[:10],'Image':imgs[:10]}\n",
    "Df=pd.DataFrame(Tshirt,index=list(range(1,11)))"
   ]
  },
  {
   "cell_type": "code",
   "execution_count": 85,
   "id": "25d164d8",
   "metadata": {
    "scrolled": true
   },
   "outputs": [
    {
     "data": {
      "text/html": [
       "<div>\n",
       "<style scoped>\n",
       "    .dataframe tbody tr th:only-of-type {\n",
       "        vertical-align: middle;\n",
       "    }\n",
       "\n",
       "    .dataframe tbody tr th {\n",
       "        vertical-align: top;\n",
       "    }\n",
       "\n",
       "    .dataframe thead th {\n",
       "        text-align: right;\n",
       "    }\n",
       "</style>\n",
       "<table border=\"1\" class=\"dataframe\">\n",
       "  <thead>\n",
       "    <tr style=\"text-align: right;\">\n",
       "      <th></th>\n",
       "      <th>Product</th>\n",
       "      <th>Price</th>\n",
       "      <th>Image</th>\n",
       "    </tr>\n",
       "  </thead>\n",
       "  <tbody>\n",
       "    <tr>\n",
       "      <th>1</th>\n",
       "      <td>Busy Doing Nothing Half Sleeve T-shirt</td>\n",
       "      <td>199</td>\n",
       "      <td>https://images.bewakoof.com/web/bewakoof-prima...</td>\n",
       "    </tr>\n",
       "    <tr>\n",
       "      <th>2</th>\n",
       "      <td>Yoga se Hoga Women's Half Sleeve T-Shirt</td>\n",
       "      <td>₹179</td>\n",
       "      <td>https://images.bewakoof.com/web/search-glass.png</td>\n",
       "    </tr>\n",
       "    <tr>\n",
       "      <th>3</th>\n",
       "      <td>Cuteness Superpower Half Sleeve T-Shirt</td>\n",
       "      <td>299</td>\n",
       "      <td>https://images.bewakoof.com/web/heart-wishlist...</td>\n",
       "    </tr>\n",
       "    <tr>\n",
       "      <th>4</th>\n",
       "      <td>Stay Classy Minnie Half Sleeve T-Shirt (DL)</td>\n",
       "      <td>₹279</td>\n",
       "      <td>https://images.bewakoof.com/web/shopping-bag.png</td>\n",
       "    </tr>\n",
       "    <tr>\n",
       "      <th>5</th>\n",
       "      <td>Stay Classy Minnie Half Sleeve Printed T-shirt...</td>\n",
       "      <td>299</td>\n",
       "      <td>https://images.bewakoof.com/t320/busy-doing-no...</td>\n",
       "    </tr>\n",
       "    <tr>\n",
       "      <th>6</th>\n",
       "      <td>I'm Amazing Half Sleeve T-Shirt (TJL)</td>\n",
       "      <td>₹279</td>\n",
       "      <td>https://images.bewakoof.com/t320/yoga-se-hoga-...</td>\n",
       "    </tr>\n",
       "    <tr>\n",
       "      <th>7</th>\n",
       "      <td>Minnie Mood Half Sleeve T-Shirt (DL)</td>\n",
       "      <td>199</td>\n",
       "      <td>https://images.bewakoof.com/t320/cuteness-supe...</td>\n",
       "    </tr>\n",
       "    <tr>\n",
       "      <th>8</th>\n",
       "      <td>Climbing pocket panda Half Sleeve Printed T-shirt</td>\n",
       "      <td>₹179</td>\n",
       "      <td>https://images.bewakoof.com/t320/stay-classy-m...</td>\n",
       "    </tr>\n",
       "    <tr>\n",
       "      <th>9</th>\n",
       "      <td>Powered By Coffee Half Sleeve Printed T-shirt</td>\n",
       "      <td>299</td>\n",
       "      <td>https://images.bewakoof.com/t320/stay-classy-m...</td>\n",
       "    </tr>\n",
       "    <tr>\n",
       "      <th>10</th>\n",
       "      <td>Tweety Origami Half Sleeve Printed T-shirt (LTL)</td>\n",
       "      <td>₹279</td>\n",
       "      <td>https://images.bewakoof.com/t320/i-m-amazing-t...</td>\n",
       "    </tr>\n",
       "  </tbody>\n",
       "</table>\n",
       "</div>"
      ],
      "text/plain": [
       "                                              Product Price  \\\n",
       "1              Busy Doing Nothing Half Sleeve T-shirt   199   \n",
       "2            Yoga se Hoga Women's Half Sleeve T-Shirt  ₹179   \n",
       "3             Cuteness Superpower Half Sleeve T-Shirt   299   \n",
       "4         Stay Classy Minnie Half Sleeve T-Shirt (DL)  ₹279   \n",
       "5   Stay Classy Minnie Half Sleeve Printed T-shirt...   299   \n",
       "6               I'm Amazing Half Sleeve T-Shirt (TJL)  ₹279   \n",
       "7                Minnie Mood Half Sleeve T-Shirt (DL)   199   \n",
       "8   Climbing pocket panda Half Sleeve Printed T-shirt  ₹179   \n",
       "9       Powered By Coffee Half Sleeve Printed T-shirt   299   \n",
       "10   Tweety Origami Half Sleeve Printed T-shirt (LTL)  ₹279   \n",
       "\n",
       "                                                Image  \n",
       "1   https://images.bewakoof.com/web/bewakoof-prima...  \n",
       "2    https://images.bewakoof.com/web/search-glass.png  \n",
       "3   https://images.bewakoof.com/web/heart-wishlist...  \n",
       "4    https://images.bewakoof.com/web/shopping-bag.png  \n",
       "5   https://images.bewakoof.com/t320/busy-doing-no...  \n",
       "6   https://images.bewakoof.com/t320/yoga-se-hoga-...  \n",
       "7   https://images.bewakoof.com/t320/cuteness-supe...  \n",
       "8   https://images.bewakoof.com/t320/stay-classy-m...  \n",
       "9   https://images.bewakoof.com/t320/stay-classy-m...  \n",
       "10  https://images.bewakoof.com/t320/i-m-amazing-t...  "
      ]
     },
     "execution_count": 85,
     "metadata": {},
     "output_type": "execute_result"
    }
   ],
   "source": [
    "Df"
   ]
  }
 ],
 "metadata": {
  "kernelspec": {
   "display_name": "Python 3",
   "language": "python",
   "name": "python3"
  },
  "language_info": {
   "codemirror_mode": {
    "name": "ipython",
    "version": 3
   },
   "file_extension": ".py",
   "mimetype": "text/x-python",
   "name": "python",
   "nbconvert_exporter": "python",
   "pygments_lexer": "ipython3",
   "version": "3.8.8"
  }
 },
 "nbformat": 4,
 "nbformat_minor": 5
}
