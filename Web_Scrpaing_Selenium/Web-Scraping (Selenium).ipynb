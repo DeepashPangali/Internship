{
 "cells": [
  {
   "cell_type": "markdown",
   "id": "b7ef23f8",
   "metadata": {},
   "source": [
    "# WEB SCRAPING – ASSIGNMENT 2"
   ]
  },
  {
   "cell_type": "code",
   "execution_count": 1,
   "id": "eccb4ed9",
   "metadata": {},
   "outputs": [],
   "source": [
    "import selenium\n",
    "from selenium import webdriver\n",
    "import pandas as pd\n",
    "import warnings\n",
    "import time\n",
    "warnings.filterwarnings(\"ignore\")"
   ]
  },
  {
   "cell_type": "code",
   "execution_count": 2,
   "id": "397b1a3a",
   "metadata": {},
   "outputs": [],
   "source": [
    "#Connecting to the webdriver\n",
    "driver=webdriver.Chrome('chromedriver.exe')"
   ]
  },
  {
   "cell_type": "markdown",
   "id": "5a7bb6ea",
   "metadata": {},
   "source": [
    "**Q1.Write a python program to scrape data for “Data Analyst” Job position in “Bangalore” location. You have to scrape the job-title, job-location, company_name, experience_required. You have to scrape first 10jobs data.**"
   ]
  },
  {
   "cell_type": "code",
   "execution_count": 3,
   "id": "4005f8fc",
   "metadata": {},
   "outputs": [],
   "source": [
    "#Getting the Webpage\n",
    "url='https://www.naukri.com/'\n",
    "driver.get(url)"
   ]
  },
  {
   "cell_type": "code",
   "execution_count": 4,
   "id": "4f41d520",
   "metadata": {},
   "outputs": [],
   "source": [
    "#getting the search bar\n",
    "Search_job=driver.find_element_by_class_name(\"suggestor-input\")\n",
    "Search_loc=driver.find_element_by_xpath('/html/body/div/div[2]/div[3]/div/div/div[3]/div/div/div/input')"
   ]
  },
  {
   "cell_type": "code",
   "execution_count": 5,
   "id": "5b589c1c",
   "metadata": {},
   "outputs": [],
   "source": [
    "#sending keys\n",
    "Search_job.send_keys(\"Data Analyst\")\n",
    "Search_loc.send_keys(\"Banglore\")\n",
    "#getting Search button\n",
    "Search_butn=driver.find_element_by_xpath(\"/html/body/div/div[2]/div[3]/div/div/div[6]\")"
   ]
  },
  {
   "cell_type": "code",
   "execution_count": 6,
   "id": "67b4b807",
   "metadata": {},
   "outputs": [],
   "source": [
    "#clicking the button\n",
    "Search_butn.click()"
   ]
  },
  {
   "cell_type": "code",
   "execution_count": 7,
   "id": "0025bf47",
   "metadata": {},
   "outputs": [],
   "source": [
    "#Extracting job title\n",
    "job_title=driver.find_elements_by_xpath('//a[@class=\"title fw500 ellipsis\"]')\n",
    "#Extracting Location\n",
    "job_location=driver.find_elements_by_xpath('//li[@class=\"fleft grey-text br2 placeHolderLi location\"]')\n",
    "#Extracting Company name\n",
    "company_name=driver.find_elements_by_xpath('//a[@class=\"subTitle ellipsis fleft\"]')\n",
    "#Extracting experience required\n",
    "experience_required=driver.find_elements_by_xpath('//li[@class=\"fleft grey-text br2 placeHolderLi experience\"]')"
   ]
  },
  {
   "cell_type": "code",
   "execution_count": 8,
   "id": "3ee76313",
   "metadata": {},
   "outputs": [],
   "source": [
    "#Creating empty lists lists\n",
    "jobt=[]\n",
    "locn=[]\n",
    "cn=[]\n",
    "exp=[]\n",
    "for i in job_title:\n",
    "    jobt.append(i.text)\n",
    "for i in job_location:\n",
    "    locn.append(i.text)\n",
    "for i in company_name:\n",
    "    cn.append(i.text)\n",
    "for i in experience_required:\n",
    "    exp.append(i.text)"
   ]
  },
  {
   "cell_type": "code",
   "execution_count": 9,
   "id": "7e5d0d88",
   "metadata": {},
   "outputs": [
    {
     "name": "stdout",
     "output_type": "stream",
     "text": [
      "20\n",
      "20\n",
      "20\n"
     ]
    }
   ],
   "source": [
    "#checking length of the list\n",
    "print(len(jobt))\n",
    "print(len(locn))\n",
    "print(len(cn))"
   ]
  },
  {
   "cell_type": "code",
   "execution_count": 10,
   "id": "d8ae307e",
   "metadata": {},
   "outputs": [
    {
     "data": {
      "text/html": [
       "<div>\n",
       "<style scoped>\n",
       "    .dataframe tbody tr th:only-of-type {\n",
       "        vertical-align: middle;\n",
       "    }\n",
       "\n",
       "    .dataframe tbody tr th {\n",
       "        vertical-align: top;\n",
       "    }\n",
       "\n",
       "    .dataframe thead th {\n",
       "        text-align: right;\n",
       "    }\n",
       "</style>\n",
       "<table border=\"1\" class=\"dataframe\">\n",
       "  <thead>\n",
       "    <tr style=\"text-align: right;\">\n",
       "      <th></th>\n",
       "      <th>Job Title</th>\n",
       "      <th>Company</th>\n",
       "      <th>Experience</th>\n",
       "      <th>Location</th>\n",
       "    </tr>\n",
       "  </thead>\n",
       "  <tbody>\n",
       "    <tr>\n",
       "      <th>1</th>\n",
       "      <td>Data Analyst I</td>\n",
       "      <td>Cerner</td>\n",
       "      <td>5-10 Yrs</td>\n",
       "      <td>Bangalore/Bengaluru</td>\n",
       "    </tr>\n",
       "    <tr>\n",
       "      <th>2</th>\n",
       "      <td>Hiring For Data Analyst I(SQL &amp; Python)</td>\n",
       "      <td>Clario India Pvt Ltd</td>\n",
       "      <td>0-2 Yrs</td>\n",
       "      <td>Bangalore/Bengaluru</td>\n",
       "    </tr>\n",
       "    <tr>\n",
       "      <th>3</th>\n",
       "      <td>Senior Data Analyst</td>\n",
       "      <td>Capco</td>\n",
       "      <td>4-8 Yrs</td>\n",
       "      <td>Bangalore/Bengaluru</td>\n",
       "    </tr>\n",
       "    <tr>\n",
       "      <th>4</th>\n",
       "      <td>Senior Data Analyst II</td>\n",
       "      <td>Flipkart</td>\n",
       "      <td>3-6 Yrs</td>\n",
       "      <td>Bangalore/Bengaluru</td>\n",
       "    </tr>\n",
       "    <tr>\n",
       "      <th>5</th>\n",
       "      <td>Senior Data Analyst</td>\n",
       "      <td>Flipkart</td>\n",
       "      <td>3-8 Yrs</td>\n",
       "      <td>Bangalore/Bengaluru</td>\n",
       "    </tr>\n",
       "    <tr>\n",
       "      <th>6</th>\n",
       "      <td>Senior Data Analyst II</td>\n",
       "      <td>Flipkart</td>\n",
       "      <td>2-4 Yrs</td>\n",
       "      <td>Bangalore/Bengaluru</td>\n",
       "    </tr>\n",
       "    <tr>\n",
       "      <th>7</th>\n",
       "      <td>Senior Data Analyst II</td>\n",
       "      <td>Flipkart</td>\n",
       "      <td>2-4 Yrs</td>\n",
       "      <td>Bangalore/Bengaluru</td>\n",
       "    </tr>\n",
       "    <tr>\n",
       "      <th>8</th>\n",
       "      <td>Looking For Data Analyst - Remote Support</td>\n",
       "      <td>Locuz Enterprise Solutions Ltd</td>\n",
       "      <td>5-10 Yrs</td>\n",
       "      <td>Hyderabad/Secunderabad, Chennai, Bangalore/Ben...</td>\n",
       "    </tr>\n",
       "    <tr>\n",
       "      <th>9</th>\n",
       "      <td>Job openings For Data Analyst - AOA</td>\n",
       "      <td>izmo ltd</td>\n",
       "      <td>2-3 Yrs</td>\n",
       "      <td>Bangalore/Bengaluru(4th Phase JP Nagar)</td>\n",
       "    </tr>\n",
       "    <tr>\n",
       "      <th>10</th>\n",
       "      <td>Cargill - Data Analyst - Corporate Audit Domai...</td>\n",
       "      <td>Cargill Business Services India Private Limited</td>\n",
       "      <td>6-11 Yrs</td>\n",
       "      <td>Bangalore/Bengaluru</td>\n",
       "    </tr>\n",
       "  </tbody>\n",
       "</table>\n",
       "</div>"
      ],
      "text/plain": [
       "                                            Job Title  \\\n",
       "1                                      Data Analyst I   \n",
       "2             Hiring For Data Analyst I(SQL & Python)   \n",
       "3                                 Senior Data Analyst   \n",
       "4                              Senior Data Analyst II   \n",
       "5                                 Senior Data Analyst   \n",
       "6                              Senior Data Analyst II   \n",
       "7                              Senior Data Analyst II   \n",
       "8           Looking For Data Analyst - Remote Support   \n",
       "9                 Job openings For Data Analyst - AOA   \n",
       "10  Cargill - Data Analyst - Corporate Audit Domai...   \n",
       "\n",
       "                                            Company Experience  \\\n",
       "1                                            Cerner   5-10 Yrs   \n",
       "2                              Clario India Pvt Ltd    0-2 Yrs   \n",
       "3                                             Capco    4-8 Yrs   \n",
       "4                                          Flipkart    3-6 Yrs   \n",
       "5                                          Flipkart    3-8 Yrs   \n",
       "6                                          Flipkart    2-4 Yrs   \n",
       "7                                          Flipkart    2-4 Yrs   \n",
       "8                    Locuz Enterprise Solutions Ltd   5-10 Yrs   \n",
       "9                                          izmo ltd    2-3 Yrs   \n",
       "10  Cargill Business Services India Private Limited   6-11 Yrs   \n",
       "\n",
       "                                             Location  \n",
       "1                                 Bangalore/Bengaluru  \n",
       "2                                 Bangalore/Bengaluru  \n",
       "3                                 Bangalore/Bengaluru  \n",
       "4                                 Bangalore/Bengaluru  \n",
       "5                                 Bangalore/Bengaluru  \n",
       "6                                 Bangalore/Bengaluru  \n",
       "7                                 Bangalore/Bengaluru  \n",
       "8   Hyderabad/Secunderabad, Chennai, Bangalore/Ben...  \n",
       "9             Bangalore/Bengaluru(4th Phase JP Nagar)  \n",
       "10                                Bangalore/Bengaluru  "
      ]
     },
     "execution_count": 10,
     "metadata": {},
     "output_type": "execute_result"
    }
   ],
   "source": [
    "#Creating a dictionary & DataFrame\n",
    "details={\"Job Title\":jobt,\"Company\":cn,\"Experience\":exp,\"Location\":locn}\n",
    "Df=pd.DataFrame(details,list(range(1,21)))\n",
    "Df=Df.iloc[:10,:]\n",
    "Df"
   ]
  },
  {
   "cell_type": "markdown",
   "id": "218dfa4f",
   "metadata": {},
   "source": [
    "**Q2.Write a python program to scrape data for “Data Scientist” Job position in “Bangalore” location. You have to scrape the job-title, job-location, company_name. You have to scrape first 10 jobs data.**"
   ]
  },
  {
   "cell_type": "code",
   "execution_count": 11,
   "id": "e463464e",
   "metadata": {},
   "outputs": [],
   "source": [
    "#Connecting to the web driver\n",
    "driver=webdriver.Chrome('chromedriver.exe')"
   ]
  },
  {
   "cell_type": "code",
   "execution_count": 12,
   "id": "325385cc",
   "metadata": {},
   "outputs": [],
   "source": [
    "#passing URL\n",
    "URL='https://www.naukri.com/'\n",
    "driver.get(URL)"
   ]
  },
  {
   "cell_type": "code",
   "execution_count": 13,
   "id": "e2c9b9b6",
   "metadata": {},
   "outputs": [],
   "source": [
    "#Getting search Bar\n",
    "search_job=driver.find_element_by_class_name('suggestor-input')\n",
    "search_loc=driver.find_element_by_xpath('/html/body/div/div[2]/div[3]/div/div/div[3]/div/div/div/input')"
   ]
  },
  {
   "cell_type": "code",
   "execution_count": 14,
   "id": "3f5f6e9d",
   "metadata": {},
   "outputs": [],
   "source": [
    "#sending keys\n",
    "search_job.send_keys(\"Data Scientist\")\n",
    "search_loc.send_keys(\"Bangalore\")"
   ]
  },
  {
   "cell_type": "code",
   "execution_count": 15,
   "id": "885b4e35",
   "metadata": {},
   "outputs": [],
   "source": [
    "#getting Search button\n",
    "search_bt=driver.find_element_by_xpath('/html/body/div/div[2]/div[3]/div/div/div[6]')"
   ]
  },
  {
   "cell_type": "code",
   "execution_count": 16,
   "id": "2204286c",
   "metadata": {},
   "outputs": [],
   "source": [
    "#clicking the button\n",
    "search_bt.click()"
   ]
  },
  {
   "cell_type": "code",
   "execution_count": 17,
   "id": "84f5de04",
   "metadata": {},
   "outputs": [],
   "source": [
    "#Extracting job title\n",
    "job_title=driver.find_elements_by_xpath('//a[@class=\"title fw500 ellipsis\"]')\n",
    "#Extracting Location\n",
    "job_location=driver.find_elements_by_xpath('//li[@class=\"fleft grey-text br2 placeHolderLi location\"]')\n",
    "#Extracting Company name\n",
    "comp_name=driver.find_elements_by_xpath('//a[@class=\"subTitle ellipsis fleft\"]')"
   ]
  },
  {
   "cell_type": "code",
   "execution_count": 18,
   "id": "4c885d10",
   "metadata": {},
   "outputs": [],
   "source": [
    "#creating empty lists to fill data\n",
    "jb=[]\n",
    "loc=[]\n",
    "comp=[]\n",
    "for i in job_title:\n",
    "    jb.append(i.text)\n",
    "for i in job_location:\n",
    "    loc.append(i.text)\n",
    "for i in comp_name:\n",
    "    comp.append(i.text)"
   ]
  },
  {
   "cell_type": "code",
   "execution_count": 19,
   "id": "0b71812f",
   "metadata": {},
   "outputs": [
    {
     "name": "stdout",
     "output_type": "stream",
     "text": [
      "20\n",
      "20\n",
      "20\n"
     ]
    }
   ],
   "source": [
    "#checking the length of the lists\n",
    "print(len(comp))\n",
    "print(len(jb))\n",
    "print(len(loc))"
   ]
  },
  {
   "cell_type": "code",
   "execution_count": 20,
   "id": "964055fb",
   "metadata": {},
   "outputs": [
    {
     "data": {
      "text/html": [
       "<div>\n",
       "<style scoped>\n",
       "    .dataframe tbody tr th:only-of-type {\n",
       "        vertical-align: middle;\n",
       "    }\n",
       "\n",
       "    .dataframe tbody tr th {\n",
       "        vertical-align: top;\n",
       "    }\n",
       "\n",
       "    .dataframe thead th {\n",
       "        text-align: right;\n",
       "    }\n",
       "</style>\n",
       "<table border=\"1\" class=\"dataframe\">\n",
       "  <thead>\n",
       "    <tr style=\"text-align: right;\">\n",
       "      <th></th>\n",
       "      <th>Job Title</th>\n",
       "      <th>Location</th>\n",
       "      <th>Company</th>\n",
       "    </tr>\n",
       "  </thead>\n",
       "  <tbody>\n",
       "    <tr>\n",
       "      <th>1</th>\n",
       "      <td>Sr Data Scientist</td>\n",
       "      <td>Bangalore/Bengaluru</td>\n",
       "      <td>Uber</td>\n",
       "    </tr>\n",
       "    <tr>\n",
       "      <th>2</th>\n",
       "      <td>HCL Tech Opening - Lead Data Scientist</td>\n",
       "      <td>Kolkata, Hyderabad/Secunderabad, Pune, Chennai...</td>\n",
       "      <td>HCL</td>\n",
       "    </tr>\n",
       "    <tr>\n",
       "      <th>3</th>\n",
       "      <td>Senior Data Scientist Payments</td>\n",
       "      <td>Bangalore/Bengaluru</td>\n",
       "      <td>AirSeva</td>\n",
       "    </tr>\n",
       "    <tr>\n",
       "      <th>4</th>\n",
       "      <td>Senior Data Scientist (R Programming)</td>\n",
       "      <td>Remote</td>\n",
       "      <td>Ignitho</td>\n",
       "    </tr>\n",
       "    <tr>\n",
       "      <th>5</th>\n",
       "      <td>Data Scientist/Senior Data Scientist - Python</td>\n",
       "      <td>Bangalore/Bengaluru</td>\n",
       "      <td>ApicalGo Consultancy</td>\n",
       "    </tr>\n",
       "    <tr>\n",
       "      <th>6</th>\n",
       "      <td>Senior Data Scientist - Python/Machine Learnin...</td>\n",
       "      <td>Mumbai, Hyderabad/Secunderabad, Pune, Bangalor...</td>\n",
       "      <td>Altimax Business Solutions</td>\n",
       "    </tr>\n",
       "    <tr>\n",
       "      <th>7</th>\n",
       "      <td>Sr . Data Scientist</td>\n",
       "      <td>Bangalore/Bengaluru</td>\n",
       "      <td>Visa</td>\n",
       "    </tr>\n",
       "    <tr>\n",
       "      <th>8</th>\n",
       "      <td>Need Data scientists and data engineers - WFH-...</td>\n",
       "      <td>Hyderabad/Secunderabad, Bangalore/Bengaluru, M...</td>\n",
       "      <td>Covalense Technologies Private Limited</td>\n",
       "    </tr>\n",
       "    <tr>\n",
       "      <th>9</th>\n",
       "      <td>Data Scientist</td>\n",
       "      <td>Bangalore/Bengaluru</td>\n",
       "      <td>AirSeva</td>\n",
       "    </tr>\n",
       "    <tr>\n",
       "      <th>10</th>\n",
       "      <td>Data Scientist</td>\n",
       "      <td>New Delhi, Gurgaon/Gurugram, Bangalore/Bengalu...</td>\n",
       "      <td>Korea Trade Center</td>\n",
       "    </tr>\n",
       "  </tbody>\n",
       "</table>\n",
       "</div>"
      ],
      "text/plain": [
       "                                            Job Title  \\\n",
       "1                                   Sr Data Scientist   \n",
       "2              HCL Tech Opening - Lead Data Scientist   \n",
       "3                      Senior Data Scientist Payments   \n",
       "4               Senior Data Scientist (R Programming)   \n",
       "5       Data Scientist/Senior Data Scientist - Python   \n",
       "6   Senior Data Scientist - Python/Machine Learnin...   \n",
       "7                                 Sr . Data Scientist   \n",
       "8   Need Data scientists and data engineers - WFH-...   \n",
       "9                                      Data Scientist   \n",
       "10                                     Data Scientist   \n",
       "\n",
       "                                             Location  \\\n",
       "1                                 Bangalore/Bengaluru   \n",
       "2   Kolkata, Hyderabad/Secunderabad, Pune, Chennai...   \n",
       "3                                 Bangalore/Bengaluru   \n",
       "4                                              Remote   \n",
       "5                                 Bangalore/Bengaluru   \n",
       "6   Mumbai, Hyderabad/Secunderabad, Pune, Bangalor...   \n",
       "7                                 Bangalore/Bengaluru   \n",
       "8   Hyderabad/Secunderabad, Bangalore/Bengaluru, M...   \n",
       "9                                 Bangalore/Bengaluru   \n",
       "10  New Delhi, Gurgaon/Gurugram, Bangalore/Bengalu...   \n",
       "\n",
       "                                   Company  \n",
       "1                                     Uber  \n",
       "2                                      HCL  \n",
       "3                                  AirSeva  \n",
       "4                                  Ignitho  \n",
       "5                     ApicalGo Consultancy  \n",
       "6               Altimax Business Solutions  \n",
       "7                                     Visa  \n",
       "8   Covalense Technologies Private Limited  \n",
       "9                                  AirSeva  \n",
       "10                      Korea Trade Center  "
      ]
     },
     "execution_count": 20,
     "metadata": {},
     "output_type": "execute_result"
    }
   ],
   "source": [
    "#creating a Dictionary & DataFrame\n",
    "dicts={\"Job Title\":jb,\"Location\":loc,\"Company\":comp}\n",
    "Df=pd.DataFrame(dicts,list(range(1,21)))\n",
    "Df=Df.iloc[:10,:]\n",
    "Df"
   ]
  },
  {
   "cell_type": "markdown",
   "id": "7918b3e3",
   "metadata": {},
   "source": [
    "**Q3: In this question you have to scrape data using the filters available on the webpage as shown below:You have to use the location and salary filter.You have to scrape data for “Data Scientist” designation for first 10 job results.You have to scrape the job-title, job-location, company name, experience required.The location filter to be used is “Delhi/NCR”. The salary filter to be used is “3-6” lakhs**"
   ]
  },
  {
   "cell_type": "code",
   "execution_count": 21,
   "id": "d3f99f99",
   "metadata": {},
   "outputs": [],
   "source": [
    "#connecting to the driver\n",
    "driver=webdriver.Chrome('chromedriver.exe')"
   ]
  },
  {
   "cell_type": "code",
   "execution_count": 22,
   "id": "d60bd908",
   "metadata": {},
   "outputs": [],
   "source": [
    "#Passing URL\n",
    "Url='https://www.naukri.com/'\n",
    "driver.get(Url)"
   ]
  },
  {
   "cell_type": "code",
   "execution_count": 23,
   "id": "a4c45093",
   "metadata": {},
   "outputs": [],
   "source": [
    "#Getting the search bar to feed details\n",
    "search_Job=driver.find_element_by_class_name('suggestor-input')"
   ]
  },
  {
   "cell_type": "code",
   "execution_count": 24,
   "id": "dcaa3585",
   "metadata": {},
   "outputs": [],
   "source": [
    "#sending keys\n",
    "search_Job.send_keys(\"Data Scientist\")"
   ]
  },
  {
   "cell_type": "code",
   "execution_count": 25,
   "id": "ca841716",
   "metadata": {},
   "outputs": [],
   "source": [
    "#Getting the Search button\n",
    "search_B=driver.find_element_by_xpath('/html/body/div/div[2]/div[3]/div/div/div[6]')"
   ]
  },
  {
   "cell_type": "code",
   "execution_count": 26,
   "id": "e2e87adc",
   "metadata": {},
   "outputs": [],
   "source": [
    "#clicking the button\n",
    "search_B.click()"
   ]
  },
  {
   "cell_type": "code",
   "execution_count": 28,
   "id": "6092ca56",
   "metadata": {},
   "outputs": [],
   "source": [
    "#connecting to the filter (location)\n",
    "Chec_Delhi=driver.find_element_by_xpath(\"/html/body/div[1]/div[3]/div[2]/section[1]/div[2]/div[3]/div[2]/div[3]/label/i\")\n",
    "Chec_Delhi.click()"
   ]
  },
  {
   "cell_type": "code",
   "execution_count": 31,
   "id": "5f7b11a5",
   "metadata": {},
   "outputs": [],
   "source": [
    "#connecting to the filter (Salary)\n",
    "Chec_salary=driver.find_element_by_xpath(\"/html/body/div[1]/div[3]/div[2]/section[1]/div[2]/div[4]/div[2]/div[2]/label/i\")\n",
    "Chec_salary.click()"
   ]
  },
  {
   "cell_type": "code",
   "execution_count": 32,
   "id": "0ee26880",
   "metadata": {},
   "outputs": [],
   "source": [
    "#extarcting the required data\n",
    "job_Title=driver.find_elements_by_xpath('//a[@class=\"title fw500 ellipsis\"]')\n",
    "job_location=driver.find_elements_by_xpath('//li[@class=\"fleft grey-text br2 placeHolderLi location\"]')\n",
    "company_name=driver.find_elements_by_xpath('//a[@class=\"subTitle ellipsis fleft\"]')\n",
    "experience_required=driver.find_elements_by_xpath('//li[@class=\"fleft grey-text br2 placeHolderLi experience\"]')"
   ]
  },
  {
   "cell_type": "code",
   "execution_count": 33,
   "id": "996940b5",
   "metadata": {},
   "outputs": [
    {
     "name": "stdout",
     "output_type": "stream",
     "text": [
      "20\n",
      "20\n",
      "20\n",
      "20\n"
     ]
    }
   ],
   "source": [
    "#checking length of lists\n",
    "print(len(job_Title))\n",
    "print(len(job_location))\n",
    "print(len(company_name))\n",
    "print(len(experience_required))"
   ]
  },
  {
   "cell_type": "code",
   "execution_count": 34,
   "id": "585ee6b0",
   "metadata": {},
   "outputs": [],
   "source": [
    "#creating empty lists and feeding data in them\n",
    "jbt=[]\n",
    "jbl=[]\n",
    "cns=[]\n",
    "er=[]\n",
    "for i in job_Title:\n",
    "    jbt.append(i.text)\n",
    "for i in job_location:\n",
    "    jbl.append(i.text)\n",
    "for i in company_name:\n",
    "    cns.append(i.text)\n",
    "for i in experience_required:\n",
    "    er.append(i.text)"
   ]
  },
  {
   "cell_type": "code",
   "execution_count": 35,
   "id": "5aa2d3dc",
   "metadata": {},
   "outputs": [
    {
     "data": {
      "text/html": [
       "<div>\n",
       "<style scoped>\n",
       "    .dataframe tbody tr th:only-of-type {\n",
       "        vertical-align: middle;\n",
       "    }\n",
       "\n",
       "    .dataframe tbody tr th {\n",
       "        vertical-align: top;\n",
       "    }\n",
       "\n",
       "    .dataframe thead th {\n",
       "        text-align: right;\n",
       "    }\n",
       "</style>\n",
       "<table border=\"1\" class=\"dataframe\">\n",
       "  <thead>\n",
       "    <tr style=\"text-align: right;\">\n",
       "      <th></th>\n",
       "      <th>Job Title</th>\n",
       "      <th>Location</th>\n",
       "      <th>Company</th>\n",
       "      <th>Experience</th>\n",
       "    </tr>\n",
       "  </thead>\n",
       "  <tbody>\n",
       "    <tr>\n",
       "      <th>1</th>\n",
       "      <td>Excellent Opportunity For Freshers For AI/ML, ...</td>\n",
       "      <td>Noida, Kolkata, Hyderabad/Secunderabad, Pune, ...</td>\n",
       "      <td>NTT Data</td>\n",
       "      <td>0-0 Yrs</td>\n",
       "    </tr>\n",
       "    <tr>\n",
       "      <th>2</th>\n",
       "      <td>Data Analyst / Data Scientist / Business Analy...</td>\n",
       "      <td>Noida, New Delhi, Delhi / NCR</td>\n",
       "      <td>GABA Consultancy services</td>\n",
       "      <td>0-0 Yrs</td>\n",
       "    </tr>\n",
       "    <tr>\n",
       "      <th>3</th>\n",
       "      <td>Hiring For Senior Data Scientist-Noida</td>\n",
       "      <td>Noida, New Delhi, Greater Noida</td>\n",
       "      <td>Lumiq.ai</td>\n",
       "      <td>2-6 Yrs</td>\n",
       "    </tr>\n",
       "    <tr>\n",
       "      <th>4</th>\n",
       "      <td>Data Scientist</td>\n",
       "      <td>Hyderabad/Secunderabad, Pune, Gurgaon/Gurugram...</td>\n",
       "      <td>Mount Talent Consulting Private Limited</td>\n",
       "      <td>1-4 Yrs</td>\n",
       "    </tr>\n",
       "    <tr>\n",
       "      <th>5</th>\n",
       "      <td>Data scientist- Python</td>\n",
       "      <td>Gurgaon/Gurugram</td>\n",
       "      <td>TeamPlus Staffing Solution Pvt Ltd</td>\n",
       "      <td>3-6 Yrs</td>\n",
       "    </tr>\n",
       "    <tr>\n",
       "      <th>6</th>\n",
       "      <td>Data Scientist _NLP</td>\n",
       "      <td>Bangalore/Bengaluru, Delhi / NCR\\n(WFH during ...</td>\n",
       "      <td>EXL</td>\n",
       "      <td>3-8 Yrs</td>\n",
       "    </tr>\n",
       "    <tr>\n",
       "      <th>7</th>\n",
       "      <td>Data Scientist (freelance)</td>\n",
       "      <td>New Delhi, Delhi</td>\n",
       "      <td>2Coms</td>\n",
       "      <td>2-7 Yrs</td>\n",
       "    </tr>\n",
       "    <tr>\n",
       "      <th>8</th>\n",
       "      <td>Data Scientist - MIND Infotech</td>\n",
       "      <td>Noida</td>\n",
       "      <td>MOTHERSONSUMI INFOTECH &amp; DESIGNS LIMITED</td>\n",
       "      <td>4-8 Yrs</td>\n",
       "    </tr>\n",
       "    <tr>\n",
       "      <th>9</th>\n",
       "      <td>Only Fresher / Python Data Scientist / Trainee...</td>\n",
       "      <td>Noida, New Delhi, Gurgaon/Gurugram</td>\n",
       "      <td>GABA Consultancy services</td>\n",
       "      <td>0-0 Yrs</td>\n",
       "    </tr>\n",
       "    <tr>\n",
       "      <th>10</th>\n",
       "      <td>Lead Data Scientist</td>\n",
       "      <td>Delhi / NCR\\n(WFH during Covid)</td>\n",
       "      <td>Indihire HR Consultants Private Limited</td>\n",
       "      <td>2-4 Yrs</td>\n",
       "    </tr>\n",
       "  </tbody>\n",
       "</table>\n",
       "</div>"
      ],
      "text/plain": [
       "                                            Job Title  \\\n",
       "1   Excellent Opportunity For Freshers For AI/ML, ...   \n",
       "2   Data Analyst / Data Scientist / Business Analy...   \n",
       "3              Hiring For Senior Data Scientist-Noida   \n",
       "4                                      Data Scientist   \n",
       "5                              Data scientist- Python   \n",
       "6                                 Data Scientist _NLP   \n",
       "7                          Data Scientist (freelance)   \n",
       "8                      Data Scientist - MIND Infotech   \n",
       "9   Only Fresher / Python Data Scientist / Trainee...   \n",
       "10                                Lead Data Scientist   \n",
       "\n",
       "                                             Location  \\\n",
       "1   Noida, Kolkata, Hyderabad/Secunderabad, Pune, ...   \n",
       "2                       Noida, New Delhi, Delhi / NCR   \n",
       "3                     Noida, New Delhi, Greater Noida   \n",
       "4   Hyderabad/Secunderabad, Pune, Gurgaon/Gurugram...   \n",
       "5                                    Gurgaon/Gurugram   \n",
       "6   Bangalore/Bengaluru, Delhi / NCR\\n(WFH during ...   \n",
       "7                                    New Delhi, Delhi   \n",
       "8                                               Noida   \n",
       "9                  Noida, New Delhi, Gurgaon/Gurugram   \n",
       "10                    Delhi / NCR\\n(WFH during Covid)   \n",
       "\n",
       "                                     Company Experience  \n",
       "1                                   NTT Data    0-0 Yrs  \n",
       "2                  GABA Consultancy services    0-0 Yrs  \n",
       "3                                   Lumiq.ai    2-6 Yrs  \n",
       "4    Mount Talent Consulting Private Limited    1-4 Yrs  \n",
       "5         TeamPlus Staffing Solution Pvt Ltd    3-6 Yrs  \n",
       "6                                        EXL    3-8 Yrs  \n",
       "7                                      2Coms    2-7 Yrs  \n",
       "8   MOTHERSONSUMI INFOTECH & DESIGNS LIMITED    4-8 Yrs  \n",
       "9                  GABA Consultancy services    0-0 Yrs  \n",
       "10   Indihire HR Consultants Private Limited    2-4 Yrs  "
      ]
     },
     "execution_count": 35,
     "metadata": {},
     "output_type": "execute_result"
    }
   ],
   "source": [
    "#creating dictionary\n",
    "Dct={\"Job Title\":jbt,\"Location\":jbl,\"Company\":cns,\"Experience\":er}\n",
    "DF=pd.DataFrame(Dct,index=list(range(1,21)))\n",
    "DF=DF.iloc[:10,:]\n",
    "DF"
   ]
  },
  {
   "cell_type": "markdown",
   "id": "0880d56b",
   "metadata": {},
   "source": [
    " **Q4.Scrape data of first 100 sunglasses listings on flipkart.com. You have to scrape four attributes:\n",
    "1.Brand\n",
    "2.Product Description\n",
    "3.Price:**"
   ]
  },
  {
   "cell_type": "code",
   "execution_count": 36,
   "id": "7dd7fa28",
   "metadata": {},
   "outputs": [],
   "source": [
    "#connecting to the driver\n",
    "driver=webdriver.Chrome('chromedriver.exe')"
   ]
  },
  {
   "cell_type": "code",
   "execution_count": 37,
   "id": "95853d3b",
   "metadata": {},
   "outputs": [],
   "source": [
    "#passing the URL\n",
    "URl='https://www.flipkart.com/'\n",
    "driver.get(URl)"
   ]
  },
  {
   "cell_type": "code",
   "execution_count": 38,
   "id": "a06b5d75",
   "metadata": {},
   "outputs": [],
   "source": [
    "#closing the bar which pops at starting\n",
    "close_bar=driver.find_element_by_xpath('//button[@class=\"_2KpZ6l _2doB4z\"]')\n",
    "close_bar.click()\n",
    "#extracting the search bar\n",
    "Search_bar=driver.find_element_by_class_name('_3704LK')\n",
    "#sending keys\n",
    "Search_bar.send_keys('Sunglasses')"
   ]
  },
  {
   "cell_type": "code",
   "execution_count": 39,
   "id": "45a9c4c1",
   "metadata": {},
   "outputs": [],
   "source": [
    "#clicking the search button\n",
    "Search_btn=driver.find_element_by_xpath('/html/body/div[1]/div/div[1]/div[1]/div[2]/div[2]/form/div/button')\n",
    "Search_btn.click()"
   ]
  },
  {
   "cell_type": "code",
   "execution_count": 40,
   "id": "cef3ff46",
   "metadata": {},
   "outputs": [
    {
     "name": "stdout",
     "output_type": "stream",
     "text": [
      "Best of Luck\n",
      "First loop Went Well:Good :)\n",
      "Best of Luck\n",
      "Second loop went well\n",
      "Best of Luck\n",
      "Done!!\n"
     ]
    }
   ],
   "source": [
    "#Creating empty lists to feed details and extracting the required details from web-page\n",
    "Pro_name=[]\n",
    "price=[]\n",
    "offer=[]\n",
    "description=[]\n",
    "NEXT=driver.find_element_by_class_name(\"_1LKTO3\")\n",
    "for i in range(3):\n",
    "    print('Best of Luck')\n",
    "    pr_name=driver.find_elements_by_xpath('//div[@class=\"_2WkVRV\"]')\n",
    "    pr_pr=driver.find_elements_by_xpath('//div[@class=\"_30jeq3\"]')\n",
    "    pr_of=driver.find_elements_by_xpath('//div[@class=\"_3Ay6Sb\"]')\n",
    "    pr_desc=driver.find_elements_by_xpath('//a[@class=\"IRpwTa\"]')\n",
    "    for j in range(40):\n",
    "        if len(Pro_name)>100:\n",
    "            break\n",
    "        Pro_name.append(pr_name[j].text)\n",
    "        price.append(pr_pr[j].text)\n",
    "        offer.append(pr_of[j].text)\n",
    "        description.append(pr_desc[j].text)\n",
    "            \n",
    "##clicking the next button for next page             \n",
    "    if i==0:\n",
    "        NEXT.click()\n",
    "        print('First loop Went Well:Good :)')\n",
    "        time.sleep(5)\n",
    "    ##The next button for second page is difeerent so passing that also\n",
    "    elif i==1:\n",
    "        NEXT2=driver.find_element_by_xpath('/html/body/div[1]/div/div[3]/div[1]/div[2]/div[12]/div/div/nav/a[12]')\n",
    "        NEXT2.click()\n",
    "        time.sleep(6)\n",
    "        print('Second loop went well')\n",
    "print('Done!!')"
   ]
  },
  {
   "cell_type": "code",
   "execution_count": 41,
   "id": "d490f0ca",
   "metadata": {},
   "outputs": [
    {
     "name": "stdout",
     "output_type": "stream",
     "text": [
      "101\n",
      "101\n",
      "101\n",
      "101\n"
     ]
    }
   ],
   "source": [
    "#Checking the length of lists \n",
    "print(len(Pro_name))\n",
    "print(len(price))\n",
    "print(len(offer))\n",
    "print(len(description))"
   ]
  },
  {
   "cell_type": "code",
   "execution_count": 42,
   "id": "5543e881",
   "metadata": {},
   "outputs": [],
   "source": [
    "#creating dictionary and dataframe\n",
    "Dictss={\"Product\":Pro_name[:100],\n",
    "        \"Price\":price[:100],\n",
    "        \"Offer Available\":offer[:100],\n",
    "        \"Description\":description[:100]}\n",
    "DFF=pd.DataFrame(Dictss)"
   ]
  },
  {
   "cell_type": "code",
   "execution_count": 43,
   "id": "7bb49b9b",
   "metadata": {},
   "outputs": [
    {
     "data": {
      "text/html": [
       "<div>\n",
       "<style scoped>\n",
       "    .dataframe tbody tr th:only-of-type {\n",
       "        vertical-align: middle;\n",
       "    }\n",
       "\n",
       "    .dataframe tbody tr th {\n",
       "        vertical-align: top;\n",
       "    }\n",
       "\n",
       "    .dataframe thead th {\n",
       "        text-align: right;\n",
       "    }\n",
       "</style>\n",
       "<table border=\"1\" class=\"dataframe\">\n",
       "  <thead>\n",
       "    <tr style=\"text-align: right;\">\n",
       "      <th></th>\n",
       "      <th>Product</th>\n",
       "      <th>Price</th>\n",
       "      <th>Offer Available</th>\n",
       "      <th>Description</th>\n",
       "    </tr>\n",
       "  </thead>\n",
       "  <tbody>\n",
       "    <tr>\n",
       "      <th>0</th>\n",
       "      <td>SRPM</td>\n",
       "      <td>₹198</td>\n",
       "      <td>84% off</td>\n",
       "      <td>UV Protection Wayfarer Sunglasses (50)</td>\n",
       "    </tr>\n",
       "    <tr>\n",
       "      <th>1</th>\n",
       "      <td>SUNBEE</td>\n",
       "      <td>₹253</td>\n",
       "      <td>80% off</td>\n",
       "      <td>UV Protection, Polarized Wayfarer Sunglasses (...</td>\n",
       "    </tr>\n",
       "    <tr>\n",
       "      <th>2</th>\n",
       "      <td>PIRASO</td>\n",
       "      <td>₹229</td>\n",
       "      <td>85% off</td>\n",
       "      <td>UV Protection Aviator Sunglasses (54)</td>\n",
       "    </tr>\n",
       "    <tr>\n",
       "      <th>3</th>\n",
       "      <td>Elligator</td>\n",
       "      <td>₹258</td>\n",
       "      <td>89% off</td>\n",
       "      <td>UV Protection Round Sunglasses (54)</td>\n",
       "    </tr>\n",
       "    <tr>\n",
       "      <th>4</th>\n",
       "      <td>New Specs</td>\n",
       "      <td>₹232</td>\n",
       "      <td>91% off</td>\n",
       "      <td>UV Protection Rectangular Sunglasses (Free Size)</td>\n",
       "    </tr>\n",
       "    <tr>\n",
       "      <th>...</th>\n",
       "      <td>...</td>\n",
       "      <td>...</td>\n",
       "      <td>...</td>\n",
       "      <td>...</td>\n",
       "    </tr>\n",
       "    <tr>\n",
       "      <th>95</th>\n",
       "      <td>Rich Club</td>\n",
       "      <td>₹225</td>\n",
       "      <td>71% off</td>\n",
       "      <td>UV Protection, Mirrored, Gradient Round Sungla...</td>\n",
       "    </tr>\n",
       "    <tr>\n",
       "      <th>96</th>\n",
       "      <td>ROZZETTA CRAFT</td>\n",
       "      <td>₹307</td>\n",
       "      <td>84% off</td>\n",
       "      <td>UV Protection, Gradient Retro Square Sunglasse...</td>\n",
       "    </tr>\n",
       "    <tr>\n",
       "      <th>97</th>\n",
       "      <td>kingsunglasses</td>\n",
       "      <td>₹159</td>\n",
       "      <td>84% off</td>\n",
       "      <td>UV Protection, Mirrored Wayfarer Sunglasses (F...</td>\n",
       "    </tr>\n",
       "    <tr>\n",
       "      <th>98</th>\n",
       "      <td>ROZZETTA CRAFT</td>\n",
       "      <td>₹426</td>\n",
       "      <td>80% off</td>\n",
       "      <td>UV Protection, Riding Glasses Rectangular Sung...</td>\n",
       "    </tr>\n",
       "    <tr>\n",
       "      <th>99</th>\n",
       "      <td>IDEE</td>\n",
       "      <td>₹839</td>\n",
       "      <td>56% off</td>\n",
       "      <td>UV Protection Rectangular Sunglasses (58)</td>\n",
       "    </tr>\n",
       "  </tbody>\n",
       "</table>\n",
       "<p>100 rows × 4 columns</p>\n",
       "</div>"
      ],
      "text/plain": [
       "           Product Price Offer Available  \\\n",
       "0             SRPM  ₹198         84% off   \n",
       "1           SUNBEE  ₹253         80% off   \n",
       "2           PIRASO  ₹229         85% off   \n",
       "3        Elligator  ₹258         89% off   \n",
       "4        New Specs  ₹232         91% off   \n",
       "..             ...   ...             ...   \n",
       "95       Rich Club  ₹225         71% off   \n",
       "96  ROZZETTA CRAFT  ₹307         84% off   \n",
       "97  kingsunglasses  ₹159         84% off   \n",
       "98  ROZZETTA CRAFT  ₹426         80% off   \n",
       "99            IDEE  ₹839         56% off   \n",
       "\n",
       "                                          Description  \n",
       "0              UV Protection Wayfarer Sunglasses (50)  \n",
       "1   UV Protection, Polarized Wayfarer Sunglasses (...  \n",
       "2               UV Protection Aviator Sunglasses (54)  \n",
       "3                 UV Protection Round Sunglasses (54)  \n",
       "4    UV Protection Rectangular Sunglasses (Free Size)  \n",
       "..                                                ...  \n",
       "95  UV Protection, Mirrored, Gradient Round Sungla...  \n",
       "96  UV Protection, Gradient Retro Square Sunglasse...  \n",
       "97  UV Protection, Mirrored Wayfarer Sunglasses (F...  \n",
       "98  UV Protection, Riding Glasses Rectangular Sung...  \n",
       "99          UV Protection Rectangular Sunglasses (58)  \n",
       "\n",
       "[100 rows x 4 columns]"
      ]
     },
     "execution_count": 43,
     "metadata": {},
     "output_type": "execute_result"
    }
   ],
   "source": [
    "DFF"
   ]
  },
  {
   "cell_type": "markdown",
   "id": "aee67e4e",
   "metadata": {},
   "source": [
    "**Q5: Scrape 100 reviews data from flipkart.com for iphone11 phone. You have to go the link:**\n"
   ]
  },
  {
   "cell_type": "code",
   "execution_count": 44,
   "id": "e9c33b77",
   "metadata": {},
   "outputs": [],
   "source": [
    "#connecting to the driver\n",
    "driver=webdriver.Chrome('chromedriver.exe')"
   ]
  },
  {
   "cell_type": "code",
   "execution_count": 45,
   "id": "9d85b907",
   "metadata": {},
   "outputs": [],
   "source": [
    "#passing the URL\n",
    "URL='https://www.flipkart.com/apple-iphone-11-black-64-gb-includes-earpods-power-adapter/p/itm0f37c2240b217?pid=MOBFKCTSVZAXUHGR&lid=LSTMOBFKCTSVZAXUHGREPBFGI&marketplace'\n",
    "driver.get(URL)"
   ]
  },
  {
   "cell_type": "code",
   "execution_count": 46,
   "id": "83ebd518",
   "metadata": {},
   "outputs": [],
   "source": [
    "#clicking the all reviews button\n",
    "R_btn=driver.find_element_by_xpath('/html/body/div[1]/div/div[3]/div[1]/div[2]/div[8]/div/div/div[5]/div/a/div/span')\n",
    "R_btn.click()"
   ]
  },
  {
   "cell_type": "code",
   "execution_count": 47,
   "id": "832095a6",
   "metadata": {},
   "outputs": [
    {
     "name": "stdout",
     "output_type": "stream",
     "text": [
      "Lets go\n",
      "page 1 Done\n",
      "Lets go\n",
      "page 2 Done\n",
      "Lets go\n",
      "page 3 Done\n",
      "Lets go\n",
      "page 4 Done\n",
      "Lets go\n",
      "page 5 Done\n",
      "Lets go\n",
      "page 6 Done\n",
      "Lets go\n",
      "page 7 Done\n",
      "Lets go\n",
      "page 8 Done\n",
      "Lets go\n",
      "page 9 Done\n",
      "Lets go\n",
      "page 10 Done\n",
      "Lets go\n",
      "page 11 Done\n",
      "Lets go\n",
      "page 12 Done\n"
     ]
    }
   ],
   "source": [
    "#Creating empty lists to feed details and extracting the required details from web-page\n",
    "rating=[]\n",
    "Review=[]\n",
    "freview=[]\n",
    "for i in range(12):\n",
    "    rats=driver.find_elements_by_xpath('//div[@class=\"_3LWZlK _1BLPMq\"]')\n",
    "    review=driver.find_elements_by_xpath('//p[@class=\"_2-N8zT\"]')\n",
    "    f_review=driver.find_elements_by_xpath('//div[@class=\"t-ZTKy\"]')\n",
    "    print('Lets go')\n",
    "    for j in range(len(rats)):\n",
    "        if len(rating)>99:\n",
    "            break\n",
    "        elif i==3 and j==2:\n",
    "            continue\n",
    "        elif i==5 and j==1:\n",
    "            continue\n",
    "        elif i==6 and j==1:\n",
    "            continue\n",
    "        elif i==7 and j==1:\n",
    "            continue\n",
    "        elif i==8 and j==9:\n",
    "            continue\n",
    "        elif i==7 and j==4:\n",
    "            continue\n",
    "           \n",
    "        Review.append(review[j].text)\n",
    "        freview.append(f_review[j].text)\n",
    "        rating.append(rats[j].text)\n",
    "    if i==0:\n",
    "        NEXT1=driver.find_element_by_xpath('/html/body/div[1]/div/div[3]/div/div/div[2]/div[13]/div/div/nav/a[11]/span')\n",
    "        NEXT1.click()\n",
    "    else:\n",
    "        NEXT2=driver.find_element_by_xpath('/html/body/div[1]/div/div[3]/div/div/div[2]/div[13]/div/div/nav/a[12]/span')\n",
    "        NEXT2.click()\n",
    "    print(\"page\",i+1,\"Done\")\n",
    "    time.sleep(5)"
   ]
  },
  {
   "cell_type": "code",
   "execution_count": 48,
   "id": "d9a38309",
   "metadata": {},
   "outputs": [
    {
     "name": "stdout",
     "output_type": "stream",
     "text": [
      "100\n",
      "100\n",
      "100\n"
     ]
    }
   ],
   "source": [
    "#checking the length of lists\n",
    "print(len(rating))\n",
    "print(len(Review))\n",
    "print(len(freview))"
   ]
  },
  {
   "cell_type": "code",
   "execution_count": 49,
   "id": "6a475365",
   "metadata": {},
   "outputs": [],
   "source": [
    "#creating the dictionary and dataframe\n",
    "Dicts1={\"Rating\":rating,\"Review\":Review,\"Full Review\":freview}\n",
    "DF1=pd.DataFrame(Dicts1)"
   ]
  },
  {
   "cell_type": "code",
   "execution_count": 50,
   "id": "d36e6824",
   "metadata": {},
   "outputs": [
    {
     "data": {
      "text/html": [
       "<div>\n",
       "<style scoped>\n",
       "    .dataframe tbody tr th:only-of-type {\n",
       "        vertical-align: middle;\n",
       "    }\n",
       "\n",
       "    .dataframe tbody tr th {\n",
       "        vertical-align: top;\n",
       "    }\n",
       "\n",
       "    .dataframe thead th {\n",
       "        text-align: right;\n",
       "    }\n",
       "</style>\n",
       "<table border=\"1\" class=\"dataframe\">\n",
       "  <thead>\n",
       "    <tr style=\"text-align: right;\">\n",
       "      <th></th>\n",
       "      <th>Rating</th>\n",
       "      <th>Review</th>\n",
       "      <th>Full Review</th>\n",
       "    </tr>\n",
       "  </thead>\n",
       "  <tbody>\n",
       "    <tr>\n",
       "      <th>0</th>\n",
       "      <td>5</td>\n",
       "      <td>Brilliant</td>\n",
       "      <td>The Best Phone for the Money\\n\\nThe iPhone 11 ...</td>\n",
       "    </tr>\n",
       "    <tr>\n",
       "      <th>1</th>\n",
       "      <td>5</td>\n",
       "      <td>Simply awesome</td>\n",
       "      <td>Really satisfied with the Product I received.....</td>\n",
       "    </tr>\n",
       "    <tr>\n",
       "      <th>2</th>\n",
       "      <td>5</td>\n",
       "      <td>Best in the market!</td>\n",
       "      <td>Great iPhone very snappy experience as apple k...</td>\n",
       "    </tr>\n",
       "    <tr>\n",
       "      <th>3</th>\n",
       "      <td>5</td>\n",
       "      <td>Perfect product!</td>\n",
       "      <td>Amazing phone with great cameras and better ba...</td>\n",
       "    </tr>\n",
       "    <tr>\n",
       "      <th>4</th>\n",
       "      <td>5</td>\n",
       "      <td>Fabulous!</td>\n",
       "      <td>This is my first iOS phone. I am very happy wi...</td>\n",
       "    </tr>\n",
       "    <tr>\n",
       "      <th>...</th>\n",
       "      <td>...</td>\n",
       "      <td>...</td>\n",
       "      <td>...</td>\n",
       "    </tr>\n",
       "    <tr>\n",
       "      <th>95</th>\n",
       "      <td>5</td>\n",
       "      <td>Mind-blowing purchase</td>\n",
       "      <td>Flipkart honoured on time delivery, I have use...</td>\n",
       "    </tr>\n",
       "    <tr>\n",
       "      <th>96</th>\n",
       "      <td>4</td>\n",
       "      <td>Good quality product</td>\n",
       "      <td>Awesome camera, smooth and fast UI, display is...</td>\n",
       "    </tr>\n",
       "    <tr>\n",
       "      <th>97</th>\n",
       "      <td>5</td>\n",
       "      <td>Fabulous!</td>\n",
       "      <td>Good product nice experience with Flipkart but...</td>\n",
       "    </tr>\n",
       "    <tr>\n",
       "      <th>98</th>\n",
       "      <td>5</td>\n",
       "      <td>Worth every penny</td>\n",
       "      <td>Here is the thing\\n\\nThe only reason why you s...</td>\n",
       "    </tr>\n",
       "    <tr>\n",
       "      <th>99</th>\n",
       "      <td>4</td>\n",
       "      <td>Good quality product</td>\n",
       "      <td>I was torn between the oneplus 8 pro and the i...</td>\n",
       "    </tr>\n",
       "  </tbody>\n",
       "</table>\n",
       "<p>100 rows × 3 columns</p>\n",
       "</div>"
      ],
      "text/plain": [
       "   Rating                 Review  \\\n",
       "0       5              Brilliant   \n",
       "1       5         Simply awesome   \n",
       "2       5    Best in the market!   \n",
       "3       5       Perfect product!   \n",
       "4       5              Fabulous!   \n",
       "..    ...                    ...   \n",
       "95      5  Mind-blowing purchase   \n",
       "96      4   Good quality product   \n",
       "97      5              Fabulous!   \n",
       "98      5      Worth every penny   \n",
       "99      4   Good quality product   \n",
       "\n",
       "                                          Full Review  \n",
       "0   The Best Phone for the Money\\n\\nThe iPhone 11 ...  \n",
       "1   Really satisfied with the Product I received.....  \n",
       "2   Great iPhone very snappy experience as apple k...  \n",
       "3   Amazing phone with great cameras and better ba...  \n",
       "4   This is my first iOS phone. I am very happy wi...  \n",
       "..                                                ...  \n",
       "95  Flipkart honoured on time delivery, I have use...  \n",
       "96  Awesome camera, smooth and fast UI, display is...  \n",
       "97  Good product nice experience with Flipkart but...  \n",
       "98  Here is the thing\\n\\nThe only reason why you s...  \n",
       "99  I was torn between the oneplus 8 pro and the i...  \n",
       "\n",
       "[100 rows x 3 columns]"
      ]
     },
     "execution_count": 50,
     "metadata": {},
     "output_type": "execute_result"
    }
   ],
   "source": [
    "DF1"
   ]
  },
  {
   "cell_type": "markdown",
   "id": "9aaaea3b",
   "metadata": {},
   "source": [
    "**Q6: Scrape data for first 100 sneakers you find when you visit flipkart.com andsearch for “sneakers” in the\n",
    "search field.**\n"
   ]
  },
  {
   "cell_type": "code",
   "execution_count": 51,
   "id": "767e6ad3",
   "metadata": {},
   "outputs": [],
   "source": [
    "#connecting to the driver\n",
    "driver=webdriver.Chrome('chromedriver.exe')"
   ]
  },
  {
   "cell_type": "code",
   "execution_count": 52,
   "id": "e0774d1a",
   "metadata": {},
   "outputs": [],
   "source": [
    "#passing the URL\n",
    "url='https://www.flipkart.com/'\n",
    "driver.get(url)"
   ]
  },
  {
   "cell_type": "code",
   "execution_count": 53,
   "id": "777cf864",
   "metadata": {},
   "outputs": [],
   "source": [
    "#closing the pop up box\n",
    "close_bar=driver.find_element_by_xpath('//button[@class=\"_2KpZ6l _2doB4z\"]')\n",
    "close_bar.click()\n",
    "#extracting the searchg bar\n",
    "Search_bar=driver.find_element_by_class_name('_3704LK')\n",
    "Search_bar.send_keys('Sneakers')"
   ]
  },
  {
   "cell_type": "code",
   "execution_count": 54,
   "id": "68717e1e",
   "metadata": {},
   "outputs": [],
   "source": [
    "#clicking the search button\n",
    "Search_btn=driver.find_element_by_xpath('/html/body/div[1]/div/div[1]/div[1]/div[2]/div[2]/form/div/button')\n",
    "Search_btn.click()"
   ]
  },
  {
   "cell_type": "code",
   "execution_count": 55,
   "id": "f13845c8",
   "metadata": {},
   "outputs": [
    {
     "name": "stdout",
     "output_type": "stream",
     "text": [
      "lets go\n",
      "1 Went well\n",
      "lets go\n",
      "2 Went well\n",
      "lets go\n",
      "3 Went well\n"
     ]
    }
   ],
   "source": [
    "#Creating empty lists to feed details and extracting the required details from web-page\n",
    "Product=[]\n",
    "desc=[]\n",
    "price=[]\n",
    "offer=[]\n",
    "for i in range(3): \n",
    "    print(\"lets go\")\n",
    "    p_name=driver.find_elements_by_xpath('//div[@class=\"_2WkVRV\"]')\n",
    "    p_desc=driver.find_elements_by_xpath('//a[@target=\"_blank\"]')\n",
    "    p_pric=driver.find_elements_by_xpath('//div[@class=\"_30jeq3\"]')\n",
    "    p_off=driver.find_elements_by_xpath('//div[@class=\"_3Ay6Sb\"]')\n",
    "    \n",
    "    for j in range(40):\n",
    "        if len(Product)>99:\n",
    "            break\n",
    "        Product.append(p_name[j].text)\n",
    "        desc.append(p_desc[j].text.strip())\n",
    "        price.append(p_pric[j].text)\n",
    "        offer.append(p_off[j].text)\n",
    "    print(i+1,'Went well')\n",
    "    if i==1 or i==2:\n",
    "        Next2=driver.find_element_by_xpath('/html/body/div[1]/div/div[3]/div[1]/div[2]/div[12]/div/div/nav/a[12]/span')\n",
    "        Next2.click()\n",
    "    else:\n",
    "        time.sleep(2)\n",
    "        Next=driver.find_element_by_xpath('/html/body/div[1]/div/div[3]/div[1]/div[2]/div[12]/div/div/nav/a[11]/span')\n",
    "        Next.click()\n",
    "    time.sleep(5)\n"
   ]
  },
  {
   "cell_type": "code",
   "execution_count": 56,
   "id": "ae252ef3",
   "metadata": {},
   "outputs": [
    {
     "name": "stdout",
     "output_type": "stream",
     "text": [
      "100\n",
      "100\n",
      "100\n",
      "100\n"
     ]
    }
   ],
   "source": [
    "# Checking the length of lists\n",
    "print(len(Product))\n",
    "print(len(desc))\n",
    "print(len(price))\n",
    "print(len(offer))"
   ]
  },
  {
   "cell_type": "code",
   "execution_count": 57,
   "id": "ae8bc009",
   "metadata": {},
   "outputs": [],
   "source": [
    "#craeting the dictionary and dataframe\n",
    "Dt={\"Product\":Product,\"Description\":desc,\"Price\":price,\"Offer Available\":offer}\n",
    "DF_1=pd.DataFrame(Dt)"
   ]
  },
  {
   "cell_type": "code",
   "execution_count": 58,
   "id": "971c5cae",
   "metadata": {},
   "outputs": [
    {
     "data": {
      "text/html": [
       "<div>\n",
       "<style scoped>\n",
       "    .dataframe tbody tr th:only-of-type {\n",
       "        vertical-align: middle;\n",
       "    }\n",
       "\n",
       "    .dataframe tbody tr th {\n",
       "        vertical-align: top;\n",
       "    }\n",
       "\n",
       "    .dataframe thead th {\n",
       "        text-align: right;\n",
       "    }\n",
       "</style>\n",
       "<table border=\"1\" class=\"dataframe\">\n",
       "  <thead>\n",
       "    <tr style=\"text-align: right;\">\n",
       "      <th></th>\n",
       "      <th>Product</th>\n",
       "      <th>Description</th>\n",
       "      <th>Price</th>\n",
       "      <th>Offer Available</th>\n",
       "    </tr>\n",
       "  </thead>\n",
       "  <tbody>\n",
       "    <tr>\n",
       "      <th>0</th>\n",
       "      <td>HIGHLANDER</td>\n",
       "      <td></td>\n",
       "      <td>₹796</td>\n",
       "      <td>60% off</td>\n",
       "    </tr>\n",
       "    <tr>\n",
       "      <th>1</th>\n",
       "      <td>HIGHLANDER</td>\n",
       "      <td>Sneakers For Men</td>\n",
       "      <td>₹796</td>\n",
       "      <td>60% off</td>\n",
       "    </tr>\n",
       "    <tr>\n",
       "      <th>2</th>\n",
       "      <td>Chevit</td>\n",
       "      <td>₹796₹1,99060% off\\nFree delivery</td>\n",
       "      <td>₹649</td>\n",
       "      <td>59% off</td>\n",
       "    </tr>\n",
       "    <tr>\n",
       "      <th>3</th>\n",
       "      <td>World Wear Footwear</td>\n",
       "      <td></td>\n",
       "      <td>₹199</td>\n",
       "      <td>60% off</td>\n",
       "    </tr>\n",
       "    <tr>\n",
       "      <th>4</th>\n",
       "      <td>DUNKASTON</td>\n",
       "      <td>Sneakers For Men</td>\n",
       "      <td>₹339</td>\n",
       "      <td>77% off</td>\n",
       "    </tr>\n",
       "    <tr>\n",
       "      <th>...</th>\n",
       "      <td>...</td>\n",
       "      <td>...</td>\n",
       "      <td>...</td>\n",
       "      <td>...</td>\n",
       "    </tr>\n",
       "    <tr>\n",
       "      <th>95</th>\n",
       "      <td>RapidBox</td>\n",
       "      <td></td>\n",
       "      <td>₹640</td>\n",
       "      <td>35% off</td>\n",
       "    </tr>\n",
       "    <tr>\n",
       "      <th>96</th>\n",
       "      <td>Rzisbo</td>\n",
       "      <td>Sneakers For Men</td>\n",
       "      <td>₹539</td>\n",
       "      <td>46% off</td>\n",
       "    </tr>\n",
       "    <tr>\n",
       "      <th>97</th>\n",
       "      <td>BIRDE</td>\n",
       "      <td>₹259₹69962% off</td>\n",
       "      <td>₹399</td>\n",
       "      <td>60% off</td>\n",
       "    </tr>\n",
       "    <tr>\n",
       "      <th>98</th>\n",
       "      <td>Nilatin</td>\n",
       "      <td></td>\n",
       "      <td>₹649</td>\n",
       "      <td>78% off</td>\n",
       "    </tr>\n",
       "    <tr>\n",
       "      <th>99</th>\n",
       "      <td>RapidBox</td>\n",
       "      <td>Sneakers For Men</td>\n",
       "      <td>₹620</td>\n",
       "      <td>37% off</td>\n",
       "    </tr>\n",
       "  </tbody>\n",
       "</table>\n",
       "<p>100 rows × 4 columns</p>\n",
       "</div>"
      ],
      "text/plain": [
       "                Product                       Description Price  \\\n",
       "0            HIGHLANDER                                    ₹796   \n",
       "1            HIGHLANDER                  Sneakers For Men  ₹796   \n",
       "2                Chevit  ₹796₹1,99060% off\\nFree delivery  ₹649   \n",
       "3   World Wear Footwear                                    ₹199   \n",
       "4             DUNKASTON                  Sneakers For Men  ₹339   \n",
       "..                  ...                               ...   ...   \n",
       "95             RapidBox                                    ₹640   \n",
       "96               Rzisbo                  Sneakers For Men  ₹539   \n",
       "97                BIRDE                   ₹259₹69962% off  ₹399   \n",
       "98              Nilatin                                    ₹649   \n",
       "99             RapidBox                  Sneakers For Men  ₹620   \n",
       "\n",
       "   Offer Available  \n",
       "0          60% off  \n",
       "1          60% off  \n",
       "2          59% off  \n",
       "3          60% off  \n",
       "4          77% off  \n",
       "..             ...  \n",
       "95         35% off  \n",
       "96         46% off  \n",
       "97         60% off  \n",
       "98         78% off  \n",
       "99         37% off  \n",
       "\n",
       "[100 rows x 4 columns]"
      ]
     },
     "execution_count": 58,
     "metadata": {},
     "output_type": "execute_result"
    }
   ],
   "source": [
    "DF_1"
   ]
  },
  {
   "cell_type": "markdown",
   "id": "4aacc6a6",
   "metadata": {},
   "source": [
    "**Q7: Go to the link - https://www.myntra.com/shoes\n",
    "Set Price filter to “Rs. 7149 to Rs. 14099 ” , Color filter to “Black”, as shown inthe below image.\n",
    "And then scrape First 100 shoes data you get. The data should include “Brand” of the shoes , Short Shoe\n",
    "description, price of the shoe as shown in the below image.**"
   ]
  },
  {
   "cell_type": "code",
   "execution_count": 59,
   "id": "36bec7c2",
   "metadata": {},
   "outputs": [],
   "source": [
    "#connecting to the webdriver\n",
    "driver=webdriver.Chrome('chromedriver.exe')"
   ]
  },
  {
   "cell_type": "code",
   "execution_count": 60,
   "id": "9672d312",
   "metadata": {},
   "outputs": [],
   "source": [
    "#passiong the URL\n",
    "url='https://www.myntra.com/shoes '\n",
    "driver.get(url)"
   ]
  },
  {
   "cell_type": "code",
   "execution_count": 61,
   "id": "cac03345",
   "metadata": {},
   "outputs": [],
   "source": [
    "#Clicking the filter button\n",
    "filter_color=driver.find_element_by_xpath('/html/body/div[2]/div/div[1]/main/div[3]/div[1]/section/div/div[6]/ul/li[1]/label/div')\n",
    "filter_color.click()"
   ]
  },
  {
   "cell_type": "code",
   "execution_count": 62,
   "id": "67dad5a2",
   "metadata": {},
   "outputs": [],
   "source": [
    "#Creating empty lists to feed details and getting the requiredx details\n",
    "nm=[]\n",
    "ds=[]\n",
    "pric=[]\n",
    "Next=driver.find_element_by_xpath('/html/body/div[2]/div/div[1]/main/div[3]/div[2]/div/div[2]/section/div[2]/ul/li[12]')\n",
    "for i in range(2):\n",
    "    k=0\n",
    "    Name=driver.find_elements_by_xpath('//h3[@class=\"product-brand\"]')\n",
    "    desc=driver.find_elements_by_xpath('//h4[@class=\"product-product\"]')\n",
    "    price=driver.find_elements_by_xpath('//span[@class=\"product-discountedPrice\"]')\n",
    "    for j in range(50):\n",
    "        nm.append(Name[j].text)\n",
    "        ds.append(desc[j].text)\n",
    "        try:\n",
    "           pric.append(price[j].text)\n",
    "        except:\n",
    "            price_dif=driver.find_elements_by_xpath('//div[@class=\"product-price\"]')\n",
    "            pric.append(price[k].text)\n",
    "            k+=1\n",
    "    if i==1:\n",
    "        break\n",
    "    Next.click()\n",
    "    time.sleep(5)"
   ]
  },
  {
   "cell_type": "code",
   "execution_count": 65,
   "id": "af3ad042",
   "metadata": {},
   "outputs": [],
   "source": [
    "#Creating Dataframe\n",
    "Df=pd.DataFrame()\n",
    "Df[\"Product Name\"]=nm\n",
    "Df[\"Description\"]=ds\n",
    "Df[\"Price\"]=pric"
   ]
  },
  {
   "cell_type": "code",
   "execution_count": 66,
   "id": "1bddd525",
   "metadata": {},
   "outputs": [
    {
     "data": {
      "text/html": [
       "<div>\n",
       "<style scoped>\n",
       "    .dataframe tbody tr th:only-of-type {\n",
       "        vertical-align: middle;\n",
       "    }\n",
       "\n",
       "    .dataframe tbody tr th {\n",
       "        vertical-align: top;\n",
       "    }\n",
       "\n",
       "    .dataframe thead th {\n",
       "        text-align: right;\n",
       "    }\n",
       "</style>\n",
       "<table border=\"1\" class=\"dataframe\">\n",
       "  <thead>\n",
       "    <tr style=\"text-align: right;\">\n",
       "      <th></th>\n",
       "      <th>Product Name</th>\n",
       "      <th>Description</th>\n",
       "      <th>Price</th>\n",
       "    </tr>\n",
       "  </thead>\n",
       "  <tbody>\n",
       "    <tr>\n",
       "      <th>0</th>\n",
       "      <td>Puma</td>\n",
       "      <td>Men Running Shoes</td>\n",
       "      <td>Rs. 3024</td>\n",
       "    </tr>\n",
       "    <tr>\n",
       "      <th>1</th>\n",
       "      <td>Jack &amp; Jones</td>\n",
       "      <td>Men Leather Flat Boots</td>\n",
       "      <td>Rs. 1649</td>\n",
       "    </tr>\n",
       "    <tr>\n",
       "      <th>2</th>\n",
       "      <td>Nike</td>\n",
       "      <td>Men Quest 3 Running Shoes</td>\n",
       "      <td>Rs. 1319</td>\n",
       "    </tr>\n",
       "    <tr>\n",
       "      <th>3</th>\n",
       "      <td>Red Tape</td>\n",
       "      <td>Men Sport Shoes</td>\n",
       "      <td>Rs. 9099</td>\n",
       "    </tr>\n",
       "    <tr>\n",
       "      <th>4</th>\n",
       "      <td>Nike</td>\n",
       "      <td>Men Winflo 7 Running Shoes</td>\n",
       "      <td>Rs. 5395</td>\n",
       "    </tr>\n",
       "    <tr>\n",
       "      <th>...</th>\n",
       "      <td>...</td>\n",
       "      <td>...</td>\n",
       "      <td>...</td>\n",
       "    </tr>\n",
       "    <tr>\n",
       "      <th>95</th>\n",
       "      <td>TRASE</td>\n",
       "      <td>Women Heeled Boots</td>\n",
       "      <td>Rs. 799</td>\n",
       "    </tr>\n",
       "    <tr>\n",
       "      <th>96</th>\n",
       "      <td>Puma</td>\n",
       "      <td>COMET 2 ALT Beta Running Shoes</td>\n",
       "      <td>Rs. 1094</td>\n",
       "    </tr>\n",
       "    <tr>\n",
       "      <th>97</th>\n",
       "      <td>HRX by Hrithik Roshan</td>\n",
       "      <td>Men Running Shoes</td>\n",
       "      <td>Rs. 579</td>\n",
       "    </tr>\n",
       "    <tr>\n",
       "      <th>98</th>\n",
       "      <td>Nike</td>\n",
       "      <td>Kids REVOLUTION Running Shoes</td>\n",
       "      <td>Rs. 1077</td>\n",
       "    </tr>\n",
       "    <tr>\n",
       "      <th>99</th>\n",
       "      <td>H&amp;M</td>\n",
       "      <td>Men Black Sneakers</td>\n",
       "      <td>Rs. 3229</td>\n",
       "    </tr>\n",
       "  </tbody>\n",
       "</table>\n",
       "<p>100 rows × 3 columns</p>\n",
       "</div>"
      ],
      "text/plain": [
       "             Product Name                     Description     Price\n",
       "0                    Puma               Men Running Shoes  Rs. 3024\n",
       "1            Jack & Jones          Men Leather Flat Boots  Rs. 1649\n",
       "2                    Nike       Men Quest 3 Running Shoes  Rs. 1319\n",
       "3                Red Tape                 Men Sport Shoes  Rs. 9099\n",
       "4                    Nike      Men Winflo 7 Running Shoes  Rs. 5395\n",
       "..                    ...                             ...       ...\n",
       "95                  TRASE              Women Heeled Boots   Rs. 799\n",
       "96                   Puma  COMET 2 ALT Beta Running Shoes  Rs. 1094\n",
       "97  HRX by Hrithik Roshan               Men Running Shoes   Rs. 579\n",
       "98                   Nike   Kids REVOLUTION Running Shoes  Rs. 1077\n",
       "99                    H&M              Men Black Sneakers  Rs. 3229\n",
       "\n",
       "[100 rows x 3 columns]"
      ]
     },
     "execution_count": 66,
     "metadata": {},
     "output_type": "execute_result"
    }
   ],
   "source": [
    "Df"
   ]
  },
  {
   "cell_type": "markdown",
   "id": "116216c8",
   "metadata": {},
   "source": [
    "**Q8: Go to webpage https://www.amazon.in/\n",
    "Enter “Laptop” in the search field and then click the search icon.\n",
    "Then set CPU Type filter to “Intel Core i7” and “Intel Core i9” as shown in the below image:**"
   ]
  },
  {
   "cell_type": "code",
   "execution_count": 67,
   "id": "f559b831",
   "metadata": {},
   "outputs": [],
   "source": [
    "#connecting to the driver\n",
    "driver=webdriver.Chrome('chromedriver.exe')"
   ]
  },
  {
   "cell_type": "code",
   "execution_count": 68,
   "id": "7bf6d51b",
   "metadata": {},
   "outputs": [],
   "source": [
    "#passing the URL\n",
    "url='https://www.amazon.in/'\n",
    "driver.get(url)"
   ]
  },
  {
   "cell_type": "code",
   "execution_count": 69,
   "id": "616a4ee6",
   "metadata": {},
   "outputs": [],
   "source": [
    "#Get the search button and sending the keys\n",
    "Search_bar=driver.find_element_by_xpath('/html/body/div[1]/header/div/div[1]/div[2]/div/form/div[2]/div[1]/input')\n",
    "Search_bar.send_keys('Laptop')"
   ]
  },
  {
   "cell_type": "code",
   "execution_count": 70,
   "id": "36c2fddf",
   "metadata": {},
   "outputs": [],
   "source": [
    "#clicking the search button\n",
    "Search_btn=driver.find_element_by_xpath('/html/body/div[1]/header/div/div[1]/div[2]/div/form/div[3]/div/span/input')\n",
    "Search_btn.click()"
   ]
  },
  {
   "cell_type": "code",
   "execution_count": 71,
   "id": "5e310b35",
   "metadata": {},
   "outputs": [],
   "source": [
    "#Get the filter\n",
    "cpui7=driver.find_element_by_xpath('/html/body/div[1]/div[2]/div[1]/div[2]/div/div[3]/span/div[1]/div/div/div[6]/ul[4]/li[13]/span/a/span')"
   ]
  },
  {
   "cell_type": "code",
   "execution_count": 72,
   "id": "e154dafa",
   "metadata": {},
   "outputs": [],
   "source": [
    "#clicking the filter\n",
    "cpui7.click()"
   ]
  },
  {
   "cell_type": "code",
   "execution_count": 73,
   "id": "2924bb24",
   "metadata": {},
   "outputs": [],
   "source": [
    "#Extracting thye required details\n",
    "Title=driver.find_elements_by_xpath('//span[@class=\"a-size-medium a-color-base a-text-normal\"]')\n",
    "Rating=driver.find_elements_by_xpath('//span[@class=\"a-icon-alt\"]')\n",
    "Price=driver.find_elements_by_xpath('//span[@class=\"a-price-whole\"]')"
   ]
  },
  {
   "cell_type": "code",
   "execution_count": 74,
   "id": "fb10c811",
   "metadata": {},
   "outputs": [],
   "source": [
    "#Creating Empty lists to feed details \n",
    "til=[]\n",
    "Rat=[]\n",
    "pric=[]\n",
    "for i in range(len(Title)):\n",
    "    if i==10:\n",
    "        break\n",
    "    else:\n",
    "        til.append(Title[i].text)\n",
    "        Rat.append(Rating[i].get_attribute('textContent'))\n",
    "        pric.append(Price[i].text)"
   ]
  },
  {
   "cell_type": "code",
   "execution_count": 75,
   "id": "2a2ef5fa",
   "metadata": {},
   "outputs": [
    {
     "data": {
      "text/plain": [
       "(10, 10, 10)"
      ]
     },
     "execution_count": 75,
     "metadata": {},
     "output_type": "execute_result"
    }
   ],
   "source": [
    "#checking the length of lists \n",
    "len(til),len(Rat),len(pric)"
   ]
  },
  {
   "cell_type": "code",
   "execution_count": 76,
   "id": "33e4c519",
   "metadata": {},
   "outputs": [
    {
     "data": {
      "text/html": [
       "<div>\n",
       "<style scoped>\n",
       "    .dataframe tbody tr th:only-of-type {\n",
       "        vertical-align: middle;\n",
       "    }\n",
       "\n",
       "    .dataframe tbody tr th {\n",
       "        vertical-align: top;\n",
       "    }\n",
       "\n",
       "    .dataframe thead th {\n",
       "        text-align: right;\n",
       "    }\n",
       "</style>\n",
       "<table border=\"1\" class=\"dataframe\">\n",
       "  <thead>\n",
       "    <tr style=\"text-align: right;\">\n",
       "      <th></th>\n",
       "      <th>Title</th>\n",
       "      <th>Rating</th>\n",
       "      <th>Price</th>\n",
       "    </tr>\n",
       "  </thead>\n",
       "  <tbody>\n",
       "    <tr>\n",
       "      <th>0</th>\n",
       "      <td>LG Gram 16 Ultra-Light Intel Evo 11th Gen Core...</td>\n",
       "      <td>4.4 out of 5 stars</td>\n",
       "      <td>85,990</td>\n",
       "    </tr>\n",
       "    <tr>\n",
       "      <th>1</th>\n",
       "      <td>LG Gram Intel Evo 11th Gen Core i7 17 inches U...</td>\n",
       "      <td>4.5 out of 5 stars</td>\n",
       "      <td>96,999</td>\n",
       "    </tr>\n",
       "    <tr>\n",
       "      <th>2</th>\n",
       "      <td>ASUS VivoBook 14 (2021), 14-inch (35.56 cms) F...</td>\n",
       "      <td>4.4 out of 5 stars</td>\n",
       "      <td>57,490</td>\n",
       "    </tr>\n",
       "    <tr>\n",
       "      <th>3</th>\n",
       "      <td>Mi Notebook Ultra 3.2K Resolution Display Inte...</td>\n",
       "      <td>4.3 out of 5 stars</td>\n",
       "      <td>77,499</td>\n",
       "    </tr>\n",
       "    <tr>\n",
       "      <th>4</th>\n",
       "      <td>LG Gram 16 inches Intel Evo 11th Gen Core i7 U...</td>\n",
       "      <td>4.4 out of 5 stars</td>\n",
       "      <td>89,999</td>\n",
       "    </tr>\n",
       "    <tr>\n",
       "      <th>5</th>\n",
       "      <td>LG Gram Intel Evo 11th Gen Core i7 17 inches U...</td>\n",
       "      <td>4.5 out of 5 stars</td>\n",
       "      <td>96,999</td>\n",
       "    </tr>\n",
       "    <tr>\n",
       "      <th>6</th>\n",
       "      <td>ASUS TUF Gaming F15 (2021), 15.6\" (39.62 cms) ...</td>\n",
       "      <td>5.0 out of 5 stars</td>\n",
       "      <td>89,990</td>\n",
       "    </tr>\n",
       "    <tr>\n",
       "      <th>7</th>\n",
       "      <td>Lenovo ThinkBook Yoga 14s Intel Core i7 11th G...</td>\n",
       "      <td>3.8 out of 5 stars</td>\n",
       "      <td>87,990</td>\n",
       "    </tr>\n",
       "    <tr>\n",
       "      <th>8</th>\n",
       "      <td>Lenovo ThinkBook 13s Intel 11th Gen Core i7 13...</td>\n",
       "      <td>4.0 out of 5 stars</td>\n",
       "      <td>89,990</td>\n",
       "    </tr>\n",
       "    <tr>\n",
       "      <th>9</th>\n",
       "      <td>HP Pavilion 11th Gen Intel Core i7 15.6 inches...</td>\n",
       "      <td>4.2 out of 5 stars</td>\n",
       "      <td>87,990</td>\n",
       "    </tr>\n",
       "  </tbody>\n",
       "</table>\n",
       "</div>"
      ],
      "text/plain": [
       "                                               Title              Rating  \\\n",
       "0  LG Gram 16 Ultra-Light Intel Evo 11th Gen Core...  4.4 out of 5 stars   \n",
       "1  LG Gram Intel Evo 11th Gen Core i7 17 inches U...  4.5 out of 5 stars   \n",
       "2  ASUS VivoBook 14 (2021), 14-inch (35.56 cms) F...  4.4 out of 5 stars   \n",
       "3  Mi Notebook Ultra 3.2K Resolution Display Inte...  4.3 out of 5 stars   \n",
       "4  LG Gram 16 inches Intel Evo 11th Gen Core i7 U...  4.4 out of 5 stars   \n",
       "5  LG Gram Intel Evo 11th Gen Core i7 17 inches U...  4.5 out of 5 stars   \n",
       "6  ASUS TUF Gaming F15 (2021), 15.6\" (39.62 cms) ...  5.0 out of 5 stars   \n",
       "7  Lenovo ThinkBook Yoga 14s Intel Core i7 11th G...  3.8 out of 5 stars   \n",
       "8  Lenovo ThinkBook 13s Intel 11th Gen Core i7 13...  4.0 out of 5 stars   \n",
       "9  HP Pavilion 11th Gen Intel Core i7 15.6 inches...  4.2 out of 5 stars   \n",
       "\n",
       "    Price  \n",
       "0  85,990  \n",
       "1  96,999  \n",
       "2  57,490  \n",
       "3  77,499  \n",
       "4  89,999  \n",
       "5  96,999  \n",
       "6  89,990  \n",
       "7  87,990  \n",
       "8  89,990  \n",
       "9  87,990  "
      ]
     },
     "execution_count": 76,
     "metadata": {},
     "output_type": "execute_result"
    }
   ],
   "source": [
    "#creating dictionary and DataFrame\n",
    "dictss={\"Title\":til,\"Rating\":Rat,\"Price\":pric}\n",
    "DF=pd.DataFrame(dictss)\n",
    "DF"
   ]
  },
  {
   "cell_type": "markdown",
   "id": "4f5564c8",
   "metadata": {},
   "source": [
    "**Q9.Write a python program to scrape data for first 10 job results for Data Scientist Designation in Noida\n",
    "location. You have to scrape company name, No. of days ago when job was posted, Rating of the company.**"
   ]
  },
  {
   "cell_type": "code",
   "execution_count": 77,
   "id": "5df29736",
   "metadata": {},
   "outputs": [],
   "source": [
    "#connecting to the driver\n",
    "driver=webdriver.Chrome('chromedriver.exe')"
   ]
  },
  {
   "cell_type": "code",
   "execution_count": 78,
   "id": "365358f0",
   "metadata": {},
   "outputs": [],
   "source": [
    "#getting the URL\n",
    "url='https://www.ambitionbox.com/'\n",
    "driver.get(url)"
   ]
  },
  {
   "cell_type": "code",
   "execution_count": 79,
   "id": "479e96a0",
   "metadata": {},
   "outputs": [],
   "source": [
    "#clicking the jobs button \n",
    "jobs=driver.find_element_by_xpath('//a[@class=\"link jobs\"]')\n",
    "jobs.click()"
   ]
  },
  {
   "cell_type": "code",
   "execution_count": 80,
   "id": "25d773d9",
   "metadata": {},
   "outputs": [],
   "source": [
    "#Getting The Search Bar & Search Button\n",
    "Search_bar=driver.find_element_by_xpath('/html/body/div/div/div/div[2]/div[1]/div/div/div/div/span/input')\n",
    "Search_btn=driver.find_element_by_xpath('/html/body/div/div/div/div[2]/div[1]/div/div/div/button/span')"
   ]
  },
  {
   "cell_type": "code",
   "execution_count": 81,
   "id": "c9f3ba01",
   "metadata": {},
   "outputs": [],
   "source": [
    "#Sending the Keys and clicking the Button\n",
    "Search_bar.send_keys('Data Scientist')\n",
    "time.sleep(3)\n",
    "Search_btn.click()"
   ]
  },
  {
   "cell_type": "code",
   "execution_count": 84,
   "id": "261d2b7a",
   "metadata": {},
   "outputs": [],
   "source": [
    "#filtering the Content on the basis of location\n",
    "loc_btn=driver.find_element_by_xpath('/html/body/div/div/div/div[2]/div[2]/div[1]/div/div/div/div[2]/div[1]')\n",
    "time.sleep(2)\n",
    "loc_btn.click()"
   ]
  },
  {
   "cell_type": "code",
   "execution_count": 85,
   "id": "d03c9d46",
   "metadata": {},
   "outputs": [],
   "source": [
    "loc_noida=driver.find_element_by_xpath('/html/body/div/div/div/div[2]/div[2]/div[1]/div/div/div/div[2]/div[2]/div/div[3]/div[1]/div[5]/div/label')\n",
    "time.sleep(2)\n",
    "loc_noida.click()"
   ]
  },
  {
   "cell_type": "code",
   "execution_count": 86,
   "id": "54536729",
   "metadata": {},
   "outputs": [],
   "source": [
    "#Creating Empty lists to feed the required Details\n",
    "comp=[]\n",
    "days=[]\n",
    "rati=[]\n",
    "company=driver.find_elements_by_xpath('//a[@class=\"title noclick\"]')\n",
    "days_ago=driver.find_elements_by_xpath('//p[@class=\"company body-medium\"]')\n",
    "ratings=driver.find_elements_by_xpath('//span[@class=\"body-small\"]')\n",
    "for i in range(10):\n",
    "    comp.append(company[i].text)\n",
    "    days.append(days_ago[i].text)\n",
    "    rati.append(ratings[i].get_attribute('textContent'))"
   ]
  },
  {
   "cell_type": "code",
   "execution_count": 87,
   "id": "5726367f",
   "metadata": {},
   "outputs": [
    {
     "data": {
      "text/plain": [
       "(10, 10, 10)"
      ]
     },
     "execution_count": 87,
     "metadata": {},
     "output_type": "execute_result"
    }
   ],
   "source": [
    "#checking the length of lists\n",
    "len(comp),len(days),len(rati)"
   ]
  },
  {
   "cell_type": "code",
   "execution_count": 88,
   "id": "a1af3fa1",
   "metadata": {},
   "outputs": [
    {
     "data": {
      "text/html": [
       "<div>\n",
       "<style scoped>\n",
       "    .dataframe tbody tr th:only-of-type {\n",
       "        vertical-align: middle;\n",
       "    }\n",
       "\n",
       "    .dataframe tbody tr th {\n",
       "        vertical-align: top;\n",
       "    }\n",
       "\n",
       "    .dataframe thead th {\n",
       "        text-align: right;\n",
       "    }\n",
       "</style>\n",
       "<table border=\"1\" class=\"dataframe\">\n",
       "  <thead>\n",
       "    <tr style=\"text-align: right;\">\n",
       "      <th></th>\n",
       "      <th>Company</th>\n",
       "      <th>Posted(Days Ago)</th>\n",
       "      <th>Rating</th>\n",
       "    </tr>\n",
       "  </thead>\n",
       "  <tbody>\n",
       "    <tr>\n",
       "      <th>0</th>\n",
       "      <td>Data Scientist</td>\n",
       "      <td>Amazon Development Centre (India) Pvt. Ltd.</td>\n",
       "      <td>4.2</td>\n",
       "    </tr>\n",
       "    <tr>\n",
       "      <th>1</th>\n",
       "      <td>HCL is hiring - Data Scientist, Data Science E...</td>\n",
       "      <td>HCL Technologies Limited</td>\n",
       "      <td>3.8</td>\n",
       "    </tr>\n",
       "    <tr>\n",
       "      <th>2</th>\n",
       "      <td>HCL Tech Opening - Lead Data Scientist</td>\n",
       "      <td>HCL Technologies Ltd</td>\n",
       "      <td>3.8</td>\n",
       "    </tr>\n",
       "    <tr>\n",
       "      <th>3</th>\n",
       "      <td>Excellent Opportunity For Freshers For AI/ML, ...</td>\n",
       "      <td>NTT DATA GLOBAL DELIVERY SERVICES PRIVATE LIMITED</td>\n",
       "      <td>3.9</td>\n",
       "    </tr>\n",
       "    <tr>\n",
       "      <th>4</th>\n",
       "      <td>Data Scientist -Immediate Hiring -PAN India</td>\n",
       "      <td>Concentrix Services India Private Limited.</td>\n",
       "      <td>4.1</td>\n",
       "    </tr>\n",
       "    <tr>\n",
       "      <th>5</th>\n",
       "      <td>Franklin Templeton - Data Scientist (2-7 yrs)</td>\n",
       "      <td>Franklin Templeton</td>\n",
       "      <td>4.2</td>\n",
       "    </tr>\n",
       "    <tr>\n",
       "      <th>6</th>\n",
       "      <td>Genpact - Data Scientist - Python/.Net (0-3 yrs)</td>\n",
       "      <td>Genpact</td>\n",
       "      <td>4.0</td>\n",
       "    </tr>\n",
       "    <tr>\n",
       "      <th>7</th>\n",
       "      <td>Lead - Data Scientist / Analytics</td>\n",
       "      <td>Sutherland Global Services Inc</td>\n",
       "      <td>3.8</td>\n",
       "    </tr>\n",
       "    <tr>\n",
       "      <th>8</th>\n",
       "      <td>HCL Tech Opening - Senior Data Scientist</td>\n",
       "      <td>HCL Technologies Ltd</td>\n",
       "      <td>3.8</td>\n",
       "    </tr>\n",
       "    <tr>\n",
       "      <th>9</th>\n",
       "      <td>Data Scientist</td>\n",
       "      <td>Cyient Limited</td>\n",
       "      <td>3.7</td>\n",
       "    </tr>\n",
       "  </tbody>\n",
       "</table>\n",
       "</div>"
      ],
      "text/plain": [
       "                                             Company  \\\n",
       "0                                     Data Scientist   \n",
       "1  HCL is hiring - Data Scientist, Data Science E...   \n",
       "2             HCL Tech Opening - Lead Data Scientist   \n",
       "3  Excellent Opportunity For Freshers For AI/ML, ...   \n",
       "4        Data Scientist -Immediate Hiring -PAN India   \n",
       "5      Franklin Templeton - Data Scientist (2-7 yrs)   \n",
       "6   Genpact - Data Scientist - Python/.Net (0-3 yrs)   \n",
       "7                  Lead - Data Scientist / Analytics   \n",
       "8           HCL Tech Opening - Senior Data Scientist   \n",
       "9                                     Data Scientist   \n",
       "\n",
       "                                    Posted(Days Ago) Rating  \n",
       "0        Amazon Development Centre (India) Pvt. Ltd.    4.2  \n",
       "1                           HCL Technologies Limited    3.8  \n",
       "2                               HCL Technologies Ltd    3.8  \n",
       "3  NTT DATA GLOBAL DELIVERY SERVICES PRIVATE LIMITED    3.9  \n",
       "4         Concentrix Services India Private Limited.    4.1  \n",
       "5                                 Franklin Templeton    4.2  \n",
       "6                                            Genpact    4.0  \n",
       "7                     Sutherland Global Services Inc    3.8  \n",
       "8                               HCL Technologies Ltd    3.8  \n",
       "9                                     Cyient Limited    3.7  "
      ]
     },
     "execution_count": 88,
     "metadata": {},
     "output_type": "execute_result"
    }
   ],
   "source": [
    "# Creating DataFrame\n",
    "df=pd.DataFrame()\n",
    "df['Company']=comp\n",
    "df['Posted(Days Ago)']=days\n",
    "df['Rating']=rati\n",
    "df"
   ]
  },
  {
   "cell_type": "markdown",
   "id": "0eacae0f",
   "metadata": {},
   "source": [
    "**Q10: Write a python program to scrape the salary data for Data Scientist designation.\n",
    "You have to scrape Company name, Number of salaries, Average salary, Minsalary, Max Salary.**"
   ]
  },
  {
   "cell_type": "code",
   "execution_count": 89,
   "id": "0a2206bd",
   "metadata": {},
   "outputs": [],
   "source": [
    "#Connecting to the Driver\n",
    "driver=webdriver.Chrome('chromedriver.exe')"
   ]
  },
  {
   "cell_type": "code",
   "execution_count": 90,
   "id": "903e3ded",
   "metadata": {},
   "outputs": [],
   "source": [
    "#Passing the URL\n",
    "url='https://www.ambitionbox.com/'\n",
    "driver.get(url)"
   ]
  },
  {
   "cell_type": "code",
   "execution_count": 91,
   "id": "06453050",
   "metadata": {},
   "outputs": [],
   "source": [
    "#filtering according to salary\n",
    "salary=driver.find_element_by_xpath('//a[@class=\"link salaries\"]')\n",
    "time.sleep(3)\n",
    "salary.click()"
   ]
  },
  {
   "cell_type": "code",
   "execution_count": 92,
   "id": "476589fa",
   "metadata": {},
   "outputs": [],
   "source": [
    "#getting the search bar\n",
    "Search_bar=driver.find_element_by_xpath('/html/body/div/div/div/main/section[1]/div[2]/div[1]/span/input')"
   ]
  },
  {
   "cell_type": "code",
   "execution_count": 93,
   "id": "f5668ade",
   "metadata": {},
   "outputs": [],
   "source": [
    "#sending the keys and clicking the button\n",
    "Search_bar.send_keys('Data Scientist')\n",
    "time.sleep(3)\n",
    "Search_btn=driver.find_element_by_xpath('/html/body/div/div/div/main/section[1]/div[2]/div[1]/span/div/div/div[1]')\n",
    "Search_btn.click()"
   ]
  },
  {
   "cell_type": "code",
   "execution_count": 94,
   "id": "fa8e0bdd",
   "metadata": {},
   "outputs": [],
   "source": [
    "#Creating Empty lists to feed details\n",
    "company_name=[] \n",
    "total_salary=[]\n",
    "average_salary=[] \n",
    "minimum_salary=[]\n",
    "maximum_salary=[]\n",
    "experience_required=[]\n",
    "company=driver.find_elements_by_xpath('//a[@data-v-2bae05f7]')\n",
    "tot_salary=driver.find_elements_by_xpath('//span[@data-v-2bae05f7]')\n",
    "avg_salary=driver.find_elements_by_xpath('//p[@class=\"averageCtc\"]')\n",
    "min_salary=driver.find_elements_by_xpath('//div[@class=\"value body-medium\"]')\n",
    "max_salary=driver.find_elements_by_xpath('//div[@class=\"salary-values\"]')\n",
    "exp_req=driver.find_elements_by_xpath('//div[@class=\"salaries sbold-list-header\"]')\n",
    "for i in range(10):\n",
    "    company_name.append(company[i].text)\n",
    "    average_salary.append(avg_salary[i].text)\n",
    "    minimum_salary.append(min_salary[i].text)\n",
    "    maximum_salary.append('₹'+max_salary[i].text.split('₹')[2])\n",
    "    experience_required.append(exp_req[i].text.split()[3:5])\n",
    "for i in range(20):\n",
    "    if i%2==0:\n",
    "        total_salary.append(tot_salary[i].text)"
   ]
  },
  {
   "cell_type": "code",
   "execution_count": 95,
   "id": "cdad32dd",
   "metadata": {},
   "outputs": [
    {
     "data": {
      "text/plain": [
       "(10, 10, 10, 10, 10, 10)"
      ]
     },
     "execution_count": 95,
     "metadata": {},
     "output_type": "execute_result"
    }
   ],
   "source": [
    "#Checking the length of lists\n",
    "len(company_name),len(average_salary),len(minimum_salary),len(maximum_salary),len(experience_required),len(total_salary)"
   ]
  },
  {
   "cell_type": "code",
   "execution_count": 96,
   "id": "58c2a0a1",
   "metadata": {},
   "outputs": [],
   "source": [
    "#Creating The DataFrame\n",
    "DF=pd.DataFrame()\n",
    "DF['Company']=company_name\n",
    "DF['Experience Required']=experience_required\n",
    "DF['Total Slary Record']=total_salary\n",
    "DF['Minimum Salary']=minimum_salary\n",
    "DF['Maximum Salary']=maximum_salary\n",
    "DF['Average Salary']=average_salary"
   ]
  },
  {
   "cell_type": "code",
   "execution_count": 97,
   "id": "387668e3",
   "metadata": {},
   "outputs": [
    {
     "data": {
      "text/html": [
       "<div>\n",
       "<style scoped>\n",
       "    .dataframe tbody tr th:only-of-type {\n",
       "        vertical-align: middle;\n",
       "    }\n",
       "\n",
       "    .dataframe tbody tr th {\n",
       "        vertical-align: top;\n",
       "    }\n",
       "\n",
       "    .dataframe thead th {\n",
       "        text-align: right;\n",
       "    }\n",
       "</style>\n",
       "<table border=\"1\" class=\"dataframe\">\n",
       "  <thead>\n",
       "    <tr style=\"text-align: right;\">\n",
       "      <th></th>\n",
       "      <th>Experience Required</th>\n",
       "      <th>Total Slary Record</th>\n",
       "      <th>Minimum Salary</th>\n",
       "      <th>Maximum Salary</th>\n",
       "      <th>Average Salary</th>\n",
       "    </tr>\n",
       "    <tr>\n",
       "      <th>Company</th>\n",
       "      <th></th>\n",
       "      <th></th>\n",
       "      <th></th>\n",
       "      <th></th>\n",
       "      <th></th>\n",
       "    </tr>\n",
       "  </thead>\n",
       "  <tbody>\n",
       "    <tr>\n",
       "      <th>Ab Inbev</th>\n",
       "      <td>[3-4, yrs]</td>\n",
       "      <td>based on 28 salaries</td>\n",
       "      <td>₹ 15.0L</td>\n",
       "      <td>₹ 25.5L</td>\n",
       "      <td>₹ 20.3L</td>\n",
       "    </tr>\n",
       "    <tr>\n",
       "      <th>ZS</th>\n",
       "      <td>[2, yrs]</td>\n",
       "      <td>based on 15 salaries</td>\n",
       "      <td>₹ 25.5L</td>\n",
       "      <td>₹ 20.0L</td>\n",
       "      <td>₹ 15.3L</td>\n",
       "    </tr>\n",
       "    <tr>\n",
       "      <th>Optum</th>\n",
       "      <td>[3-4, yrs]</td>\n",
       "      <td>based on 25 salaries</td>\n",
       "      <td>₹ 9.5L</td>\n",
       "      <td>₹ 21.3L</td>\n",
       "      <td>₹ 15.1L</td>\n",
       "    </tr>\n",
       "    <tr>\n",
       "      <th>Fractal Analytics</th>\n",
       "      <td>[2-4, yrs]</td>\n",
       "      <td>based on 77 salaries</td>\n",
       "      <td>₹ 20.0L</td>\n",
       "      <td>₹ 22.0L</td>\n",
       "      <td>₹ 15.1L</td>\n",
       "    </tr>\n",
       "    <tr>\n",
       "      <th>Tiger Analytics</th>\n",
       "      <td>[3-4, yrs]</td>\n",
       "      <td>based on 33 salaries</td>\n",
       "      <td>₹ 11.0L</td>\n",
       "      <td>₹ 20.0L</td>\n",
       "      <td>₹ 14.4L</td>\n",
       "    </tr>\n",
       "    <tr>\n",
       "      <th>UnitedHealth</th>\n",
       "      <td>[2-4, yrs]</td>\n",
       "      <td>based on 52 salaries</td>\n",
       "      <td>₹ 21.3L</td>\n",
       "      <td>₹ 20.5L</td>\n",
       "      <td>₹ 13.9L</td>\n",
       "    </tr>\n",
       "    <tr>\n",
       "      <th>Verizon</th>\n",
       "      <td>[4, yrs]</td>\n",
       "      <td>based on 14 salaries</td>\n",
       "      <td>₹ 9.5L</td>\n",
       "      <td>₹ 21.0L</td>\n",
       "      <td>₹ 12.7L</td>\n",
       "    </tr>\n",
       "    <tr>\n",
       "      <th>Ganit Business Solutions</th>\n",
       "      <td>[4, yrs]</td>\n",
       "      <td>based on 13 salaries</td>\n",
       "      <td>₹ 22.0L</td>\n",
       "      <td>₹ 15.0L</td>\n",
       "      <td>₹ 12.4L</td>\n",
       "    </tr>\n",
       "    <tr>\n",
       "      <th>Ericsson</th>\n",
       "      <td>[3-4, yrs]</td>\n",
       "      <td>based on 43 salaries</td>\n",
       "      <td>₹ 8.3L</td>\n",
       "      <td>₹ 24.0L</td>\n",
       "      <td>₹ 11.9L</td>\n",
       "    </tr>\n",
       "    <tr>\n",
       "      <th>Deloitte</th>\n",
       "      <td>[2-4, yrs]</td>\n",
       "      <td>based on 57 salaries</td>\n",
       "      <td>₹ 20.0L</td>\n",
       "      <td>₹ 23.4L</td>\n",
       "      <td>₹ 11.7L</td>\n",
       "    </tr>\n",
       "  </tbody>\n",
       "</table>\n",
       "</div>"
      ],
      "text/plain": [
       "                         Experience Required    Total Slary Record  \\\n",
       "Company                                                              \n",
       "Ab Inbev                          [3-4, yrs]  based on 28 salaries   \n",
       "ZS                                  [2, yrs]  based on 15 salaries   \n",
       "Optum                             [3-4, yrs]  based on 25 salaries   \n",
       "Fractal Analytics                 [2-4, yrs]  based on 77 salaries   \n",
       "Tiger Analytics                   [3-4, yrs]  based on 33 salaries   \n",
       "UnitedHealth                      [2-4, yrs]  based on 52 salaries   \n",
       "Verizon                             [4, yrs]  based on 14 salaries   \n",
       "Ganit Business Solutions            [4, yrs]  based on 13 salaries   \n",
       "Ericsson                          [3-4, yrs]  based on 43 salaries   \n",
       "Deloitte                          [2-4, yrs]  based on 57 salaries   \n",
       "\n",
       "                         Minimum Salary Maximum Salary Average Salary  \n",
       "Company                                                                \n",
       "Ab Inbev                        ₹ 15.0L        ₹ 25.5L        ₹ 20.3L  \n",
       "ZS                              ₹ 25.5L        ₹ 20.0L        ₹ 15.3L  \n",
       "Optum                            ₹ 9.5L        ₹ 21.3L        ₹ 15.1L  \n",
       "Fractal Analytics               ₹ 20.0L        ₹ 22.0L        ₹ 15.1L  \n",
       "Tiger Analytics                 ₹ 11.0L        ₹ 20.0L        ₹ 14.4L  \n",
       "UnitedHealth                    ₹ 21.3L        ₹ 20.5L        ₹ 13.9L  \n",
       "Verizon                          ₹ 9.5L        ₹ 21.0L        ₹ 12.7L  \n",
       "Ganit Business Solutions        ₹ 22.0L        ₹ 15.0L        ₹ 12.4L  \n",
       "Ericsson                         ₹ 8.3L        ₹ 24.0L        ₹ 11.9L  \n",
       "Deloitte                        ₹ 20.0L        ₹ 23.4L        ₹ 11.7L  "
      ]
     },
     "execution_count": 97,
     "metadata": {},
     "output_type": "execute_result"
    }
   ],
   "source": [
    "DF.set_index('Company')"
   ]
  },
  {
   "cell_type": "code",
   "execution_count": null,
   "id": "9ffd5ee9",
   "metadata": {},
   "outputs": [],
   "source": []
  }
 ],
 "metadata": {
  "kernelspec": {
   "display_name": "Python 3",
   "language": "python",
   "name": "python3"
  },
  "language_info": {
   "codemirror_mode": {
    "name": "ipython",
    "version": 3
   },
   "file_extension": ".py",
   "mimetype": "text/x-python",
   "name": "python",
   "nbconvert_exporter": "python",
   "pygments_lexer": "ipython3",
   "version": "3.8.8"
  }
 },
 "nbformat": 4,
 "nbformat_minor": 5
}
