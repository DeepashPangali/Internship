{
 "cells": [
  {
   "cell_type": "markdown",
   "id": "42e303a2",
   "metadata": {},
   "source": [
    "# Python worksheet 1\n",
    "Assignment received on: 14/02/2022"
   ]
  },
  {
   "cell_type": "markdown",
   "id": "e6a648a5",
   "metadata": {},
   "source": [
    "**Q11.Write a python program to find factorial of a number.**"
   ]
  },
  {
   "cell_type": "code",
   "execution_count": 1,
   "id": "e3e7e7b8",
   "metadata": {},
   "outputs": [
    {
     "name": "stdout",
     "output_type": "stream",
     "text": [
      "Enter the value of n:\n",
      "5\n",
      "The factorial of 5 is 120\n"
     ]
    }
   ],
   "source": [
    "num=int(input(\"Enter the value of n:\\n\"))\n",
    "factorial=1\n",
    "for i in range(1,(num+1)):\n",
    "    factorial=factorial*i\n",
    "    \n",
    "print(f\"The factorial of {num} is {factorial}\")"
   ]
  },
  {
   "cell_type": "markdown",
   "id": "e4577924",
   "metadata": {},
   "source": [
    "**Q12.Write a python program to find whether a number is prime or composite.**"
   ]
  },
  {
   "cell_type": "code",
   "execution_count": 2,
   "id": "f522c553",
   "metadata": {},
   "outputs": [
    {
     "name": "stdout",
     "output_type": "stream",
     "text": [
      "Enter the number:6\n",
      "This is a Composite number\n"
     ]
    }
   ],
   "source": [
    "num=int(input('Enter the number:'))\n",
    "prime=True\n",
    "for i in range(2,num):\n",
    "    if num%i==0:\n",
    "        prime=False\n",
    "        break\n",
    "if prime==True:\n",
    "        print('The is a Prime number')\n",
    "else:\n",
    "    print('This is a Composite number')"
   ]
  },
  {
   "cell_type": "markdown",
   "id": "9b514bde",
   "metadata": {},
   "source": [
    "**Q13. Write a python program to check whether a given string is palindrome or not.**"
   ]
  },
  {
   "cell_type": "code",
   "execution_count": 3,
   "id": "545aeec3",
   "metadata": {},
   "outputs": [
    {
     "name": "stdout",
     "output_type": "stream",
     "text": [
      "Enter Your word to check palindrome:Fliprobo\n",
      "Not a Palindrome\n"
     ]
    }
   ],
   "source": [
    "Word=input('Enter Your word to check palindrome:')#enters input\n",
    "Word=Word.lower()##case correction to avoid case sensitivity\n",
    "i=len(Word)-1\n",
    "j=0\n",
    "palindrome=True\n",
    "while i>=0:\n",
    "    if Word[i]!=Word[j]:\n",
    "        palindrome=False\n",
    "    i=i-1\n",
    "    j=j+1\n",
    "    \n",
    "if palindrome==True:\n",
    "        print('This is a palindrome word:',Word.upper())\n",
    "else:\n",
    "    print(\"Not a Palindrome\")\n",
    "\n",
    "      "
   ]
  },
  {
   "cell_type": "markdown",
   "id": "5e9e6b18",
   "metadata": {},
   "source": [
    "**Q14.Write a Python program to get the third side of right-angled triangle from two given sides.**\n"
   ]
  },
  {
   "cell_type": "code",
   "execution_count": 4,
   "id": "576a0c00",
   "metadata": {},
   "outputs": [
    {
     "name": "stdout",
     "output_type": "stream",
     "text": [
      "You must mention measure of 2 sides with the same unit\n",
      "as per triangles rule hypotnuse must be the longest side\n",
      "Enter Hypotnuse if not known enter 0:\n",
      "12\n",
      "Enter Base if not known enter 0:\n",
      "5\n",
      "Enter Perpendicular if not known enter 0\n",
      ":0\n",
      "The third side is 10.91\n"
     ]
    }
   ],
   "source": [
    "print('''You must mention measure of 2 sides with the same unit\n",
    "as per triangles rule hypotnuse must be the longest side''')\n",
    "\n",
    "a=int(input('Enter Hypotnuse if not known enter 0:\\n'))\n",
    "b=int(input('Enter Base if not known enter 0:\\n'))\n",
    "c=int(input('Enter Perpendicular if not known enter 0\\n:'))\n",
    "\n",
    "if a==0:\n",
    "    print(\"The third side is\",round((b**2+c**2)**(1/2),2))\n",
    "elif b==0:\n",
    "    print(\"The third side is\",round((a**2-c**2)**(1/2),2))\n",
    "elif c==0:\n",
    "    print(\"The third side is\",round((a**2-b**2)**(1/2),2))\n",
    "else:\n",
    "    print(\"You must put 0 in a side \")"
   ]
  },
  {
   "cell_type": "markdown",
   "id": "e14d610c",
   "metadata": {},
   "source": [
    "**Q15.Write a python program to print the frequency of each of the characters present in a given string.**"
   ]
  },
  {
   "cell_type": "code",
   "execution_count": 5,
   "id": "a447494a",
   "metadata": {},
   "outputs": [
    {
     "name": "stdout",
     "output_type": "stream",
     "text": [
      "Enter the word:Fliprobo\n",
      "Enter a letter whose repetition you want to knowo\n",
      "The word o repeated 2 times\n"
     ]
    }
   ],
   "source": [
    "word=input('Enter the word:')\n",
    "re=input(\"Enter a letter whose repetition you want to know\")\n",
    "print(f\"The word {re} repeated {word.count(re)} times\")"
   ]
  },
  {
   "cell_type": "code",
   "execution_count": null,
   "id": "8966bedb",
   "metadata": {},
   "outputs": [],
   "source": []
  }
 ],
 "metadata": {
  "kernelspec": {
   "display_name": "Python 3",
   "language": "python",
   "name": "python3"
  },
  "language_info": {
   "codemirror_mode": {
    "name": "ipython",
    "version": 3
   },
   "file_extension": ".py",
   "mimetype": "text/x-python",
   "name": "python",
   "nbconvert_exporter": "python",
   "pygments_lexer": "ipython3",
   "version": "3.8.8"
  }
 },
 "nbformat": 4,
 "nbformat_minor": 5
}
